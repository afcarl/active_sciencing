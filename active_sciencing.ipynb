{
 "cells": [
  {
   "cell_type": "markdown",
   "metadata": {},
   "source": [
    "## \"Active Sciencing\" with Reusable Workflows\n",
    "\n",
    "By Kyle Cranmer & Lukas Heinrich June 4, 2016\n",
    "\n",
    "Based on earlier work with NYU CDS masters students Manoj Kumar, Phil Yeres, and Michele Ceru and discussions with Brenden Lake and Gilles Louppe.\n",
    "\n",
    "Define:\n",
    "\n",
    " 1) $\\phi$ : Experimental configuration\n",
    "\n",
    " 2) $\\theta$: Parameters that we would like to infer from the experimental data\n",
    "\n",
    " 3) $X$ : Data generated from the experiment or simulator\n",
    "\n"
   ]
  },
  {
   "cell_type": "code",
   "execution_count": 1,
   "metadata": {
    "collapsed": true
   },
   "outputs": [],
   "source": [
    "import numpy as np\n",
    "import matplotlib.pyplot as plt\n",
    "\n",
    "%matplotlib inline\n",
    "\n",
    "import emcee\n",
    "from scipy.stats import norm\n",
    "\n",
    "from prior_dist import Distribution"
   ]
  },
  {
   "cell_type": "markdown",
   "metadata": {},
   "source": [
    "## Step 1: Perform Experiment, Collect Data"
   ]
  },
  {
   "cell_type": "code",
   "execution_count": 2,
   "metadata": {
    "collapsed": true
   },
   "outputs": [],
   "source": [
    "def simulator(theta, phi, n_samples=100):\n",
    "    return np.random.normal(loc=theta, scale=2 + np.sin(phi), size=n_samples)\n",
    "\n",
    "def collect_data(phi, n_samples=100):\n",
    "    # 3.141 is the unknown parameter we are trying to measure\n",
    "    # best experimental setting is 3pi/2 (or any multiple of it)\n",
    "    return simulator(3.141, phi, n_samples)"
   ]
  },
  {
   "cell_type": "markdown",
   "metadata": {},
   "source": [
    "## Step 2: Bayesian Prior → Posterior Update "
   ]
  },
  {
   "cell_type": "code",
   "execution_count": 3,
   "metadata": {
    "collapsed": true
   },
   "outputs": [],
   "source": [
    "def lnprior(theta, prior):\n",
    "    p = prior.pdf(theta)\n",
    "    if p <= 1e-8:\n",
    "        return -np.inf\n",
    "    else:\n",
    "        return np.log(p)\n",
    "\n",
    "def lnlike(theta, x, phi):\n",
    "    #exact likelihood for testing\n",
    "    #mean, std = theta, 2 + np.sin(phi)\n",
    "    #return np.log(norm(mean, std).pdf(x).prod())\n",
    "    \n",
    "    #approx likelihood\n",
    "    simdata = simulator(theta, phi,n_samples=1000)\n",
    "    # this xrange is specific to this simulator\n",
    "    # better to have auto-range, but would need density to correct for range & bin width\n",
    "    xrange = (3-9,3+9) \n",
    "    approx_density = Distribution(name='approx density', range=xrange,samples=simdata)\n",
    "    return np.sum(np.log(approx_density.pdf(x)))\n",
    "\n",
    "def lnprob(theta, x, prior, phi):\n",
    "    lp = lnprior(theta, prior)\n",
    "    if not np.isfinite(lp):\n",
    "        return -np.inf\n",
    "    return lp + lnlike(theta, x, phi)\n",
    "\n",
    "def calculate_posterior(prior, data, phi):\n",
    "    \"\"\"Compute samples from the posterior\"\"\"\n",
    "    ndim, n_walkers = 1, 10\n",
    "    # initialise walkers from the MAP + noise\n",
    "    # XXX alternatively sample a point from the KDE without adding noise?\n",
    "    # XXX not sure if the noise takes us into a region where the prior is zero?\n",
    "    pos = [prior.map() + 1e-1*np.random.randn(ndim) for i in range(n_walkers)]\n",
    "    \n",
    "    sampler = emcee.EnsembleSampler(n_walkers, 1, lnprob, args=(data, prior, phi))\n",
    "    pos, prob, state = sampler.run_mcmc(pos, 100)\n",
    "    \n",
    "    sampler.reset()\n",
    "    pos, prob, state = sampler.run_mcmc(pos, 300)\n",
    "    \n",
    "    return Distribution(prior.name, prior.range, sampler.flatchain)"
   ]
  },
  {
   "cell_type": "markdown",
   "metadata": {},
   "source": [
    "## Step 3: Optimize Experimental Configuration\n",
    "\n",
    "Based on the updated posterior $p(\\theta)$ we will consider future experiments with configuration $\\phi$. For each of those configurations, we will run several simulations of the experiment and perform inference on those simulated datasets to estimate the expected information gain (EIG)\n",
    "\n",
    "\\begin{equation}\n",
    "EIG(\\phi) =  \\int dx d\\theta \\; p(x | \\theta) p(\\theta) \\big [ H\\left [P(\\theta) \\right] - H\\left[ P(\\theta\\, |\\, x) \\right] \\big ] \\approx \\int dx  \\; p(x | \\theta_{MAP}) \\big [ H\\left [P(\\theta) \\right] - H\\left[ P(\\theta\\, |\\, x) \\right] \\big ]\n",
    "\\end{equation}\n",
    "where\n",
    "\\begin{equation}\n",
    "H\\left [P(\\theta) \\right] = \\int P(\\theta) \\log P(\\theta) d\\theta \n",
    "\\end{equation}\n",
    "\n",
    "To efficiently optimize $EIG[\\phi]$ we will use an active learning procedure like Bayesian Optimization."
   ]
  },
  {
   "cell_type": "code",
   "execution_count": 4,
   "metadata": {
    "collapsed": true
   },
   "outputs": [],
   "source": [
    "from multiprocessing import Pool\n",
    "\n",
    "\n",
    "def info_gain(p1, p2):\n",
    "    return p1.entropy() - p2.entropy()\n",
    "\n",
    "def _simulate(args):\n",
    "    theta_map, phi, prior = args\n",
    "    # external workflow provides simulated data\n",
    "    sim_data = simulator(theta_map, phi)\n",
    "\n",
    "    #external workflow uses simulator to provide likelihood \n",
    "    sim_posterior = calculate_posterior(prior, sim_data, phi)\n",
    "    return info_gain(prior, sim_posterior)\n",
    "\n",
    "\n",
    "def expected_information_gain(phi, prior):\n",
    "    'calculate the expression above using workflow for simulations'\n",
    "    n_simulations = 2\n",
    "    \n",
    "    #need to pass in prior through some extra arguments\n",
    "    \n",
    "    # use saddle-point approximation\n",
    "    theta_map = prior.map()\n",
    "\n",
    "    # currently the MCMC sampler is the slower part, which already uses threads so we don't gain\n",
    "    # this should change once we have a more realistic simulator that takes time to run\n",
    "    pool = Pool(4)\n",
    "    eig = pool.map(_simulate, [(theta_map, phi, prior) for i in range(n_simulations)])\n",
    "    pool.close()\n",
    "    pool.join()\n",
    "    return np.mean(eig)"
   ]
  },
  {
   "cell_type": "code",
   "execution_count": 5,
   "metadata": {
    "collapsed": true
   },
   "outputs": [],
   "source": [
    "#use scikit-optimize to optimize phi\n",
    "from skopt import gp_minimize\n",
    "\n",
    "\n",
    "def design_next_experiment(prior):\n",
    "    bounds = [(0., 2*np.pi)]\n",
    "    n_calls = 10\n",
    "    \n",
    "    func = lambda p: -expected_information_gain(p, prior)\n",
    "\n",
    "    # five random points to initialise things, then five using the GP model\n",
    "    # XXX Should we be reusing the random number generator? Means this call eseentially evaluates\n",
    "    # XXX the same values of phi each science iteration\n",
    "    opt_result = gp_minimize(func, bounds, n_random_starts=5, n_calls=n_calls, random_state=4)\n",
    "\n",
    "    return opt_result.x[0], opt_result.x_iters"
   ]
  },
  {
   "cell_type": "markdown",
   "metadata": {},
   "source": [
    "## Run the loop"
   ]
  },
  {
   "cell_type": "markdown",
   "metadata": {},
   "source": [
    "### Initialize"
   ]
  },
  {
   "cell_type": "code",
   "execution_count": 6,
   "metadata": {
    "collapsed": true
   },
   "outputs": [],
   "source": [
    "tempdata = np.random.uniform(0., 2*np.pi, 100000)\n",
    "prior_theta = Distribution('p(theta)', range=(0., 2*np.pi), samples=tempdata)\n",
    "\n",
    "n_science_iterations = 2\n",
    "phi_history = []\n",
    "prior_history = []\n",
    "\n",
    "phi = 1.2345"
   ]
  },
  {
   "cell_type": "code",
   "execution_count": 7,
   "metadata": {},
   "outputs": [
    {
     "name": "stdout",
     "output_type": "stream",
     "text": [
      "('Experimental settings (0):', 1.2345)\n",
      "('next phi:', 4.4913213487917441, \"phi's tested in gp_min:\", [[6.0760276760949736], [3.4383616276357367], [6.1115560790547407], [4.4913213487917441], [4.3839594991052548], [4.7183078795504043], [0.00079973674972127974], [4.5636613686651746], [5.0598045172759409], [1.6600870096535512]])\n",
      "('Experimental settings (1):', 4.4913213487917441)\n",
      "('next phi:', 4.8054131278170589, \"phi's tested in gp_min:\", [[6.0760276760949736], [3.4383616276357367], [6.1115560790547407], [4.4913213487917441], [4.3839594991052548], [4.8054131278170589], [5.1413091056209064], [0.00033772040958837164], [1.716139995042266], [4.7446370847492689]])\n"
     ]
    }
   ],
   "source": [
    "for i_experiment in range(n_science_iterations):\n",
    "    print(\"Experimental settings ({}):\".format(i_experiment), phi)\n",
    "    \n",
    "    phi_history.append(phi)\n",
    "    prior_history.append(prior_theta)\n",
    "\n",
    "    # run experiment with configuration given by phi\n",
    "    real_data = collect_data(phi)\n",
    "\n",
    "    # update new prior = posterior from previous experiment\n",
    "    prior_theta = calculate_posterior(prior_theta, real_data, phi)\n",
    "\n",
    "    #design new experiment given current knowledge\n",
    "    phi, phi_iter = design_next_experiment(prior_theta)\n",
    "    \n",
    "    print('next phi:', phi, \"phi's tested in gp_min:\", phi_iter)"
   ]
  },
  {
   "cell_type": "code",
   "execution_count": 8,
   "metadata": {},
   "outputs": [
    {
     "data": {
      "text/plain": [
       "<matplotlib.text.Text at 0x10e568990>"
      ]
     },
     "execution_count": 8,
     "metadata": {},
     "output_type": "execute_result"
    },
    {
     "data": {
      "image/png": "[encoded data removed]",
      "text/plain": [
       "<matplotlib.figure.Figure at 0x10d628990>"
      ]
     },
     "metadata": {},
     "output_type": "display_data"
    }
   ],
   "source": [
    "plt.plot(phi_history)\n",
    "plt.xlabel('Iteration')\n",
    "plt.ylabel('$\\phi$')"
   ]
  },
  {
   "cell_type": "code",
   "execution_count": 9,
   "metadata": {
    "scrolled": false
   },
   "outputs": [
    {
     "name": "stdout",
     "output_type": "stream",
     "text": [
      "(0, 1.2345)\n"
     ]
    },
    {
     "data": {
      "image/png": "[encoded data removed]",
      "text/plain": [
       "<matplotlib.figure.Figure at 0x10dd42310>"
      ]
     },
     "metadata": {},
     "output_type": "display_data"
    },
    {
     "name": "stdout",
     "output_type": "stream",
     "text": [
      "(1, 4.4913213487917441)\n"
     ]
    },
    {
     "data": {
      "image/png": "[encoded data removed]",
      "text/plain": [
       "<matplotlib.figure.Figure at 0x10e727f90>"
      ]
     },
     "metadata": {},
     "output_type": "display_data"
    }
   ],
   "source": [
    "for n,prior in enumerate(prior_history):\n",
    "    print(n, phi_history[n])\n",
    "    prior.plot()\n",
    "    plt.show()"
   ]
  },
  {
   "cell_type": "markdown",
   "metadata": {},
   "source": [
    "## prototyping approx likelihood"
   ]
  },
  {
   "cell_type": "code",
   "execution_count": 47,
   "metadata": {},
   "outputs": [
    {
     "data": {
      "text/plain": [
       "-560.61151599212963"
      ]
     },
     "execution_count": 47,
     "metadata": {},
     "output_type": "execute_result"
    },
    {
     "data": {
      "image/png": "[encoded data removed]",
      "text/plain": [
       "<matplotlib.figure.Figure at 0x119cdc208>"
      ]
     },
     "metadata": {},
     "output_type": "display_data"
    }
   ],
   "source": [
    "xrange = (3-9,3+3*3)\n",
    "xtest = np.linspace(xrange[0], xrange[1],100)\n",
    "\n",
    "simdata = simulator(theta=3,phi=1.5*np.pi,n_samples=500)\n",
    "approx_density = Distribution(name='approx density', range=xrange,samples=simdata)\n",
    "density = approx_density.pdf(xtest)\n",
    "plt.plot(xtest,density)\n",
    "np.sum(np.log(density))\n",
    "\n",
    "simdata = simulator(theta=3,phi=0,n_samples=500)\n",
    "approx_density = Distribution(name='approx density', range=xrange,samples=simdata)\n",
    "density = approx_density.pdf(xtest)\n",
    "plt.plot(xtest,density)\n",
    "np.sum(np.log(density))\n"
   ]
  },
  {
   "cell_type": "code",
   "execution_count": null,
   "metadata": {
    "collapsed": true
   },
   "outputs": [],
   "source": []
  },
  {
   "cell_type": "code",
   "execution_count": null,
   "metadata": {
    "collapsed": true
   },
   "outputs": [],
   "source": []
  }
 ],
 "metadata": {
  "kernelspec": {
   "display_name": "Python 2",
   "language": "python",
   "name": "python2"
  },
  "language_info": {
   "codemirror_mode": {
    "name": "ipython",
    "version": 2
   },
   "file_extension": ".py",
   "mimetype": "text/x-python",
   "name": "python",
   "nbconvert_exporter": "python",
   "pygments_lexer": "ipython2",
   "version": "2.7.10"
  }
 },
 "nbformat": 4,
 "nbformat_minor": 2
}
