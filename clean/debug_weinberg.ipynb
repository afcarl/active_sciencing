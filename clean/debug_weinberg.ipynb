{
 "cells": [
  {
   "cell_type": "code",
   "execution_count": 1,
   "metadata": {},
   "outputs": [
    {
     "name": "stdout",
     "output_type": "stream",
     "text": [
      "Populating the interactive namespace from numpy and matplotlib\n"
     ]
    }
   ],
   "source": [
    "import weinberg\n",
    "%pylab inline"
   ]
  },
  {
   "cell_type": "code",
   "execution_count": 2,
   "metadata": {},
   "outputs": [
    {
     "data": {
      "text/plain": [
       "[<matplotlib.lines.Line2D at 0x1068281d0>]"
      ]
     },
     "execution_count": 2,
     "metadata": {},
     "output_type": "execute_result"
    },
    {
     "data": {
      "image/png": "[encoded data removed]",
      "text/plain": [
       "<matplotlib.figure.Figure at 0x10676fc50>"
      ]
     },
     "metadata": {},
     "output_type": "display_data"
    }
   ],
   "source": [
    "x = np.linspace(-1,1,1000)\n",
    "plt.plot(x,weinberg.diffxsec(x,47,0.55))"
   ]
  },
  {
   "cell_type": "code",
   "execution_count": 3,
   "metadata": {},
   "outputs": [
    {
     "name": "stdout",
     "output_type": "stream",
     "text": [
      "rej 47 0.55\n",
      "0.922145180649\n"
     ]
    }
   ],
   "source": [
    "sqrtshalf = 47\n",
    "gf = 0.55\n",
    "print 'rej',sqrtshalf,gf\n",
    "ntrials = 0\n",
    "samples = []\n",
    "x = np.linspace(-1,1,num = 1000)\n",
    "maxval = np.max(weinberg.diffxsec(x,sqrtshalf,gf))\n",
    "print maxval"
   ]
  },
  {
   "cell_type": "code",
   "execution_count": 4,
   "metadata": {},
   "outputs": [
    {
     "data": {
      "text/plain": [
       "array([-0.99291591, -0.64270736, -0.94294527, -0.87655778, -0.534688  ,\n",
       "       -0.4398932 , -0.46925407, -0.90094126, -0.83737546, -0.72827599,\n",
       "       -0.9388336 , -0.95207216, -0.40483839, -0.80117332, -0.72100805,\n",
       "       -0.85285107, -0.81372906, -0.84750967, -0.42538595, -0.61796992,\n",
       "       -0.83725717, -0.43879295, -0.05296908, -0.89310939, -0.84526901,\n",
       "       -0.60998738, -0.38871417, -0.1619411 , -0.64144675, -0.49381293,\n",
       "       -0.92864686, -0.85507108, -0.69155881, -0.47969568, -0.9404946 ,\n",
       "       -0.57492541, -0.63703146, -0.82586042, -0.85529935, -0.99169849,\n",
       "       -0.77819396, -0.73759742, -0.76642388, -0.86615303, -0.74006444,\n",
       "       -0.8928116 , -0.79709516, -0.72377194, -0.81506752, -0.70279988,\n",
       "       -0.99058295, -0.66780133, -0.6954052 , -0.89951094, -0.34898365,\n",
       "       -0.52842524, -0.79242037, -0.94458589, -0.03432434, -0.70538722,\n",
       "       -0.20816926, -0.91222452, -0.8931763 , -0.54624845, -0.74479611,\n",
       "       -0.74841225, -0.62354236, -0.60797986, -0.65960257, -0.83360426,\n",
       "       -0.85854378, -0.99595392, -0.60354919, -0.38926995, -0.70153749,\n",
       "       -0.65225449, -0.632626  , -0.56477624, -0.77142601, -0.95109018,\n",
       "       -0.38006303, -0.97998289, -0.39432113, -0.63332007, -0.22362763,\n",
       "       -0.18507239, -0.80823102, -0.45269345, -0.79454381, -0.86025626,\n",
       "       -0.87565514, -0.91406742, -0.39195749, -0.40805876, -0.6449791 ,\n",
       "       -0.55760809, -0.95942551, -0.95517558, -0.60004495, -0.89591232,\n",
       "       -0.91802929, -0.37740896, -0.60823294, -0.98808632, -0.80060027,\n",
       "       -0.12579275, -0.85584843, -0.24913782, -0.45349704, -0.99927735,\n",
       "       -0.86660384, -0.88830502, -0.44338968, -0.49105883, -0.83355111,\n",
       "       -0.4349498 , -0.49335357, -0.90104868, -0.52650843, -0.6924154 ,\n",
       "       -0.13762946, -0.92137908, -0.96133316, -0.98478803, -0.61097359,\n",
       "       -0.59307688, -0.87955188, -0.50247022, -0.91549503, -0.18327143,\n",
       "       -0.70901249, -0.33072746, -0.13900495, -0.85301597, -0.88540939,\n",
       "       -0.76086106, -0.73029894, -0.97714898, -0.76450108, -0.97053068,\n",
       "       -0.28563838, -0.8376632 , -0.75703089, -0.90614317, -0.76997804,\n",
       "       -0.29616384, -0.77269215, -0.35215792, -0.49547869, -0.58996545,\n",
       "       -0.8932738 , -0.89088139, -0.64369145, -0.83075457, -0.93028879,\n",
       "       -0.62559636, -0.75890763, -0.92203141, -0.60446894, -0.94768141,\n",
       "       -0.7728043 , -0.36597699, -0.99406929, -0.9915828 , -0.97572307,\n",
       "       -0.91011721, -0.94773741, -0.40773504, -0.36831054, -0.96429801,\n",
       "       -0.46387698, -0.9795066 , -0.1722712 , -0.4869126 , -0.29931125,\n",
       "       -0.86701903, -0.90571754, -0.30242194, -0.60755202, -0.71999132,\n",
       "       -0.33828524, -0.90030536, -0.21687293, -0.56444928, -0.97037045,\n",
       "       -0.28799488, -0.9606646 , -0.59206596, -0.48820894, -0.40446732,\n",
       "       -0.99772248, -0.27463207, -0.90254384, -0.80027486, -0.52251962,\n",
       "       -0.29178347, -0.76155751, -0.78338621, -0.7334573 , -0.41969731,\n",
       "       -0.88658215, -0.30904638, -0.48967873, -0.74916741, -0.91831364,\n",
       "       -0.89951256, -0.850374  , -0.89685233, -0.19614792, -0.52981576,\n",
       "       -0.85473166, -0.59548858, -0.89255201, -0.68878642, -0.26515753,\n",
       "       -0.56825508, -0.47618711, -0.96568143, -0.83217377, -0.44962346,\n",
       "       -0.09777384, -0.43341905, -0.76852826, -0.43000764, -0.70466734,\n",
       "       -0.73064478, -0.88464288, -0.45524398, -0.54336495, -0.17713675,\n",
       "        0.00166929, -0.40428641, -0.74477875, -0.77823273, -0.88345856,\n",
       "       -0.97343093, -0.87615438, -0.16062173, -0.7901443 , -0.209613  ,\n",
       "       -0.55857323, -0.7121058 , -0.97863103, -0.9677371 , -0.94921212,\n",
       "       -0.52962191, -0.43113295, -0.49302123, -0.96844243, -0.80877108,\n",
       "       -0.9717266 , -0.45386097, -0.89950296, -0.82023855, -0.6488748 ,\n",
       "       -0.89123638, -0.18587378, -0.55078843, -0.26320142, -0.56514524,\n",
       "       -0.7078728 , -0.42206063, -0.65809972, -0.45773844, -0.83739792,\n",
       "       -0.46166076, -0.20443276, -0.61328005, -0.32943949, -0.88512636,\n",
       "       -0.95012821, -0.74173768, -0.89006658, -0.86224449, -0.53238929,\n",
       "       -0.49852562, -0.84458201, -0.72899193, -0.41062316, -0.14889742,\n",
       "       -0.84282863, -0.54714907, -0.11866903, -0.91983476, -0.45012072,\n",
       "       -0.76917508, -0.81676787, -0.92739289, -0.35769725, -0.57080211,\n",
       "       -0.87760511, -0.78860476, -0.94834271, -0.93697658, -0.99266008,\n",
       "       -0.93662321, -0.50952319, -0.32122176, -0.64039208, -0.89939992,\n",
       "       -0.6807079 , -0.52510565, -0.74659784, -0.76144644, -0.28783625,\n",
       "       -0.60728458, -0.64965995, -0.53401501, -0.81683541, -0.93212627,\n",
       "       -0.898212  , -0.46909316, -0.9320219 , -0.35160243, -0.85188105,\n",
       "       -0.38469538, -0.50186312, -0.64152771, -0.69093403, -0.57369499,\n",
       "       -0.62121661, -0.84893228, -0.17349405, -0.64047127, -0.84291996,\n",
       "       -0.34976174, -0.91346072, -0.87336935, -0.13581235, -0.44538856,\n",
       "       -0.55307069, -0.93214708, -0.96865276, -0.97381542, -0.48797845,\n",
       "       -0.86239301, -0.1138461 , -0.30281012, -0.8278322 , -0.53109213,\n",
       "       -0.20262012, -0.70611123, -0.98684308, -0.95615904, -0.93033062,\n",
       "       -0.54990478, -0.99042268, -0.61472368, -0.43290551, -0.88566002,\n",
       "       -0.39475474, -0.83196906, -0.39947912, -0.8363394 , -0.98317003,\n",
       "       -0.46774669, -0.54119912, -0.96315301, -0.58311792, -0.90882051,\n",
       "       -0.65832991, -0.93306717, -0.39399582, -0.31582457, -0.4371617 ,\n",
       "       -0.91045627, -0.3545622 , -0.97673773, -0.80291054, -0.19900002,\n",
       "       -0.08502482, -0.57864086, -0.36316503, -0.58192898, -0.95918974,\n",
       "       -0.37121646, -0.6867985 , -0.80498205, -0.70778901, -0.69913784,\n",
       "       -0.9183673 , -0.84862454, -0.67624914, -0.3009658 , -0.72005409,\n",
       "       -0.73839082, -0.95632133, -0.81162804, -0.77070379, -0.91828952,\n",
       "       -0.52114146, -0.5770887 , -0.97119706, -0.93232418, -0.19161589,\n",
       "       -0.40680835, -0.56851028, -0.97231114, -0.96614208, -0.7025895 ,\n",
       "       -0.798612  , -0.91356413, -0.90853509, -0.84969873, -0.72566014,\n",
       "       -0.95797385, -0.49526024, -0.63052977, -0.64033339, -0.4322167 ,\n",
       "       -0.67078104, -0.33316497, -0.72981173, -0.30225227, -0.96035422,\n",
       "       -0.49796174, -0.69909261, -0.55274335, -0.25092043, -0.6234926 ,\n",
       "       -0.81340613, -0.43145527, -0.61535022, -0.99061896, -0.75688515,\n",
       "       -0.73981878, -0.73106209, -0.68914896, -0.88204267, -0.27252574,\n",
       "       -0.75069469, -0.49478593, -0.80026051, -0.50446819, -0.96438547,\n",
       "       -0.69165   , -0.6998605 , -0.934655  , -0.91558901, -0.87697617,\n",
       "       -0.50788251, -0.76217962, -0.87664485, -0.50514759, -0.57907489,\n",
       "       -0.97716571, -0.94788428, -0.58885817, -0.57983834, -0.75354073,\n",
       "       -0.64543008, -0.46230392, -0.83942507, -0.97277392, -0.78612077,\n",
       "       -0.80094384, -0.27288644, -0.65521856, -0.57003225, -0.72109905,\n",
       "       -0.82761563, -0.69294624, -0.6457134 , -0.19630316, -0.80968029,\n",
       "       -0.75333468, -0.86399764, -0.45025382, -0.8393569 , -0.83910721,\n",
       "       -0.92288567, -0.13656132, -0.85701497, -0.74201205, -0.9407937 ,\n",
       "       -0.24881174, -0.71188974, -0.79157996, -0.74876747, -0.93561838,\n",
       "       -0.55731735, -0.85460937, -0.77712629, -0.92007609, -0.27231368,\n",
       "       -0.1539867 , -0.98720283, -0.96649443, -0.76120483, -0.70059035,\n",
       "       -0.39699657, -0.44891715, -0.73007717, -0.87839975, -0.75052325,\n",
       "       -0.87887737, -0.57684231, -0.66704445, -0.15141116, -0.85149563,\n",
       "       -0.54605246, -0.86007096, -0.8531959 , -0.97355415, -0.78556022,\n",
       "       -0.92351078, -0.82670911, -0.98249626, -0.38448522, -0.30790174,\n",
       "       -0.64464592, -0.78493171, -0.89626291, -0.89498352, -0.220919  ,\n",
       "       -0.81336709, -0.91922735, -0.69258805, -0.414944  , -0.93182413,\n",
       "       -0.37988916, -0.85230901, -0.18156557, -0.30986328, -0.88115495,\n",
       "       -0.74126451, -0.97602102, -0.62508054, -0.4337873 , -0.8012191 ,\n",
       "       -0.27359092, -0.75896343, -0.78791707, -0.1299832 , -0.76532199,\n",
       "       -0.51532081, -0.32856056, -0.78779488, -0.27668428, -0.96656785,\n",
       "       -0.38596842, -0.54933204, -0.24530033, -0.65371013, -0.46468675,\n",
       "       -0.69591907, -0.45992382, -0.61279821, -0.80236906, -0.27656112,\n",
       "       -0.15593584, -0.55747397, -0.47627587, -0.58377928, -0.82012595,\n",
       "       -0.9811823 , -0.7671055 , -0.64101485, -0.95768428, -0.37317035,\n",
       "       -0.87731701, -0.92929483, -0.73048386, -0.78459353, -0.5706174 ,\n",
       "       -0.50585044, -0.85302978, -0.41655989, -0.99468074, -0.56678618,\n",
       "       -0.58456957, -0.64273671, -0.4632455 , -0.53630508, -0.95010494,\n",
       "       -0.59198029, -0.95564424, -0.99906545, -0.9781129 , -0.40186885,\n",
       "       -0.98470985, -0.78247928, -0.80344907, -0.97502269, -0.65713655,\n",
       "       -0.44341065, -0.80756063, -0.11341568, -0.93465003, -0.96698473,\n",
       "       -0.50136798, -0.09234212, -0.94094686, -0.89149087, -0.96763767,\n",
       "       -0.68784718, -0.92535622, -0.84409004, -0.37096353, -0.79710886,\n",
       "       -0.90244167, -0.85541651, -0.80991979, -0.28614171, -0.89969737,\n",
       "       -0.9587344 , -0.70665838, -0.78985619, -0.88714315, -0.31745623,\n",
       "       -0.98408854, -0.47425583, -0.76186711, -0.72700367, -0.92130151,\n",
       "       -0.71318049, -0.99015837, -0.48434177, -0.6921831 , -0.80749442,\n",
       "       -0.39484637, -0.59433163, -0.29850704, -0.71715624, -0.98054893,\n",
       "       -0.56522106, -0.84395873, -0.66866647, -0.82478735, -0.85437068,\n",
       "       -0.61194033, -0.26051703, -0.67790305, -0.92097024, -0.23136433,\n",
       "       -0.96522968, -0.91597234, -0.68576989, -0.20761582, -0.50601295,\n",
       "       -0.4033471 , -0.62339251, -0.11095584, -0.68599211, -0.6583192 ,\n",
       "       -0.86332187, -0.16466957, -0.42643467, -0.54078311, -0.60112341,\n",
       "       -0.63947682, -0.77424498, -0.87853505, -0.99287523, -0.71519793,\n",
       "       -0.73106351, -0.92730086, -0.77539528, -0.57214353, -0.62557547,\n",
       "       -0.96395227, -0.58304259, -0.57699277, -0.87593603, -0.81578253,\n",
       "       -0.93957319, -0.94109737, -0.94453482, -0.07184147, -0.91688791,\n",
       "       -0.62005138, -0.87846114, -0.76241872, -0.6688852 , -0.30752759,\n",
       "       -0.82203047, -0.85190324, -0.70689821, -0.98447152, -0.64626838,\n",
       "       -0.77530693, -0.83131244, -0.74064808, -0.74729761, -0.93519081,\n",
       "       -0.76611576, -0.70918741, -0.575933  , -0.83349567, -0.91726187,\n",
       "       -0.71049051, -0.67271496, -0.47154077, -0.92834714, -0.95565555,\n",
       "       -0.91624035, -0.89924095, -0.53678887, -0.68871097, -0.54978433,\n",
       "       -0.59832093, -0.93152578, -0.3467144 , -0.57760406, -0.70810522,\n",
       "       -0.92166555, -0.31129976, -0.44160366, -0.33218228, -0.74622535,\n",
       "       -0.50773842, -0.58617112, -0.63688197, -0.68064617, -0.51471361,\n",
       "       -0.21966999, -0.47913385, -0.83518973, -0.52715654, -0.54635263,\n",
       "       -0.49146989, -0.6325925 , -0.8935525 , -0.16271364, -0.42830928,\n",
       "       -0.87480874, -0.96369994, -0.44940429, -0.79576781, -0.58146149,\n",
       "       -0.9921172 , -0.52909836, -0.8077946 , -0.63168455, -0.95904409,\n",
       "       -0.12830471, -0.25986135, -0.37897314, -0.54976682, -0.73336978,\n",
       "       -0.37769279, -0.95224317, -0.81797599, -0.69345996, -0.52766002,\n",
       "       -0.704536  , -0.99368039, -0.65588897, -0.89600799, -0.82903883,\n",
       "       -0.61424087, -0.79887945, -0.61161265, -0.99351124, -0.90832749,\n",
       "       -0.16150547, -0.68575282, -0.78515126, -0.88067933, -0.86916306,\n",
       "       -0.67376303, -0.99302042, -0.71460832, -0.12699128, -0.07034031,\n",
       "       -0.6490665 , -0.98976378, -0.13823542, -0.53277351, -0.16926236,\n",
       "       -0.51675444, -0.93155584, -0.76629856, -0.13184617, -0.64950779,\n",
       "       -0.52210916, -0.98214192, -0.77783731, -0.2226675 , -0.96593221,\n",
       "       -0.75298221, -0.10283684, -0.54804761, -0.60185163, -0.78338054,\n",
       "       -0.73677986, -0.97806628, -0.51378453, -0.89262972, -0.31963847,\n",
       "       -0.84866006, -0.99139607, -0.63202544, -0.83178962, -0.34937491,\n",
       "       -0.62503044, -0.96156889, -0.46565247, -0.97009358, -0.25553607,\n",
       "       -0.9480247 , -0.97586539, -0.87541491, -0.41376257, -0.63770168,\n",
       "       -0.82038129, -0.87034036, -0.79289059, -0.69957008, -0.21830706,\n",
       "       -0.48847187, -0.88915326, -0.38500013, -0.23527883, -0.81316816,\n",
       "       -0.14468221, -0.40234829, -0.42160524, -0.82622449, -0.46099452,\n",
       "       -0.92267389, -0.59270273, -0.94446456, -0.6404576 , -0.61441226,\n",
       "       -0.70051037, -0.69344054, -0.36561799, -0.34996083, -0.73180222,\n",
       "       -0.24309764, -0.74827627, -0.5779031 , -0.71273539, -0.9919892 ,\n",
       "       -0.26916728, -0.98924172, -0.63359157, -0.88571964, -0.34644599,\n",
       "       -0.87932455, -0.40540219, -0.54644218, -0.96453709, -0.33850227,\n",
       "       -0.61469929, -0.87686884, -0.94767393, -0.88724587, -0.7581357 ,\n",
       "       -0.99632377, -0.82647777, -0.78895089, -0.69417696, -0.96944043,\n",
       "       -0.98429143, -0.46068583, -0.64690044, -0.26005262, -0.24905913,\n",
       "       -0.43234575, -0.78968424, -0.45182191, -0.85845925, -0.84075321,\n",
       "       -0.52523693, -0.77768603, -0.72476818, -0.76967818, -0.38254474,\n",
       "       -0.40943166, -0.87570363, -0.50431573, -0.97798015, -0.90899561,\n",
       "       -0.79657   , -0.86873835, -0.88140877, -0.80693469, -0.31081217,\n",
       "       -0.55717243, -0.4442796 , -0.9442077 , -0.22335975, -0.20730775,\n",
       "       -0.1856967 , -0.25358506, -0.28046795, -0.23673885, -0.76910432,\n",
       "       -0.63182995, -0.64740255, -0.80178841, -0.87221328, -0.84584581,\n",
       "       -0.99900893, -0.94002058, -0.66173674, -0.80457866, -0.46395117,\n",
       "       -0.62642109, -0.55409639, -0.22453202, -0.5953769 , -0.46559951,\n",
       "       -0.2672453 , -0.29237671, -0.76329822, -0.94030591, -0.49009162,\n",
       "       -0.57977943, -0.82223358, -0.36803635, -0.53874294, -0.60321514,\n",
       "       -0.03693111, -0.93562468, -0.95996867, -0.66027372, -0.64605059,\n",
       "       -0.98729101, -0.51739583, -0.48760604, -0.78814686, -0.40048465,\n",
       "       -0.88244333, -0.65621812, -0.46892232, -0.05993674, -0.9852562 ,\n",
       "       -0.85458394, -0.68555233, -0.92698566, -0.68732359, -0.35511547,\n",
       "       -0.91886835, -0.89170672, -0.92290347, -0.99996884, -0.77459295,\n",
       "       -0.58080068, -0.79600161, -0.93536442, -0.82584774, -0.96624745,\n",
       "       -0.80379355, -0.63539324, -0.74552316, -0.87623334, -0.82838109,\n",
       "       -0.91559969, -0.56653511, -0.88681299, -0.57409733, -0.47108911,\n",
       "       -0.93751098, -0.9522507 , -0.78846766, -0.93928427, -0.51007888,\n",
       "       -0.95007068, -0.3118823 , -0.52620746, -0.87174664, -0.95000602,\n",
       "       -0.71408304, -0.26675404, -0.17580299, -0.67787031, -0.80239386,\n",
       "       -0.7468356 , -0.77609573, -0.82058896, -0.78460746, -0.63560266,\n",
       "       -0.56608266, -0.24497853, -0.89881983, -0.94330388, -0.47139391,\n",
       "       -0.47446985, -0.69881469, -0.89761353, -0.52287749, -0.67016818,\n",
       "       -0.59485876, -0.34637524, -0.832787  , -0.4917418 , -0.35124223,\n",
       "       -0.600464  , -0.92517448, -0.94923899, -0.23219144, -0.73609044,\n",
       "       -0.25526748, -0.73947436, -0.4343964 , -0.69402362, -0.80017627])"
      ]
     },
     "execution_count": 4,
     "metadata": {},
     "output_type": "execute_result"
    }
   ],
   "source": [
    "weinberg.rej_sample_costheta(1000,0.55,47)"
   ]
  },
  {
   "cell_type": "code",
   "execution_count": null,
   "metadata": {
    "collapsed": true
   },
   "outputs": [],
   "source": []
  },
  {
   "cell_type": "code",
   "execution_count": 6,
   "metadata": {},
   "outputs": [
    {
     "name": "stdout",
     "output_type": "stream",
     "text": [
      ".."
     ]
    }
   ],
   "source": [
    "import sys\n",
    "sys.stdout.write('.')\n",
    "sys.stdout.write('.')"
   ]
  },
  {
   "cell_type": "code",
   "execution_count": null,
   "metadata": {
    "collapsed": true
   },
   "outputs": [],
   "source": []
  }
 ],
 "metadata": {
  "kernelspec": {
   "display_name": "Python 2",
   "language": "python",
   "name": "python2"
  },
  "language_info": {
   "codemirror_mode": {
    "name": "ipython",
    "version": 2
   },
   "file_extension": ".py",
   "mimetype": "text/x-python",
   "name": "python",
   "nbconvert_exporter": "python",
   "pygments_lexer": "ipython2",
   "version": "2.7.10"
  }
 },
 "nbformat": 4,
 "nbformat_minor": 2
}
