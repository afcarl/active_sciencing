{
 "cells": [
  {
   "cell_type": "code",
   "execution_count": 1,
   "metadata": {
    "collapsed": false
   },
   "outputs": [
    {
     "data": {
      "application/javascript": [
       "require.config({paths: {\n",
       "        vis: \"http://cdnjs.cloudflare.com/ajax/libs/vis/4.17.0/vis\",\n",
       "        yadage: \"https://rawgit.com/lukasheinrich/yadage-ipython/master/yadagealpha\"\n",
       "    }\n",
       "});"
      ],
      "text/plain": [
       "<IPython.core.display.Javascript object>"
      ]
     },
     "metadata": {},
     "output_type": "display_data"
    }
   ],
   "source": [
    "%%javascript\n",
    "require.config({paths: {\n",
    "        vis: \"http://cdnjs.cloudflare.com/ajax/libs/vis/4.17.0/vis\",\n",
    "        yadage: \"https://rawgit.com/lukasheinrich/yadage-ipython/master/yadage\"\n",
    "    }\n",
    "});"
   ]
  },
  {
   "cell_type": "code",
   "execution_count": 2,
   "metadata": {
    "collapsed": true
   },
   "outputs": [],
   "source": [
    "import shutil\n",
    "import os\n",
    "import logging\n",
    "\n",
    "import yadage_widget\n",
    "import yadage.steering_object\n",
    "from yadage.clihelpers import setupbackend_fromstring, prepare_workdir_from_archive"
   ]
  },
  {
   "cell_type": "markdown",
   "metadata": {},
   "source": [
    "## prepare workflow"
   ]
  },
  {
   "cell_type": "code",
   "execution_count": 3,
   "metadata": {
    "collapsed": true
   },
   "outputs": [],
   "source": [
    "repolocation = 'https://raw.githubusercontent.com/lukasheinrich/weinberg-exp/master/example_yadage'\n",
    "workdir = '/srv/workerdata/ipythonwork'\n",
    "try:\n",
    "    shutil.rmtree(workdir)\n",
    "except OSError:\n",
    "    pass\n",
    "finally:\n",
    "    prepare_workdir_from_archive(\n",
    "        workdir,\n",
    "        '{}/input.zip'.format(repolocation)\n",
    "    )"
   ]
  },
  {
   "cell_type": "code",
   "execution_count": 4,
   "metadata": {
    "collapsed": true
   },
   "outputs": [],
   "source": [
    "ys = yadage.steering_object.YadageSteering()\n",
    "ys.prepare_workdir(workdir, accept_existing_workdir = True)\n",
    "\n",
    "initdata = {\n",
    "        'nevents':10000,\n",
    "        'seeds':[1,2,3],\n",
    "        'runcardtempl':'run_card.templ',\n",
    "        'proccardtempl':'sm_proc_card.templ',\n",
    "        'paramcardtempl':'param_card.templ',\n",
    "        'sqrtshalf':45,\n",
    "        'polbeam1':0,\n",
    "        'polbeam2':0,\n",
    "        'Gf': 1.766390e-05\n",
    "}\n",
    "ys.init_workflow(\n",
    "    'rootflow.yml',\n",
    "    'github:lukasheinrich/weinberg-exp:example_yadage',\n",
    "    initdata, initdir = '{}/workdir/init'.format(workdir)\n",
    ")\n"
   ]
  },
  {
   "cell_type": "code",
   "execution_count": 5,
   "metadata": {
    "collapsed": false
   },
   "outputs": [
    {
     "data": {
      "application/vnd.jupyter.widget-view+json": {
       "model_id": "8eb58d983727474bbfaff23ed6818222"
      }
     },
     "metadata": {},
     "output_type": "display_data"
    }
   ],
   "source": [
    "ui = yadage_widget.WorkflowWidget(ys.controller.adageobj)\n",
    "ys.adage_argument(additional_trackers = [ui.adagetracker])\n",
    "ui"
   ]
  },
  {
   "cell_type": "markdown",
   "metadata": {},
   "source": [
    "## Execute Workflow"
   ]
  },
  {
   "cell_type": "code",
   "execution_count": 6,
   "metadata": {
    "collapsed": true
   },
   "outputs": [],
   "source": [
    "backend = setupbackend_fromstring('celery')\n",
    "ys.run_adage(backend)"
   ]
  },
  {
   "cell_type": "code",
   "execution_count": null,
   "metadata": {
    "collapsed": true
   },
   "outputs": [],
   "source": []
  }
 ],
 "metadata": {
  "kernelspec": {
   "display_name": "Python 2",
   "language": "python",
   "name": "python2"
  },
  "language_info": {
   "codemirror_mode": {
    "name": "ipython",
    "version": 2
   },
   "file_extension": ".py",
   "mimetype": "text/x-python",
   "name": "python",
   "nbconvert_exporter": "python",
   "pygments_lexer": "ipython2",
   "version": "2.7.10"
  }
 },
 "nbformat": 4,
 "nbformat_minor": 2
}
