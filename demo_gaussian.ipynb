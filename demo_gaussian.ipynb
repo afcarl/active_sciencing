{
 "cells": [
  {
   "cell_type": "code",
   "execution_count": 1,
   "metadata": {},
   "outputs": [
    {
     "name": "stdout",
     "output_type": "stream",
     "text": [
      "Populating the interactive namespace from numpy and matplotlib\n"
     ]
    }
   ],
   "source": [
    "%pylab inline"
   ]
  },
  {
   "cell_type": "code",
   "execution_count": 2,
   "metadata": {
    "collapsed": true
   },
   "outputs": [],
   "source": [
    "import distr\n",
    "import common\n",
    "import plots"
   ]
  },
  {
   "cell_type": "code",
   "execution_count": 5,
   "metadata": {},
   "outputs": [],
   "source": [
    "import models.model_gaussian as model"
   ]
  },
  {
   "cell_type": "code",
   "execution_count": 12,
   "metadata": {
    "collapsed": true
   },
   "outputs": [],
   "source": [
    "science_ndata = 20\n",
    "science_theta_nature = 1.0"
   ]
  },
  {
   "cell_type": "code",
   "execution_count": 7,
   "metadata": {
    "collapsed": true
   },
   "outputs": [],
   "source": [
    "def collect_data(phi,ndata):\n",
    "    print 'Taking Data...', science_theta_nature,phi,ndata\n",
    "    return model.simulator(science_theta_nature,phi,ndata)"
   ]
  },
  {
   "cell_type": "code",
   "execution_count": 8,
   "metadata": {
    "collapsed": true
   },
   "outputs": [],
   "source": [
    "def calculate_posterior(prior,data,phi):\n",
    "    print 'Calculate Posterior...'\n",
    "    \n",
    "    posterior = common.calculate_posterior(\n",
    "                            prior,data,phi,\n",
    "                            lnprob_args = model.details_likelihood_settings,\n",
    "                            n_chainlen = 50\n",
    "    )\n",
    "    maximum_a_post = posterior.map(model.details_map_bins)\n",
    "    \n",
    "    print 'Best Theta: ', maximum_a_post\n",
    "    return posterior, maximum_a_post"
   ]
  },
  {
   "cell_type": "code",
   "execution_count": 9,
   "metadata": {
    "collapsed": true
   },
   "outputs": [],
   "source": [
    "def design_next_experiment(prior):\n",
    "    print 'Design Next Experiment...'\n",
    "    \n",
    "    eig_kwargs = {'emcee_kwargs' : {\n",
    "                      'n_chainlen': 50,\n",
    "                      'lnprob_args': model.details_likelihood_settings},\n",
    "                  'sim_n_data': science_ndata,\n",
    "                  'map_bins': model.details_map_bins}\n",
    "    res_gp   = common.design_next_experiment_bayesopt(prior,model.phi_range,eig_kwargs, n_totalcalls = 7)\n",
    "    res_next_phi = res_gp[0].x[0]\n",
    "    \n",
    "    print 'Next Phi: ', res_next_phi\n",
    "    return res_gp,res_next_phi"
   ]
  },
  {
   "cell_type": "code",
   "execution_count": 10,
   "metadata": {},
   "outputs": [
    {
     "data": {
      "application/vnd.jupyter.widget-view+json": {
       "model_id": "c9ba1cf780c3410e80c0ad60f2ac3489"
      }
     },
     "metadata": {},
     "output_type": "display_data"
    }
   ],
   "source": [
    "import science_loop_widget\n",
    "import yadage_widget\n",
    "from ipywidgets import widgets\n",
    "science_wdg = science_loop_widget.loopwidget()\n",
    "collect_ui  = yadage_widget.WorkflowWidget(None)\n",
    "widgets.HBox([science_wdg.view,collect_ui])"
   ]
  },
  {
   "cell_type": "markdown",
   "metadata": {},
   "source": [
    "# Running the Science Loop"
   ]
  },
  {
   "cell_type": "code",
   "execution_count": 11,
   "metadata": {
    "scrolled": false
   },
   "outputs": [
    {
     "name": "stdout",
     "output_type": "stream",
     "text": [
      "Taking Data... 1.0 -1 20\n",
      "Calculate Posterior...\n",
      "Best Theta:  1.3\n",
      "Design Next Experiment...\n",
      "2017-06-09 10:12:09.416008 EIG via 4 parallel experiments with [theta,phi] 1.3 5.80217903408\n",
      "2017-06-09 10:12:17.903146 EIG via 4 parallel experiments with [theta,phi] 1.3 3.28339349505\n",
      "2017-06-09 10:12:26.461493 EIG via 4 parallel experiments with [theta,phi] 1.3 5.83610615979\n",
      "2017-06-09 10:12:35.022293 EIG via 4 parallel experiments with [theta,phi] 1.3 4.28889596205\n",
      "2017-06-09 10:12:44.127069 EIG via 4 parallel experiments with [theta,phi] 1.3 4.18637294758\n",
      "2017-06-09 10:12:59.501797 EIG via 4 parallel experiments with [theta,phi] 1.3 4.40194180979\n",
      "2017-06-09 10:13:10.683025 EIG via 4 parallel experiments with [theta,phi] 1.3 2.7997723321\n",
      "Next Phi:  3.28339349505\n"
     ]
    },
    {
     "data": {
      "text/plain": [
       "<matplotlib.figure.Figure at 0x1081a4d10>"
      ]
     },
     "metadata": {},
     "output_type": "display_data"
    },
    {
     "data": {
      "image/png": "[encoded data removed]",
      "text/plain": [
       "<matplotlib.figure.Figure at 0x1081a4e90>"
      ]
     },
     "metadata": {},
     "output_type": "display_data"
    },
    {
     "name": "stdout",
     "output_type": "stream",
     "text": [
      "Taking Data... 1.0 3.28339349505 20\n",
      "Calculate Posterior...\n",
      "Best Theta:  1.1\n",
      "Design Next Experiment...\n",
      "2017-06-09 10:13:23.003033 EIG via 4 parallel experiments with [theta,phi] 1.1 5.80217903408\n",
      "2017-06-09 10:13:32.817023 EIG via 4 parallel experiments with [theta,phi] 1.1 3.28339349505\n",
      "2017-06-09 10:13:42.412099 EIG via 4 parallel experiments with [theta,phi] 1.1 5.83610615979\n",
      "2017-06-09 10:13:51.937641 EIG via 4 parallel experiments with [theta,phi] 1.1 4.28889596205\n",
      "2017-06-09 10:14:01.001978 EIG via 4 parallel experiments with [theta,phi] 1.1 4.18637294758\n",
      "2017-06-09 10:14:13.208633 EIG via 4 parallel experiments with [theta,phi] 1.1 2.55424537054\n",
      "2017-06-09 10:14:23.439993 EIG via 4 parallel experiments with [theta,phi] 1.1 3.45998631984\n",
      "Next Phi:  3.28339349505\n"
     ]
    },
    {
     "data": {
      "text/plain": [
       "<matplotlib.figure.Figure at 0x1084e4f50>"
      ]
     },
     "metadata": {},
     "output_type": "display_data"
    },
    {
     "data": {
      "image/png": "[encoded data removed]",
      "text/plain": [
       "<matplotlib.figure.Figure at 0x1084e45d0>"
      ]
     },
     "metadata": {},
     "output_type": "display_data"
    }
   ],
   "source": [
    "# initial experimental settings and uninformative prior\n",
    "loop_phi = -1\n",
    "loop_prior = distr.Distribution('prior',range = model.theta_range)\n",
    "\n",
    "science_history = []\n",
    "n_science_iterations = 2\n",
    "for i in range(n_science_iterations):\n",
    "    plt.clf()\n",
    "\n",
    "    fig,axarr = plt.subplots(1,3)\n",
    "    fig.set_size_inches(10,2)\n",
    "    axarr[0].set_title('data')\n",
    "    \n",
    "    ## 1. Perform Experiment\n",
    "    science_wdg.toggle(0)\n",
    "    loop_data = collect_data(loop_phi,science_ndata)\n",
    "    plots.plot_data(loop_data,model.data_range, ax = axarr[0])\n",
    "\n",
    "    ## 2. Calculate the Posterior\n",
    "    science_wdg.toggle(1)\n",
    "    loop_posterior, loop_best_theta = calculate_posterior(loop_prior,loop_data,loop_phi)\n",
    "    plots.plot_posterior(loop_prior,loop_posterior,loop_best_theta,science_theta_nature, model.theta_range, ax = axarr[1])\n",
    "\n",
    "    ## 3. Design Next Experiment\n",
    "    science_wdg.toggle(2)\n",
    "    loop_res_gp, loop_next_phi = design_next_experiment(loop_posterior)\n",
    "\n",
    "    plots.plot_bayes(loop_res_gp,phi_range = model.phi_range, ax = axarr[2])\n",
    "    plt.show()\n",
    "\n",
    "\n",
    "    science_history.append([loop_data,loop_prior,loop_posterior,loop_best_theta,science_theta_nature,loop_res_gp])\n",
    "    \n",
    "    ## 5. Update our Prior and experimental settings\n",
    "    loop_prior = loop_posterior\n",
    "    loop_phi   = loop_next_phi"
   ]
  },
  {
   "cell_type": "code",
   "execution_count": null,
   "metadata": {
    "collapsed": true
   },
   "outputs": [],
   "source": []
  },
  {
   "cell_type": "code",
   "execution_count": null,
   "metadata": {
    "collapsed": true
   },
   "outputs": [],
   "source": []
  },
  {
   "cell_type": "code",
   "execution_count": null,
   "metadata": {
    "collapsed": true
   },
   "outputs": [],
   "source": []
  }
 ],
 "metadata": {
  "kernelspec": {
   "display_name": "Python 2",
   "language": "python",
   "name": "python2"
  },
  "language_info": {
   "codemirror_mode": {
    "name": "ipython",
    "version": 2
   },
   "file_extension": ".py",
   "mimetype": "text/x-python",
   "name": "python",
   "nbconvert_exporter": "python",
   "pygments_lexer": "ipython2",
   "version": "2.7.10"
  }
 },
 "nbformat": 4,
 "nbformat_minor": 2
}
