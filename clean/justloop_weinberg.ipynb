{
 "cells": [
  {
   "cell_type": "code",
   "execution_count": 1,
   "metadata": {},
   "outputs": [
    {
     "name": "stdout",
     "output_type": "stream",
     "text": [
      "Populating the interactive namespace from numpy and matplotlib\n"
     ]
    }
   ],
   "source": [
    "%pylab inline"
   ]
  },
  {
   "cell_type": "code",
   "execution_count": 2,
   "metadata": {
    "collapsed": true
   },
   "outputs": [],
   "source": [
    "import distr\n",
    "import common\n",
    "import plots"
   ]
  },
  {
   "cell_type": "code",
   "execution_count": 3,
   "metadata": {
    "collapsed": true
   },
   "outputs": [],
   "source": [
    "import model_gaussian\n",
    "model = model_gaussian"
   ]
  },
  {
   "cell_type": "code",
   "execution_count": 4,
   "metadata": {
    "collapsed": true
   },
   "outputs": [],
   "source": [
    "science_ndata = 20\n",
    "science_theta_nature = 1.0"
   ]
  },
  {
   "cell_type": "code",
   "execution_count": 5,
   "metadata": {
    "collapsed": true
   },
   "outputs": [],
   "source": [
    "def collect_data(phi,ndata):\n",
    "    print 'Taking Data...', science_theta_nature,phi,ndata\n",
    "    return model.simulator(science_theta_nature,phi,ndata)"
   ]
  },
  {
   "cell_type": "code",
   "execution_count": 6,
   "metadata": {
    "collapsed": true
   },
   "outputs": [],
   "source": [
    "def calculate_posterior(prior,data,phi):\n",
    "    print 'Calculate Posterior...'\n",
    "    \n",
    "    posterior = common.calculate_posterior(\n",
    "                            prior,data,phi,\n",
    "                            lnprob_args = model.details_likelihood_settings,\n",
    "                            n_chainlen = 50\n",
    "    )\n",
    "    maximum_a_post = posterior.map(model.details_map_bins)\n",
    "    \n",
    "    print 'Best Theta: ', maximum_a_post\n",
    "    return posterior, maximum_a_post"
   ]
  },
  {
   "cell_type": "code",
   "execution_count": 7,
   "metadata": {
    "collapsed": true
   },
   "outputs": [],
   "source": [
    "def design_next_experiment(prior):\n",
    "    print 'Design Next Experiment...'\n",
    "    \n",
    "    eig_kwargs = {'emcee_kwargs' : {\n",
    "                      'n_chainlen': 50,\n",
    "                      'lnprob_args': model.details_likelihood_settings},\n",
    "                  'sim_n_data': science_ndata,\n",
    "                  'map_bins': model.details_map_bins}\n",
    "    res_gp   = common.design_next_experiment_bayesopt(prior,model.phi_range,eig_kwargs, n_totalcalls = 7)\n",
    "    res_next_phi = res_gp[0].x[0]\n",
    "    \n",
    "    print 'Next Phi: ', res_next_phi\n",
    "    return res_gp,res_next_phi"
   ]
  },
  {
   "cell_type": "code",
   "execution_count": 12,
   "metadata": {},
   "outputs": [
    {
     "data": {
      "application/vnd.jupyter.widget-view+json": {
       "model_id": "8478e77a6851457a98b1526670e97ec5"
      }
     },
     "metadata": {},
     "output_type": "display_data"
    }
   ],
   "source": [
    "import science_loop_widget\n",
    "import yadage_widget\n",
    "from ipywidgets import widgets\n",
    "science_wdg = science_loop_widget.loopwidget()\n",
    "collect_ui  = yadage_widget.WorkflowWidget(None)\n",
    "widgets.HBox([science_wdg.view,collect_ui])"
   ]
  },
  {
   "cell_type": "markdown",
   "metadata": {},
   "source": [
    "# Running the Science Loop"
   ]
  },
  {
   "cell_type": "code",
   "execution_count": 13,
   "metadata": {
    "scrolled": false
   },
   "outputs": [
    {
     "name": "stdout",
     "output_type": "stream",
     "text": [
      "Taking Data... 1.0 -1 20\n",
      "Calculate Posterior...\n",
      "Best Theta:  0.9\n",
      "Design Next Experiment...\n",
      "2017-06-09 00:16:56.227677 EIG via 4 parallel experiments with [theta,phi] 0.9 5.80217903408\n",
      "2017-06-09 00:17:06.133071 EIG via 4 parallel experiments with [theta,phi] 0.9 3.28339349505\n",
      "2017-06-09 00:17:15.009341 EIG via 4 parallel experiments with [theta,phi] 0.9 5.83610615979\n",
      "2017-06-09 00:17:23.580998 EIG via 4 parallel experiments with [theta,phi] 0.9 4.28889596205\n",
      "2017-06-09 00:17:32.765130 EIG via 4 parallel experiments with [theta,phi] 0.9 4.18637294758\n",
      "2017-06-09 00:17:42.689112 EIG via 4 parallel experiments with [theta,phi] 0.9 0.0\n",
      "2017-06-09 00:17:53.662133 EIG via 4 parallel experiments with [theta,phi] 0.9 2.34946587891\n",
      "Next Phi:  2.34946587891\n"
     ]
    },
    {
     "data": {
      "text/plain": [
       "<matplotlib.figure.Figure at 0x1153e8b90>"
      ]
     },
     "metadata": {},
     "output_type": "display_data"
    },
    {
     "data": {
      "image/png": "[encoded data removed]",
      "text/plain": [
       "<matplotlib.figure.Figure at 0x1153cbc10>"
      ]
     },
     "metadata": {},
     "output_type": "display_data"
    },
    {
     "name": "stdout",
     "output_type": "stream",
     "text": [
      "Taking Data... 1.0 2.34946587891 20\n",
      "Calculate Posterior...\n",
      "Best Theta:  0.7\n",
      "Design Next Experiment...\n",
      "2017-06-09 00:18:13.362717 EIG via 4 parallel experiments with [theta,phi] 0.7 5.80217903408\n",
      "2017-06-09 00:18:24.845266 EIG via 4 parallel experiments with [theta,phi] 0.7 3.28339349505\n",
      "2017-06-09 00:18:36.194460 EIG via 4 parallel experiments with [theta,phi] 0.7 5.83610615979\n",
      "2017-06-09 00:18:46.349921 EIG via 4 parallel experiments with [theta,phi] 0.7 4.28889596205\n",
      "2017-06-09 00:18:57.706575 EIG via 4 parallel experiments with [theta,phi] 0.7 4.18637294758\n",
      "2017-06-09 00:19:09.717528 EIG via 4 parallel experiments with [theta,phi] 0.7 2.89223937023\n",
      "2017-06-09 00:19:20.167187 EIG via 4 parallel experiments with [theta,phi] 0.7 1.24028062465\n",
      "Next Phi:  2.89223937023\n"
     ]
    },
    {
     "data": {
      "text/plain": [
       "<matplotlib.figure.Figure at 0x1153fe210>"
      ]
     },
     "metadata": {},
     "output_type": "display_data"
    },
    {
     "data": {
      "image/png": "[encoded data removed]",
      "text/plain": [
       "<matplotlib.figure.Figure at 0x11529f190>"
      ]
     },
     "metadata": {},
     "output_type": "display_data"
    }
   ],
   "source": [
    "# initial experimental settings and uninformative prior\n",
    "loop_phi = -1\n",
    "loop_prior = distr.Distribution('prior',range = model.theta_range)\n",
    "\n",
    "science_history = []\n",
    "n_science_iterations = 2\n",
    "for i in range(n_science_iterations):\n",
    "    plt.clf()\n",
    "\n",
    "    fig,axarr = plt.subplots(1,3)\n",
    "    fig.set_size_inches(10,2)\n",
    "    axarr[0].set_title('data')\n",
    "    \n",
    "    ## 1. Perform Experiment\n",
    "    science_wdg.toggle(0)\n",
    "    loop_data = collect_data(loop_phi,science_ndata)\n",
    "    plots.plot_data(loop_data,model.data_range, ax = axarr[0])\n",
    "\n",
    "    ## 2. Calculate the Posterior\n",
    "    science_wdg.toggle(1)\n",
    "    loop_posterior, loop_best_theta = calculate_posterior(loop_prior,loop_data,loop_phi)\n",
    "    plots.plot_posterior(loop_prior,loop_posterior,loop_best_theta,science_theta_nature, model.theta_range, ax = axarr[1])\n",
    "\n",
    "    ## 3. Design Next Experiment\n",
    "    science_wdg.toggle(2)\n",
    "    loop_res_gp, loop_next_phi = design_next_experiment(loop_posterior)\n",
    "\n",
    "    plots.plot_bayes(loop_res_gp,phi_range = model.phi_range, ax = axarr[2])\n",
    "    plt.show()\n",
    "\n",
    "\n",
    "    science_history.append([loop_data,loop_prior,loop_posterior,loop_best_theta,science_theta_nature,loop_res_gp])\n",
    "    \n",
    "    ## 5. Update our Prior and experimental settings\n",
    "    loop_prior = loop_posterior\n",
    "    loop_phi   = loop_next_phi"
   ]
  },
  {
   "cell_type": "code",
   "execution_count": null,
   "metadata": {
    "collapsed": true
   },
   "outputs": [],
   "source": []
  },
  {
   "cell_type": "code",
   "execution_count": null,
   "metadata": {
    "collapsed": true
   },
   "outputs": [],
   "source": []
  },
  {
   "cell_type": "code",
   "execution_count": null,
   "metadata": {
    "collapsed": true
   },
   "outputs": [],
   "source": []
  }
 ],
 "metadata": {
  "kernelspec": {
   "display_name": "Python 2",
   "language": "python",
   "name": "python2"
  },
  "language_info": {
   "codemirror_mode": {
    "name": "ipython",
    "version": 2
   },
   "file_extension": ".py",
   "mimetype": "text/x-python",
   "name": "python",
   "nbconvert_exporter": "python",
   "pygments_lexer": "ipython2",
   "version": "2.7.10"
  }
 },
 "nbformat": 4,
 "nbformat_minor": 2
}
