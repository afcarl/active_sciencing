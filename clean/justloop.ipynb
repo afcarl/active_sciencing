{
 "cells": [
  {
   "cell_type": "code",
   "execution_count": 4,
   "metadata": {},
   "outputs": [
    {
     "name": "stdout",
     "output_type": "stream",
     "text": [
      "Populating the interactive namespace from numpy and matplotlib\n"
     ]
    }
   ],
   "source": [
    "%pylab inline"
   ]
  },
  {
   "cell_type": "code",
   "execution_count": 5,
   "metadata": {
    "collapsed": true
   },
   "outputs": [],
   "source": [
    "import distr\n",
    "import common\n",
    "import plots"
   ]
  },
  {
   "cell_type": "code",
   "execution_count": 6,
   "metadata": {
    "collapsed": true
   },
   "outputs": [],
   "source": [
    "import model_gaussian\n",
    "model = model_gaussian\n",
    "model_name = 'gaussian'"
   ]
  },
  {
   "cell_type": "code",
   "execution_count": 7,
   "metadata": {
    "collapsed": true
   },
   "outputs": [],
   "source": [
    "science_ndata = 20\n",
    "science_theta_nature = 0.5"
   ]
  },
  {
   "cell_type": "code",
   "execution_count": 8,
   "metadata": {
    "collapsed": true
   },
   "outputs": [],
   "source": [
    "def collect_data(phi,ndata):\n",
    "    print 'Taking Data...'\n",
    "    \n",
    "    theta_nature = -0.5\n",
    "    return common.collect_data(phi,model.THE_SIMULATOR, theta_nature=science_theta_nature,n_samples = ndata)"
   ]
  },
  {
   "cell_type": "code",
   "execution_count": 9,
   "metadata": {
    "collapsed": true
   },
   "outputs": [],
   "source": [
    "def calculate_posterior(prior,data,phi):\n",
    "    print 'Calculate Posterior...'\n",
    "    \n",
    "    posterior = common.calculate_posterior(\n",
    "                            prior,data,phi,\n",
    "                            lnprob_args = model.model_details_likelihood_settings,\n",
    "                            n_chainlen = 50\n",
    "    )\n",
    "    maximum_a_post = posterior.map(model.model_details_map_bins)\n",
    "    \n",
    "    print 'Best Theta: ', maximum_a_post\n",
    "    return posterior, maximum_a_post"
   ]
  },
  {
   "cell_type": "code",
   "execution_count": 10,
   "metadata": {},
   "outputs": [],
   "source": [
    "def design_next_experiment(prior):\n",
    "    print 'Design Next Experiment...'\n",
    "    \n",
    "    eig_kwargs = {'emcee_kwargs' : {\n",
    "                      'n_chainlen': 50,\n",
    "                      'lnprob_args': model.model_details_likelihood_settings},\n",
    "                  'sim_n_data': science_ndata,\n",
    "                  'map_bins': model.model_details_map_bins}\n",
    "    res_gp   = common.design_next_experiment_bayesopt(prior,model.PHI_RANGE,eig_kwargs, n_totalcalls = 7)\n",
    "    res_next_phi = res_gp[0].x\n",
    "    \n",
    "    print 'Next Phi: ', res_next_phi\n",
    "    return res_gp,res_next_phi"
   ]
  },
  {
   "cell_type": "markdown",
   "metadata": {},
   "source": [
    "# Running the Science Loop"
   ]
  },
  {
   "cell_type": "code",
   "execution_count": 11,
   "metadata": {},
   "outputs": [
    {
     "name": "stdout",
     "output_type": "stream",
     "text": [
      "Taking Data...\n",
      "Calculate Posterior...\n",
      "Best Theta:  -1.9\n",
      "Design Next Experiment...\n",
      "2017-06-08 18:49:12.642710 EIG via 4 parallel experiments with [theta,phi] -1.9 5.80217903408\n",
      "2017-06-08 18:49:22.112060 EIG via 4 parallel experiments with [theta,phi] -1.9 3.28339349505\n",
      "2017-06-08 18:49:31.570603 EIG via 4 parallel experiments with [theta,phi] -1.9 5.83610615979\n",
      "2017-06-08 18:49:40.349551 EIG via 4 parallel experiments with [theta,phi] -1.9 4.28889596205\n",
      "2017-06-08 18:49:49.116434 EIG via 4 parallel experiments with [theta,phi] -1.9 4.18637294758\n",
      "2017-06-08 18:49:58.598020 EIG via 4 parallel experiments with [theta,phi] -1.9 0.12405658085\n",
      "2017-06-08 18:50:10.028798 EIG via 4 parallel experiments with [theta,phi] -1.9 2.82883678225\n",
      "Next Phi:  [2.8288367822521008]\n"
     ]
    },
    {
     "data": {
      "text/plain": [
       "<matplotlib.figure.Figure at 0x1107af8d0>"
      ]
     },
     "metadata": {},
     "output_type": "display_data"
    },
    {
     "data": {
      "image/png": "[encoded data removed]",
      "text/plain": [
       "<matplotlib.figure.Figure at 0x112aaebd0>"
      ]
     },
     "metadata": {},
     "output_type": "display_data"
    },
    {
     "name": "stdout",
     "output_type": "stream",
     "text": [
      "Taking Data...\n",
      "Calculate Posterior...\n",
      "Best Theta:  0.1\n",
      "Design Next Experiment...\n",
      "2017-06-08 18:50:21.581114 EIG via 4 parallel experiments with [theta,phi] 0.1 5.80217903408\n",
      "2017-06-08 18:50:30.852044 EIG via 4 parallel experiments with [theta,phi] 0.1 3.28339349505\n",
      "2017-06-08 18:50:40.051973 EIG via 4 parallel experiments with [theta,phi] 0.1 5.83610615979\n",
      "2017-06-08 18:50:49.455944 EIG via 4 parallel experiments with [theta,phi] 0.1 4.28889596205\n",
      "2017-06-08 18:50:58.519498 EIG via 4 parallel experiments with [theta,phi] 0.1 4.18637294758\n",
      "2017-06-08 18:51:09.086907 EIG via 4 parallel experiments with [theta,phi] 0.1 0.00141208646376\n",
      "2017-06-08 18:51:22.219490 EIG via 4 parallel experiments with [theta,phi] 0.1 6.0\n",
      "Next Phi:  [4.2888959620461877]\n"
     ]
    },
    {
     "data": {
      "text/plain": [
       "<matplotlib.figure.Figure at 0x112dad450>"
      ]
     },
     "metadata": {},
     "output_type": "display_data"
    },
    {
     "data": {
      "image/png": "[encoded data removed]",
      "text/plain": [
       "<matplotlib.figure.Figure at 0x112da9c90>"
      ]
     },
     "metadata": {},
     "output_type": "display_data"
    }
   ],
   "source": [
    "# initial experimental settings and uninformative prior\n",
    "loop_phi = 0\n",
    "loop_prior = distr.Distribution('prior',range = model.THETA_RANGE)\n",
    "\n",
    "science_history = []\n",
    "N_SCIENCE_ITERATIONS = 2\n",
    "for i in range(N_SCIENCE_ITERATIONS):\n",
    "    plt.clf()\n",
    "\n",
    "    fig,axarr = plt.subplots(1,3)\n",
    "    fig.set_size_inches(10,2)\n",
    "    axarr[0].set_title('data')\n",
    "    \n",
    "    ## 1. Perform Experiment\n",
    "    loop_data = collect_data(loop_phi,science_ndata)\n",
    "    plots.plot_data(loop_data,model.DATA_RANGE, ax = axarr[0])\n",
    "\n",
    "    ## 2. Calculate the Posterior\n",
    "    loop_posterior, loop_best_theta = calculate_posterior(loop_prior,loop_data,loop_phi)\n",
    "    plots.plot_posterior(loop_prior,loop_posterior,loop_best_theta,science_theta_nature, model.THETA_RANGE, ax = axarr[1])\n",
    "\n",
    "    ## 3. Design Next Experiment\n",
    "    loop_res_gp, loop_next_phi = design_next_experiment(loop_posterior)\n",
    "\n",
    "    plots.plot_bayes(loop_res_gp,phi_range = model.PHI_RANGE, ax = axarr[2])\n",
    "    plt.show()\n",
    "\n",
    "\n",
    "    science_history.append([loop_data,loop_prior,loop_posterior,loop_best_theta,science_theta_nature,loop_res_gp])\n",
    "    \n",
    "    ## 5. Update our Prior and experimental settings\n",
    "    loop_prior = loop_posterior\n",
    "    loop_phi   = loop_next_phi"
   ]
  },
  {
   "cell_type": "code",
   "execution_count": null,
   "metadata": {
    "collapsed": true
   },
   "outputs": [],
   "source": []
  }
 ],
 "metadata": {
  "kernelspec": {
   "display_name": "Python 2",
   "language": "python",
   "name": "python2"
  },
  "language_info": {
   "codemirror_mode": {
    "name": "ipython",
    "version": 2
   },
   "file_extension": ".py",
   "mimetype": "text/x-python",
   "name": "python",
   "nbconvert_exporter": "python",
   "pygments_lexer": "ipython2",
   "version": "2.7.10"
  }
 },
 "nbformat": 4,
 "nbformat_minor": 2
}
