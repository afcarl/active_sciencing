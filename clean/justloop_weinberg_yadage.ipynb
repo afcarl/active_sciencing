{
 "cells": [
  {
   "cell_type": "code",
   "execution_count": 1,
   "metadata": {},
   "outputs": [
    {
     "name": "stdout",
     "output_type": "stream",
     "text": [
      "Populating the interactive namespace from numpy and matplotlib\n"
     ]
    }
   ],
   "source": [
    "%pylab inline"
   ]
  },
  {
   "cell_type": "code",
   "execution_count": 2,
   "metadata": {},
   "outputs": [
    {
     "data": {
      "application/javascript": [
       "require.config({paths: {\n",
       "        vis: \"http://cdnjs.cloudflare.com/ajax/libs/vis/4.17.0/vis\",\n",
       "        yadage: \"https://rawgit.com/cranmer/active_sciencing/yadage/yadage\"\n",
       "    }\n",
       "});"
      ],
      "text/plain": [
       "<IPython.core.display.Javascript object>"
      ]
     },
     "metadata": {},
     "output_type": "display_data"
    }
   ],
   "source": [
    "%%javascript\n",
    "require.config({paths: {\n",
    "        vis: \"http://cdnjs.cloudflare.com/ajax/libs/vis/4.17.0/vis\",\n",
    "        yadage: \"https://rawgit.com/cranmer/active_sciencing/yadage/yadage\"\n",
    "    }\n",
    "});"
   ]
  },
  {
   "cell_type": "code",
   "execution_count": 3,
   "metadata": {
    "collapsed": true
   },
   "outputs": [],
   "source": [
    "import distr\n",
    "import common\n",
    "import plots"
   ]
  },
  {
   "cell_type": "code",
   "execution_count": 4,
   "metadata": {
    "collapsed": true
   },
   "outputs": [],
   "source": [
    "import model_weinberg_yadage\n",
    "model = model_weinberg_yadage"
   ]
  },
  {
   "cell_type": "code",
   "execution_count": 5,
   "metadata": {
    "collapsed": true
   },
   "outputs": [],
   "source": [
    "science_ndata = 20\n",
    "science_theta_nature = 1.0"
   ]
  },
  {
   "cell_type": "code",
   "execution_count": 6,
   "metadata": {
    "collapsed": true
   },
   "outputs": [],
   "source": [
    "def collect_data(phi,ndata, widget = None):\n",
    "    print 'Taking Data...', science_theta_nature,phi,ndata\n",
    "    return model.simulator(science_theta_nature,phi,ndata, widget, delay = 2)"
   ]
  },
  {
   "cell_type": "code",
   "execution_count": 7,
   "metadata": {
    "collapsed": true
   },
   "outputs": [],
   "source": [
    "def calculate_posterior(prior,data,phi):\n",
    "    print 'Calculate Posterior...'\n",
    "    \n",
    "    posterior = common.calculate_posterior(\n",
    "                            prior,data,phi,\n",
    "                            lnprob_args = model.details_likelihood_settings,\n",
    "                            n_chainlen = 50\n",
    "    )\n",
    "    maximum_a_post = posterior.map(model.details_map_bins)\n",
    "    \n",
    "    print 'Best Theta: ', maximum_a_post\n",
    "    return posterior, maximum_a_post"
   ]
  },
  {
   "cell_type": "code",
   "execution_count": 8,
   "metadata": {
    "collapsed": true
   },
   "outputs": [],
   "source": [
    "def design_next_experiment(prior):\n",
    "    print 'Design Next Experiment...'\n",
    "    \n",
    "    eig_kwargs = {'emcee_kwargs' : {\n",
    "                      'n_chainlen': 50,\n",
    "                      'lnprob_args': model.details_likelihood_settings},\n",
    "                  'sim_n_data': science_ndata,\n",
    "                  'map_bins': model.details_map_bins}\n",
    "    res_gp   = common.design_next_experiment_bayesopt(prior,model.phi_range,eig_kwargs, n_totalcalls = 7)\n",
    "    res_next_phi = res_gp[0].x[0]\n",
    "    \n",
    "    print 'Next Phi: ', res_next_phi\n",
    "    return res_gp,res_next_phi"
   ]
  },
  {
   "cell_type": "code",
   "execution_count": 9,
   "metadata": {},
   "outputs": [
    {
     "data": {
      "application/vnd.jupyter.widget-view+json": {
       "model_id": "8e167633c3554d45af8d810cfa9acd07"
      }
     },
     "metadata": {},
     "output_type": "display_data"
    }
   ],
   "source": [
    "import science_loop_widget\n",
    "import yadage_widget\n",
    "from ipywidgets import widgets\n",
    "science_wdg = science_loop_widget.loopwidget()\n",
    "collect_ui  = yadage_widget.WorkflowWidget(None)\n",
    "widgets.HBox([science_wdg.view,collect_ui])"
   ]
  },
  {
   "cell_type": "markdown",
   "metadata": {},
   "source": [
    "# Running the Science Loop"
   ]
  },
  {
   "cell_type": "code",
   "execution_count": null,
   "metadata": {
    "scrolled": false
   },
   "outputs": [
    {
     "name": "stdout",
     "output_type": "stream",
     "text": [
      "Taking Data... 1.0 -1 20\n",
      "Calculate Posterior...\n",
      "Best Theta:  0.675\n",
      "Design Next Experiment...\n",
      "2017-06-09 00:45:21.866748 EIG via 4 parallel experiments with [theta,phi] 0.675 49.6702983901\n"
     ]
    }
   ],
   "source": [
    "# initial experimental settings and uninformative prior\n",
    "loop_phi = -1\n",
    "loop_prior = distr.Distribution('prior',range = model.theta_range)\n",
    "\n",
    "science_history = []\n",
    "n_science_iterations = 2\n",
    "for i in range(n_science_iterations):\n",
    "    plt.clf()\n",
    "\n",
    "    fig,axarr = plt.subplots(1,3)\n",
    "    fig.set_size_inches(10,2)\n",
    "    axarr[0].set_title('data')\n",
    "    \n",
    "    ## 1. Perform Experiment\n",
    "    science_wdg.toggle(0)\n",
    "    loop_data = collect_data(loop_phi,science_ndata, widget = collect_ui)\n",
    "    plots.plot_data(loop_data,model.data_range, ax = axarr[0])\n",
    "\n",
    "    ## 2. Calculate the Posterior\n",
    "    science_wdg.toggle(1)\n",
    "    loop_posterior, loop_best_theta = calculate_posterior(loop_prior,loop_data,loop_phi)\n",
    "    plots.plot_posterior(loop_prior,loop_posterior,loop_best_theta,science_theta_nature, model.theta_range, ax = axarr[1])\n",
    "\n",
    "    ## 3. Design Next Experiment\n",
    "    science_wdg.toggle(2)\n",
    "    loop_res_gp, loop_next_phi = design_next_experiment(loop_posterior)\n",
    "\n",
    "    plots.plot_bayes(loop_res_gp,phi_range = model.phi_range, ax = axarr[2])\n",
    "    plt.show()\n",
    "\n",
    "\n",
    "    science_history.append([loop_data,loop_prior,loop_posterior,loop_best_theta,science_theta_nature,loop_res_gp])\n",
    "    \n",
    "    ## 5. Update our Prior and experimental settings\n",
    "    loop_prior = loop_posterior\n",
    "    loop_phi   = loop_next_phi"
   ]
  },
  {
   "cell_type": "code",
   "execution_count": null,
   "metadata": {
    "collapsed": true
   },
   "outputs": [],
   "source": []
  },
  {
   "cell_type": "code",
   "execution_count": null,
   "metadata": {
    "collapsed": true
   },
   "outputs": [],
   "source": []
  },
  {
   "cell_type": "code",
   "execution_count": null,
   "metadata": {
    "collapsed": true
   },
   "outputs": [],
   "source": []
  }
 ],
 "metadata": {
  "kernelspec": {
   "display_name": "Python 2",
   "language": "python",
   "name": "python2"
  },
  "language_info": {
   "codemirror_mode": {
    "name": "ipython",
    "version": 2
   },
   "file_extension": ".py",
   "mimetype": "text/x-python",
   "name": "python",
   "nbconvert_exporter": "python",
   "pygments_lexer": "ipython2",
   "version": "2.7.10"
  }
 },
 "nbformat": 4,
 "nbformat_minor": 2
}
