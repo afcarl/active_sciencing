{
 "cells": [
  {
   "cell_type": "code",
   "execution_count": 1,
   "metadata": {},
   "outputs": [
    {
     "name": "stdout",
     "output_type": "stream",
     "text": [
      "Populating the interactive namespace from numpy and matplotlib\n"
     ]
    }
   ],
   "source": [
    "%pylab inline"
   ]
  },
  {
   "cell_type": "code",
   "execution_count": 2,
   "metadata": {},
   "outputs": [
    {
     "data": {
      "application/javascript": [
       "require.config({paths: {\n",
       "        vis: \"http://cdnjs.cloudflare.com/ajax/libs/vis/4.17.0/vis\",\n",
       "        yadage: \"https://rawgit.com/cranmer/active_sciencing/yadage/yadage\"\n",
       "    }\n",
       "});"
      ],
      "text/plain": [
       "<IPython.core.display.Javascript object>"
      ]
     },
     "metadata": {},
     "output_type": "display_data"
    }
   ],
   "source": [
    "%%javascript\n",
    "require.config({paths: {\n",
    "        vis: \"http://cdnjs.cloudflare.com/ajax/libs/vis/4.17.0/vis\",\n",
    "        yadage: \"https://rawgit.com/cranmer/active_sciencing/yadage/yadage\"\n",
    "    }\n",
    "});"
   ]
  },
  {
   "cell_type": "code",
   "execution_count": 3,
   "metadata": {
    "collapsed": true
   },
   "outputs": [],
   "source": [
    "import shutil\n",
    "import os\n",
    "import yadage_widget\n",
    "import yadage.steering_object\n",
    "from yadage.clihelpers import setupbackend_fromstring, prepare_workdir_from_archive"
   ]
  },
  {
   "cell_type": "markdown",
   "metadata": {},
   "source": [
    "## prepare workflow"
   ]
  },
  {
   "cell_type": "markdown",
   "metadata": {},
   "source": [
    "## Execute Workflow"
   ]
  },
  {
   "cell_type": "code",
   "execution_count": 5,
   "metadata": {
    "collapsed": true
   },
   "outputs": [],
   "source": [
    "def benchmark():\n",
    "    workdir = 'whatflow'\n",
    "    try:\n",
    "        shutil.rmtree(workdir)\n",
    "    except OSError:\n",
    "        pass\n",
    "\n",
    "    ys = yadage.steering_object.YadageSteering()\n",
    "    ys.prepare_workdir(workdir, accept_existing_workdir = True)\n",
    "\n",
    "    #initialize workflow with parameters\n",
    "    initdata ={\n",
    "        'n_samples': 100,\n",
    "        'phi': 42.,\n",
    "        'theta': 1.0\n",
    "    }\n",
    "\n",
    "    ys.init_workflow(\n",
    "        'workflow.yml',\n",
    "        'workflows/localflow/workflow',\n",
    "        initdata\n",
    "    )\n",
    "\n",
    "\n",
    "    ys = yadage.steering_object.YadageSteering()\n",
    "    ys.prepare_workdir(workdir, accept_existing_workdir = True)\n",
    "\n",
    "    #initialize workflow with parameters\n",
    "    initdata ={\n",
    "        'n_samples': 1000,\n",
    "        'phi': 42.,\n",
    "        'theta': 1.0\n",
    "    }\n",
    "\n",
    "    ys.init_workflow(\n",
    "        'workflow.yml',\n",
    "        'workflows/localflow/workflow',\n",
    "        initdata\n",
    "    )\n",
    "    ui = yadage_widget.WorkflowWidget(ys.controller.adageobj)\n",
    "    ys.adage_argument(default_trackers = False)\n",
    "    ys.adage_argument(additional_trackers = [ui.adagetracker])\n",
    "\n",
    "\n",
    "    backend = setupbackend_fromstring('fourgroundasync')\n",
    "    ys.adage_argument(default_trackers = False)\n",
    "    ys.run_adage(backend)\n",
    "\n",
    "\n",
    "    import numpy as np\n",
    "    data = np.load(open(ys.controller.adageobj.view().getSteps('feature_extraction')[0].result['outfile']))"
   ]
  },
  {
   "cell_type": "code",
   "execution_count": 53,
   "metadata": {},
   "outputs": [
    {
     "name": "stdout",
     "output_type": "stream",
     "text": [
      "34.4250228405\n"
     ]
    }
   ],
   "source": [
    "import time\n",
    "start = time.time()\n",
    "for i in range(20):\n",
    "    benchmark()\n",
    "end = time.time()\n",
    "print end-start"
   ]
  },
  {
   "cell_type": "code",
   "execution_count": 6,
   "metadata": {
    "collapsed": true
   },
   "outputs": [],
   "source": [
    "benchmark()"
   ]
  },
  {
   "cell_type": "code",
   "execution_count": null,
   "metadata": {
    "collapsed": true
   },
   "outputs": [],
   "source": []
  }
 ],
 "metadata": {
  "kernelspec": {
   "display_name": "Python 2",
   "language": "python",
   "name": "python2"
  },
  "language_info": {
   "codemirror_mode": {
    "name": "ipython",
    "version": 2
   },
   "file_extension": ".py",
   "mimetype": "text/x-python",
   "name": "python",
   "nbconvert_exporter": "python",
   "pygments_lexer": "ipython2",
   "version": "2.7.10"
  },
  "widgets": {
   "application/vnd.jupyter.widget-state+json": {
    "state": {
     "2c6c0a45172c40e88da9bea4623b9850": {
      "model_module": "jupyter-js-widgets",
      "model_module_version": "~2.1.4",
      "model_name": "LayoutModel",
      "state": {
       "_model_module_version": "~2.1.4",
       "_view_module_version": "~2.1.4"
      }
     },
     "3f45893f184b4dd8bdef2221a767eca7": {
      "model_module": "jupyter-js-widgets",
      "model_module_version": "~2.1.4",
      "model_name": "LayoutModel",
      "state": {
       "_model_module_version": "~2.1.4",
       "_view_module_version": "~2.1.4"
      }
     },
     "76b1612841a943ceae9ddc16dcebc99e": {
      "model_module": "jupyter-js-widgets",
      "model_module_version": "*",
      "model_name": "DOMWidgetModel",
      "state": {
       "_model_name": "DOMWidgetModel",
       "_view_module": "yadage",
       "_view_name": "WorkflowWidgetView",
       "dotstring": "strict digraph \"\" {\nlabel=\"2017-06-05 16:58:06\";\n\"8b5ca1c3f113eb706e978b60c591663b8e0d1ec5\" [color=green, label=\"init \", style=filled];\nfc72a685d8b72914cb2fb4a605143d3178d3ecbc [color=green, label=\"init subchain_1 \", style=filled];\nb8912a9797ce05084a1b83e4ac4349638e218ec2 [color=green, label=\"madevent \", style=filled];\n\"887e5aac1a12ddc7e4bf3d3ecddcafe82a4f7620\" [color=green, label=\"prepare \", style=filled];\nb8b3c5cf2d32616e947cd17c6dde5968b0b9f9b0 [color=green, label=\"madevent \", style=filled];\n\"6ff89feeec672deb978885f431239019f392b5f1\" [color=green, label=\"merge \", style=filled];\n\"999cb28e0c6835793626e91876a0df18ab3b5d70\" [color=green, label=\"init subchain_0 \", style=filled];\n\"3cca81dd9c20ea15df067840df8385031d0a0344\" [color=green, label=\"grid \", style=filled];\n\"8b5ca1c3f113eb706e978b60c591663b8e0d1ec5\" -> fc72a685d8b72914cb2fb4a605143d3178d3ecbc;\n\"8b5ca1c3f113eb706e978b60c591663b8e0d1ec5\" -> \"887e5aac1a12ddc7e4bf3d3ecddcafe82a4f7620\";\n\"8b5ca1c3f113eb706e978b60c591663b8e0d1ec5\" -> \"999cb28e0c6835793626e91876a0df18ab3b5d70\";\nfc72a685d8b72914cb2fb4a605143d3178d3ecbc -> b8b3c5cf2d32616e947cd17c6dde5968b0b9f9b0;\nb8912a9797ce05084a1b83e4ac4349638e218ec2 -> \"6ff89feeec672deb978885f431239019f392b5f1\";\n\"887e5aac1a12ddc7e4bf3d3ecddcafe82a4f7620\" -> \"3cca81dd9c20ea15df067840df8385031d0a0344\";\nb8b3c5cf2d32616e947cd17c6dde5968b0b9f9b0 -> \"6ff89feeec672deb978885f431239019f392b5f1\";\n\"999cb28e0c6835793626e91876a0df18ab3b5d70\" -> b8912a9797ce05084a1b83e4ac4349638e218ec2;\n\"3cca81dd9c20ea15df067840df8385031d0a0344\" -> fc72a685d8b72914cb2fb4a605143d3178d3ecbc;\n\"3cca81dd9c20ea15df067840df8385031d0a0344\" -> \"999cb28e0c6835793626e91876a0df18ab3b5d70\";\n}\n",
       "layout": "IPY_MODEL_2c6c0a45172c40e88da9bea4623b9850"
      }
     },
     "965012ae181a473fbdc05818d34c7ec0": {
      "model_module": "jupyter-js-widgets",
      "model_module_version": "*",
      "model_name": "DOMWidgetModel",
      "state": {
       "_model_name": "DOMWidgetModel",
       "_view_module": "yadage",
       "_view_name": "WorkflowWidgetView",
       "dotstring": "strict digraph \"\" {\nlabel=\"2017-06-05 17:34:12\";\n\"8b5ca1c3f113eb706e978b60c591663b8e0d1ec5\" [color=green, label=\"init \", style=filled];\nfc72a685d8b72914cb2fb4a605143d3178d3ecbc [color=grey, label=\"init subchain_1 \", style=filled];\nb8912a9797ce05084a1b83e4ac4349638e218ec2 [color=grey, label=\"madevent \", style=filled];\n\"887e5aac1a12ddc7e4bf3d3ecddcafe82a4f7620\" [color=yellow, label=\"prepare \", style=filled];\nb8b3c5cf2d32616e947cd17c6dde5968b0b9f9b0 [color=grey, label=\"madevent \", style=filled];\n\"6ff89feeec672deb978885f431239019f392b5f1\" [color=grey, label=\"merge \", style=filled];\n\"999cb28e0c6835793626e91876a0df18ab3b5d70\" [color=grey, label=\"init subchain_0 \", style=filled];\n\"3cca81dd9c20ea15df067840df8385031d0a0344\" [color=grey, label=\"grid \", style=filled];\n\"8b5ca1c3f113eb706e978b60c591663b8e0d1ec5\" -> fc72a685d8b72914cb2fb4a605143d3178d3ecbc;\n\"8b5ca1c3f113eb706e978b60c591663b8e0d1ec5\" -> \"887e5aac1a12ddc7e4bf3d3ecddcafe82a4f7620\";\n\"8b5ca1c3f113eb706e978b60c591663b8e0d1ec5\" -> \"999cb28e0c6835793626e91876a0df18ab3b5d70\";\nfc72a685d8b72914cb2fb4a605143d3178d3ecbc -> b8b3c5cf2d32616e947cd17c6dde5968b0b9f9b0;\nb8912a9797ce05084a1b83e4ac4349638e218ec2 -> \"6ff89feeec672deb978885f431239019f392b5f1\";\n\"887e5aac1a12ddc7e4bf3d3ecddcafe82a4f7620\" -> \"3cca81dd9c20ea15df067840df8385031d0a0344\";\nb8b3c5cf2d32616e947cd17c6dde5968b0b9f9b0 -> \"6ff89feeec672deb978885f431239019f392b5f1\";\n\"999cb28e0c6835793626e91876a0df18ab3b5d70\" -> b8912a9797ce05084a1b83e4ac4349638e218ec2;\n\"3cca81dd9c20ea15df067840df8385031d0a0344\" -> fc72a685d8b72914cb2fb4a605143d3178d3ecbc;\n\"3cca81dd9c20ea15df067840df8385031d0a0344\" -> \"999cb28e0c6835793626e91876a0df18ab3b5d70\";\n}\n",
       "layout": "IPY_MODEL_c7dade9c55c04c6fb0b90c2cbf7339d0"
      }
     },
     "c7dade9c55c04c6fb0b90c2cbf7339d0": {
      "model_module": "jupyter-js-widgets",
      "model_module_version": "~2.1.4",
      "model_name": "LayoutModel",
      "state": {
       "_model_module_version": "~2.1.4",
       "_view_module_version": "~2.1.4"
      }
     },
     "d1342f841ade414daf1ab3eb526eeb77": {
      "model_module": "jupyter-js-widgets",
      "model_module_version": "*",
      "model_name": "DOMWidgetModel",
      "state": {
       "_model_name": "DOMWidgetModel",
       "_view_module": "yadage",
       "_view_name": "WorkflowWidgetView",
       "dotstring": "strict digraph \"\" {\nlabel=\"2017-06-05 17:30:33\";\n\"8b5ca1c3f113eb706e978b60c591663b8e0d1ec5\" [color=green, label=\"init \", style=filled];\nfc72a685d8b72914cb2fb4a605143d3178d3ecbc [color=green, label=\"init subchain_1 \", style=filled];\nb8912a9797ce05084a1b83e4ac4349638e218ec2 [color=green, label=\"madevent \", style=filled];\n\"887e5aac1a12ddc7e4bf3d3ecddcafe82a4f7620\" [color=green, label=\"prepare \", style=filled];\nb8b3c5cf2d32616e947cd17c6dde5968b0b9f9b0 [color=green, label=\"madevent \", style=filled];\n\"6ff89feeec672deb978885f431239019f392b5f1\" [color=green, label=\"merge \", style=filled];\n\"999cb28e0c6835793626e91876a0df18ab3b5d70\" [color=green, label=\"init subchain_0 \", style=filled];\n\"3cca81dd9c20ea15df067840df8385031d0a0344\" [color=green, label=\"grid \", style=filled];\n\"8b5ca1c3f113eb706e978b60c591663b8e0d1ec5\" -> fc72a685d8b72914cb2fb4a605143d3178d3ecbc;\n\"8b5ca1c3f113eb706e978b60c591663b8e0d1ec5\" -> \"887e5aac1a12ddc7e4bf3d3ecddcafe82a4f7620\";\n\"8b5ca1c3f113eb706e978b60c591663b8e0d1ec5\" -> \"999cb28e0c6835793626e91876a0df18ab3b5d70\";\nfc72a685d8b72914cb2fb4a605143d3178d3ecbc -> b8b3c5cf2d32616e947cd17c6dde5968b0b9f9b0;\nb8912a9797ce05084a1b83e4ac4349638e218ec2 -> \"6ff89feeec672deb978885f431239019f392b5f1\";\n\"887e5aac1a12ddc7e4bf3d3ecddcafe82a4f7620\" -> \"3cca81dd9c20ea15df067840df8385031d0a0344\";\nb8b3c5cf2d32616e947cd17c6dde5968b0b9f9b0 -> \"6ff89feeec672deb978885f431239019f392b5f1\";\n\"999cb28e0c6835793626e91876a0df18ab3b5d70\" -> b8912a9797ce05084a1b83e4ac4349638e218ec2;\n\"3cca81dd9c20ea15df067840df8385031d0a0344\" -> fc72a685d8b72914cb2fb4a605143d3178d3ecbc;\n\"3cca81dd9c20ea15df067840df8385031d0a0344\" -> \"999cb28e0c6835793626e91876a0df18ab3b5d70\";\n}\n",
       "layout": "IPY_MODEL_3f45893f184b4dd8bdef2221a767eca7"
      }
     }
    },
    "version_major": 1,
    "version_minor": 0
   }
  }
 },
 "nbformat": 4,
 "nbformat_minor": 2
}
