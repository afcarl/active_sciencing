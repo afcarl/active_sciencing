{
 "cells": [
  {
   "cell_type": "code",
   "execution_count": 1,
   "metadata": {},
   "outputs": [
    {
     "name": "stdout",
     "output_type": "stream",
     "text": [
      "Populating the interactive namespace from numpy and matplotlib\n"
     ]
    }
   ],
   "source": [
    "%pylab inline"
   ]
  },
  {
   "cell_type": "code",
   "execution_count": 2,
   "metadata": {},
   "outputs": [
    {
     "data": {
      "application/javascript": [
       "require.config({paths: {\n",
       "        vis: \"http://cdnjs.cloudflare.com/ajax/libs/vis/4.17.0/vis\",\n",
       "        yadage: \"https://rawgit.com/lukasheinrich/yadage-ipython/master/yadagealpha\"\n",
       "    }\n",
       "});"
      ],
      "text/plain": [
       "<IPython.core.display.Javascript object>"
      ]
     },
     "metadata": {},
     "output_type": "display_data"
    }
   ],
   "source": [
    "%%javascript\n",
    "require.config({paths: {\n",
    "        vis: \"http://cdnjs.cloudflare.com/ajax/libs/vis/4.17.0/vis\",\n",
    "        yadage: \"https://rawgit.com/lukasheinrich/yadage-ipython/master/yadagealpha\"\n",
    "    }\n",
    "});"
   ]
  },
  {
   "cell_type": "code",
   "execution_count": 3,
   "metadata": {
    "collapsed": true
   },
   "outputs": [],
   "source": [
    "import shutil\n",
    "import os\n",
    "import yadage_widget\n",
    "import yadage.steering_object\n",
    "from yadage.clihelpers import setupbackend_fromstring, prepare_workdir_from_archive"
   ]
  },
  {
   "cell_type": "markdown",
   "metadata": {},
   "source": [
    "## prepare workflow"
   ]
  },
  {
   "cell_type": "code",
   "execution_count": 4,
   "metadata": {
    "collapsed": true
   },
   "outputs": [],
   "source": [
    "repolocation = 'https://raw.githubusercontent.com/lukasheinrich/weinberg-exp/master/example_yadage'\n",
    "workdir = '/srv/workerdata/workdirs/ipythonwork'\n",
    "try:\n",
    "    shutil.rmtree(workdir)\n",
    "except OSError:\n",
    "    pass\n",
    "finally:\n",
    "    prepare_workdir_from_archive(\n",
    "        workdir,\n",
    "        '{}/input.zip'.format(repolocation)\n",
    "    )"
   ]
  },
  {
   "cell_type": "code",
   "execution_count": 5,
   "metadata": {},
   "outputs": [],
   "source": [
    "ys = yadage.steering_object.YadageSteering()\n",
    "ys.prepare_workdir(workdir, accept_existing_workdir = True)\n",
    "\n",
    "#initialize workflow with parameters\n",
    "initdata ={\n",
    "        'nevents':1000,\n",
    "        'seeds':[1,2],\n",
    "        'runcardtempl':'run_card.templ'.format(os.path.realpath(workdir)),\n",
    "        'proccardtempl':'sm_proc_card.templ'.format(os.path.realpath(workdir)),\n",
    "        'paramcardtempl':'param_card.templ'.format(os.path.realpath(workdir)),\n",
    "        'sqrtshalf':45,\n",
    "        'polbeam1':0,\n",
    "        'polbeam2':0,\n",
    "        'Gf': 1.766390e-05\n",
    "}\n",
    "\n",
    "ys.init_workflow(\n",
    "    'rootflow.yml',\n",
    "    'github:lukasheinrich/weinberg-exp:example_yadage',\n",
    "    initdata, initdir = '{}/init'.format(workdir)\n",
    ")\n"
   ]
  },
  {
   "cell_type": "code",
   "execution_count": 6,
   "metadata": {},
   "outputs": [
    {
     "data": {
      "application/vnd.jupyter.widget-view+json": {
       "model_id": "9c6e053544304f5f9535109baa1d1762"
      }
     },
     "metadata": {},
     "output_type": "display_data"
    }
   ],
   "source": [
    "ui = yadage_widget.WorkflowWidget(ys.controller.adageobj)\n",
    "ys.adage_argument(additional_trackers = [ui.adagetracker])\n",
    "ui"
   ]
  },
  {
   "cell_type": "markdown",
   "metadata": {},
   "source": [
    "## Execute Workflow"
   ]
  },
  {
   "cell_type": "code",
   "execution_count": 7,
   "metadata": {},
   "outputs": [],
   "source": [
    "backend = setupbackend_fromstring('celery')\n",
    "ys.run_adage(backend)"
   ]
  },
  {
   "cell_type": "code",
   "execution_count": 8,
   "metadata": {
    "collapsed": true
   },
   "outputs": [],
   "source": [
    "import json\n",
    "with open(ys.controller.adageobj.view().getSteps('merge')[0].result['jsonlinesfile']) as f:\n",
    "    parsed = map(json.loads,f.readlines())"
   ]
  },
  {
   "cell_type": "code",
   "execution_count": 9,
   "metadata": {
    "collapsed": true
   },
   "outputs": [],
   "source": [
    "costhetas = []\n",
    "for e in parsed:\n",
    "    els = [p for p in e['particles'] if p['id'] == 11]\n",
    "    mus = [p for p in e['particles'] if p['id'] == 13]\n",
    "    assert len(mus) == 1\n",
    "    assert len(els) == 1\n",
    "    mu = mus[0]\n",
    "    el = els[0]\n",
    "    el_px, el_py, el_pz = [el[x] for x in ['px','py','pz']]\n",
    "    mu_px, mu_py, mu_pz = [mu[x] for x in ['px','py','pz']]\n",
    "    costheta = mu_pz/el_pz\n",
    "    costhetas.append(costheta)"
   ]
  },
  {
   "cell_type": "code",
   "execution_count": 10,
   "metadata": {},
   "outputs": [
    {
     "data": {
      "image/png": "[encoded data removed]",
      "text/plain": [
       "<matplotlib.figure.Figure at 0x7f7c094e54d0>"
      ]
     },
     "metadata": {},
     "output_type": "display_data"
    }
   ],
   "source": [
    "_,_,_ = plt.hist(costhetas, bins = 100, histtype='stepfilled')"
   ]
  },
  {
   "cell_type": "code",
   "execution_count": null,
   "metadata": {
    "collapsed": true
   },
   "outputs": [],
   "source": []
  }
 ],
 "metadata": {
  "kernelspec": {
   "display_name": "Python 2",
   "language": "python",
   "name": "python2"
  },
  "language_info": {
   "codemirror_mode": {
    "name": "ipython",
    "version": 2
   },
   "file_extension": ".py",
   "mimetype": "text/x-python",
   "name": "python",
   "nbconvert_exporter": "python",
   "pygments_lexer": "ipython2",
   "version": "2.7.13"
  }
 },
 "nbformat": 4,
 "nbformat_minor": 2
}
