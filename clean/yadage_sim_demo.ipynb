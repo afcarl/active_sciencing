{
 "cells": [
  {
   "cell_type": "code",
   "execution_count": 4,
   "metadata": {},
   "outputs": [
    {
     "name": "stdout",
     "output_type": "stream",
     "text": [
      "Populating the interactive namespace from numpy and matplotlib\n"
     ]
    }
   ],
   "source": [
    "%pylab inline"
   ]
  },
  {
   "cell_type": "code",
   "execution_count": 5,
   "metadata": {},
   "outputs": [
    {
     "data": {
      "application/javascript": [
       "require.config({paths: {\n",
       "        vis: \"http://cdnjs.cloudflare.com/ajax/libs/vis/4.17.0/vis\",\n",
       "        yadage: \"https://rawgit.com/cranmer/active_sciencing/yadage/yadage\"\n",
       "    }\n",
       "});"
      ],
      "text/plain": [
       "<IPython.core.display.Javascript object>"
      ]
     },
     "metadata": {},
     "output_type": "display_data"
    }
   ],
   "source": [
    "%%javascript\n",
    "require.config({paths: {\n",
    "        vis: \"http://cdnjs.cloudflare.com/ajax/libs/vis/4.17.0/vis\",\n",
    "        yadage: \"https://rawgit.com/cranmer/active_sciencing/yadage/yadage\"\n",
    "    }\n",
    "});"
   ]
  },
  {
   "cell_type": "code",
   "execution_count": 6,
   "metadata": {},
   "outputs": [],
   "source": [
    "import yadage_sim\n",
    "import yadage_widget"
   ]
  },
  {
   "cell_type": "code",
   "execution_count": 7,
   "metadata": {},
   "outputs": [
    {
     "data": {
      "application/vnd.jupyter.widget-view+json": {
       "model_id": "995c6f4b219e471fb33b3502cdec3d7d"
      }
     },
     "metadata": {},
     "output_type": "display_data"
    }
   ],
   "source": [
    "ui = yadage_widget.WorkflowWidget(None)\n",
    "ui"
   ]
  },
  {
   "cell_type": "code",
   "execution_count": 8,
   "metadata": {},
   "outputs": [
    {
     "name": "stdout",
     "output_type": "stream",
     "text": [
      "."
     ]
    }
   ],
   "source": [
    "data = yadage_sim.simulator(theta = 1.0, phi = 47., n_samples = 1000, widget = ui)"
   ]
  },
  {
   "cell_type": "code",
   "execution_count": 9,
   "metadata": {},
   "outputs": [
    {
     "data": {
      "text/plain": [
       "(array([  83.,   50.,   67.,   45.,   86.,   84.,  107.,  134.,  168.,  176.]),\n",
       " array([-0.99661274, -0.7970902 , -0.59756765, -0.39804511, -0.19852256,\n",
       "         0.00099998,  0.20052253,  0.40004507,  0.59956762,  0.79909016,\n",
       "         0.99861271]),\n",
       " <a list of 10 Patch objects>)"
      ]
     },
     "execution_count": 9,
     "metadata": {},
     "output_type": "execute_result"
    },
    {
     "data": {
      "image/png": "[encoded data removed]",
      "text/plain": [
       "<matplotlib.figure.Figure at 0x7f1ee03840d0>"
      ]
     },
     "metadata": {},
     "output_type": "display_data"
    }
   ],
   "source": [
    "plt.hist(data)"
   ]
  },
  {
   "cell_type": "code",
   "execution_count": null,
   "metadata": {
    "collapsed": true
   },
   "outputs": [],
   "source": []
  }
 ],
 "metadata": {
  "kernelspec": {
   "display_name": "Python 2",
   "language": "python",
   "name": "python2"
  },
  "language_info": {
   "codemirror_mode": {
    "name": "ipython",
    "version": 2
   },
   "file_extension": ".py",
   "mimetype": "text/x-python",
   "name": "python",
   "nbconvert_exporter": "python",
   "pygments_lexer": "ipython2",
   "version": "2.7.13"
  },
  "widgets": {
   "application/vnd.jupyter.widget-state+json": {
    "state": {
     "201acabd300b41d8b954a212aa9625d7": {
      "model_module": "jupyter-js-widgets",
      "model_module_version": "~2.1.4",
      "model_name": "LayoutModel",
      "state": {
       "_model_module_version": "~2.1.4",
       "_view_module_version": "~2.1.4"
      }
     },
     "5dd6f6c3e0394f6988824be115616d89": {
      "model_module": "jupyter-js-widgets",
      "model_module_version": "~2.1.4",
      "model_name": "LayoutModel",
      "state": {
       "_model_module_version": "~2.1.4",
       "_view_module_version": "~2.1.4"
      }
     },
     "995c6f4b219e471fb33b3502cdec3d7d": {
      "model_module": "jupyter-js-widgets",
      "model_module_version": "*",
      "model_name": "DOMWidgetModel",
      "state": {
       "_model_name": "DOMWidgetModel",
       "_view_module": "yadage",
       "_view_name": "WorkflowWidgetView",
       "dotstring": "strict digraph \"\" {\nlabel=\"2017-06-08 13:31:48\";\nb30075db3865915187979604efac7df1332cfdff [color=green, label=\"init \", style=filled];\ne1200deed1246180951cec79a49f19453bc5b58b [color=green, label=\"generate \", style=filled];\nb30075db3865915187979604efac7df1332cfdff -> e1200deed1246180951cec79a49f19453bc5b58b;\n}\n",
       "layout": "IPY_MODEL_5dd6f6c3e0394f6988824be115616d89"
      }
     },
     "9feaf6604dbc434d8007bd780c70147c": {
      "model_module": "jupyter-js-widgets",
      "model_module_version": "*",
      "model_name": "DOMWidgetModel",
      "state": {
       "_model_name": "DOMWidgetModel",
       "_view_module": "yadage",
       "_view_name": "WorkflowWidgetView",
       "dotstring": "strict digraph \"\" {\nlabel=\"2017-06-08 13:09:59\";\nb30075db3865915187979604efac7df1332cfdff [color=green, label=\"init \", style=filled];\n\"05f1df76a8b486eb6f4b62486b664869ffaa11d1\" [color=green, label=\"generate \", style=filled];\nb30075db3865915187979604efac7df1332cfdff -> \"05f1df76a8b486eb6f4b62486b664869ffaa11d1\";\n}\n",
       "layout": "IPY_MODEL_201acabd300b41d8b954a212aa9625d7"
      }
     }
    },
    "version_major": 1,
    "version_minor": 0
   }
  }
 },
 "nbformat": 4,
 "nbformat_minor": 2
}
