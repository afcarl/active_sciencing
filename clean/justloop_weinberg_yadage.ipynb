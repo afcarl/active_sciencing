{
 "cells": [
  {
   "cell_type": "code",
   "execution_count": 1,
   "metadata": {},
   "outputs": [
    {
     "name": "stdout",
     "output_type": "stream",
     "text": [
      "Populating the interactive namespace from numpy and matplotlib\n"
     ]
    }
   ],
   "source": [
    "%pylab inline"
   ]
  },
  {
   "cell_type": "code",
   "execution_count": 2,
   "metadata": {},
   "outputs": [
    {
     "data": {
      "application/javascript": [
       "require.config({paths: {\n",
       "        vis: \"http://cdnjs.cloudflare.com/ajax/libs/vis/4.17.0/vis\",\n",
       "        yadage: \"https://rawgit.com/cranmer/active_sciencing/yadage/yadage\"\n",
       "    }\n",
       "});"
      ],
      "text/plain": [
       "<IPython.core.display.Javascript object>"
      ]
     },
     "metadata": {},
     "output_type": "display_data"
    }
   ],
   "source": [
    "%%javascript\n",
    "require.config({paths: {\n",
    "        vis: \"http://cdnjs.cloudflare.com/ajax/libs/vis/4.17.0/vis\",\n",
    "        yadage: \"https://rawgit.com/cranmer/active_sciencing/yadage/yadage\"\n",
    "    }\n",
    "});"
   ]
  },
  {
   "cell_type": "code",
   "execution_count": 3,
   "metadata": {
    "collapsed": true
   },
   "outputs": [],
   "source": [
    "import distr\n",
    "import common\n",
    "import plots"
   ]
  },
  {
   "cell_type": "code",
   "execution_count": 4,
   "metadata": {
    "collapsed": true
   },
   "outputs": [],
   "source": [
    "import model_weinberg_yadage\n",
    "model = model_weinberg_yadage"
   ]
  },
  {
   "cell_type": "code",
   "execution_count": 5,
   "metadata": {
    "collapsed": true
   },
   "outputs": [],
   "source": [
    "science_ndata = 20\n",
    "science_theta_nature = 1.0"
   ]
  },
  {
   "cell_type": "code",
   "execution_count": 6,
   "metadata": {
    "collapsed": true
   },
   "outputs": [],
   "source": [
    "def collect_data(phi,ndata, widget = None):\n",
    "    print 'Taking Data...', science_theta_nature,phi,ndata\n",
    "    return model.simulator(science_theta_nature,phi,ndata, widget, delay = 2)"
   ]
  },
  {
   "cell_type": "code",
   "execution_count": 7,
   "metadata": {
    "collapsed": true
   },
   "outputs": [],
   "source": [
    "def calculate_posterior(prior,data,phi):\n",
    "    print 'Calculate Posterior...'\n",
    "    \n",
    "    posterior = common.calculate_posterior(\n",
    "                            prior,data,phi,\n",
    "                            lnprob_args = model.details_likelihood_settings,\n",
    "                            n_chainlen = 50\n",
    "    )\n",
    "    maximum_a_post = posterior.map(model.details_map_bins)\n",
    "    \n",
    "    print 'Best Theta: ', maximum_a_post\n",
    "    return posterior, maximum_a_post"
   ]
  },
  {
   "cell_type": "code",
   "execution_count": 8,
   "metadata": {
    "collapsed": true
   },
   "outputs": [],
   "source": [
    "def design_next_experiment(prior):\n",
    "    print 'Design Next Experiment...'\n",
    "    \n",
    "    eig_kwargs = {'emcee_kwargs' : {\n",
    "                      'n_chainlen': 50,\n",
    "                      'lnprob_args': model.details_likelihood_settings},\n",
    "                  'sim_n_data': science_ndata,\n",
    "                  'map_bins': model.details_map_bins}\n",
    "    res_gp   = common.design_next_experiment_bayesopt(prior,model.phi_range,eig_kwargs, n_totalcalls = 7)\n",
    "    res_next_phi = res_gp[0].x[0]\n",
    "    \n",
    "    print 'Next Phi: ', res_next_phi\n",
    "    return res_gp,res_next_phi"
   ]
  },
  {
   "cell_type": "code",
   "execution_count": 9,
   "metadata": {},
   "outputs": [
    {
     "data": {
      "application/vnd.jupyter.widget-view+json": {
       "model_id": "fc6c9754228e441f8ff8ba2c25286427"
      }
     },
     "metadata": {},
     "output_type": "display_data"
    }
   ],
   "source": [
    "import science_loop_widget\n",
    "import yadage_widget\n",
    "from ipywidgets import widgets\n",
    "science_wdg = science_loop_widget.loopwidget()\n",
    "collect_ui  = yadage_widget.WorkflowWidget(None)\n",
    "widgets.HBox([science_wdg.view,collect_ui])"
   ]
  },
  {
   "cell_type": "markdown",
   "metadata": {},
   "source": [
    "# Running the Science Loop"
   ]
  },
  {
   "cell_type": "code",
   "execution_count": null,
   "metadata": {
    "scrolled": false
   },
   "outputs": [
    {
     "name": "stdout",
     "output_type": "stream",
     "text": [
      "Taking Data... 1.0 -1 20\n",
      "Calculate Posterior...\n",
      "Best Theta:  0.625\n",
      "Design Next Experiment...\n",
      "2017-06-08 23:08:31.633980 EIG via 4 parallel experiments with [theta,phi] 0.625 49.6702983901\n",
      "2017-06-08 23:20:45.600228 EIG via 4 parallel experiments with [theta,phi] 0.625 45.4723224918\n",
      "2017-06-08 23:32:53.783607 EIG via 4 parallel experiments with [theta,phi] 0.625 49.7268435996\n",
      "2017-06-08 23:45:16.063317 EIG via 4 parallel experiments with [theta,phi] 0.625 47.1481599367\n",
      "2017-06-08 23:57:48.797196 EIG via 4 parallel experiments with [theta,phi] 0.625 46.977288246\n",
      "2017-06-09 00:10:00.398065 EIG via 4 parallel experiments with [theta,phi] 0.625 42.1189583083\n",
      "2017-06-09 00:21:56.915544 EIG via 4 parallel experiments with [theta,phi] 0.625 45.1946175602\n",
      "Next Phi:  45.4723224918\n"
     ]
    },
    {
     "data": {
      "text/plain": [
       "<matplotlib.figure.Figure at 0x7f7767fcf350>"
      ]
     },
     "metadata": {},
     "output_type": "display_data"
    },
    {
     "data": {
      "image/png": "[encoded data removed]",
      "text/plain": [
       "<matplotlib.figure.Figure at 0x7f7767fcf450>"
      ]
     },
     "metadata": {},
     "output_type": "display_data"
    },
    {
     "name": "stdout",
     "output_type": "stream",
     "text": [
      "Taking Data... 1.0 45.4723224918 20\n",
      "Calculate Posterior...\n",
      "Best Theta:  0.725\n",
      "Design Next Experiment...\n",
      "2017-06-09 00:47:51.530840 EIG via 4 parallel experiments with [theta,phi] 0.725 49.6702983901\n",
      "2017-06-09 01:00:00.596331 EIG via 4 parallel experiments with [theta,phi] 0.725 45.4723224918\n",
      "2017-06-09 01:12:28.300512 EIG via 4 parallel experiments with [theta,phi] 0.725 49.7268435996\n",
      "2017-06-09 01:24:47.836974 EIG via 4 parallel experiments with [theta,phi] 0.725 47.1481599367\n",
      "2017-06-09 01:36:29.347945 EIG via 4 parallel experiments with [theta,phi] 0.725 46.977288246\n",
      "2017-06-09 01:48:03.357723 EIG via 4 parallel experiments with [theta,phi] 0.725 49.07498467\n",
      "2017-06-09 02:04:27.314663 EIG via 4 parallel experiments with [theta,phi] 0.725 45.2362566663\n",
      "Next Phi:  49.6702983901\n"
     ]
    },
    {
     "data": {
      "text/plain": [
       "<matplotlib.figure.Figure at 0x7f7767d71dd0>"
      ]
     },
     "metadata": {},
     "output_type": "display_data"
    },
    {
     "data": {
      "image/png": "[encoded data removed]",
      "text/plain": [
       "<matplotlib.figure.Figure at 0x7f7767d9b990>"
      ]
     },
     "metadata": {},
     "output_type": "display_data"
    }
   ],
   "source": [
    "# initial experimental settings and uninformative prior\n",
    "loop_phi = 47.\n",
    "loop_prior = distr.Distribution('prior',range = model.theta_range)\n",
    "\n",
    "science_history = []\n",
    "n_science_iterations = 2\n",
    "for i in range(n_science_iterations):\n",
    "    plt.clf()\n",
    "\n",
    "    fig,axarr = plt.subplots(1,3)\n",
    "    fig.set_size_inches(10,2)\n",
    "    axarr[0].set_title('data')\n",
    "    \n",
    "    ## 1. Perform Experiment\n",
    "    science_wdg.toggle(0)\n",
    "    loop_data = collect_data(loop_phi,science_ndata, widget = collect_ui)\n",
    "    plots.plot_data(loop_data,model.data_range, ax = axarr[0])\n",
    "\n",
    "    ## 2. Calculate the Posterior\n",
    "    science_wdg.toggle(1)\n",
    "    loop_posterior, loop_best_theta = calculate_posterior(loop_prior,loop_data,loop_phi)\n",
    "    plots.plot_posterior(loop_prior,loop_posterior,loop_best_theta,science_theta_nature, model.theta_range, ax = axarr[1])\n",
    "\n",
    "    ## 3. Design Next Experiment\n",
    "    science_wdg.toggle(2)\n",
    "    loop_res_gp, loop_next_phi = design_next_experiment(loop_posterior)\n",
    "\n",
    "    plots.plot_bayes(loop_res_gp,phi_range = model.phi_range, ax = axarr[2])\n",
    "    plt.show()\n",
    "\n",
    "\n",
    "    science_history.append([loop_data,loop_prior,loop_posterior,loop_best_theta,science_theta_nature,loop_res_gp])\n",
    "    \n",
    "    ## 5. Update our Prior and experimental settings\n",
    "    loop_prior = loop_posterior\n",
    "    loop_phi   = loop_next_phi"
   ]
  },
  {
   "cell_type": "code",
   "execution_count": null,
   "metadata": {
    "collapsed": true
   },
   "outputs": [],
   "source": []
  },
  {
   "cell_type": "code",
   "execution_count": null,
   "metadata": {
    "collapsed": true
   },
   "outputs": [],
   "source": []
  },
  {
   "cell_type": "code",
   "execution_count": null,
   "metadata": {
    "collapsed": true
   },
   "outputs": [],
   "source": []
  }
 ],
 "metadata": {
  "kernelspec": {
   "display_name": "Python 2",
   "language": "python",
   "name": "python2"
  },
  "language_info": {
   "codemirror_mode": {
    "name": "ipython",
    "version": 2
   },
   "file_extension": ".py",
   "mimetype": "text/x-python",
   "name": "python",
   "nbconvert_exporter": "python",
   "pygments_lexer": "ipython2",
   "version": "2.7.13"
  },
  "widgets": {
   "application/vnd.jupyter.widget-state+json": {
    "state": {
     "008fcf938a224f80a9bc1dee1ab5f5e8": {
      "model_module": "jupyter-js-widgets",
      "model_module_version": "~2.1.4",
      "model_name": "LayoutModel",
      "state": {
       "_model_module_version": "~2.1.4",
       "_view_module_version": "~2.1.4"
      }
     },
     "311934cb0148497995d4dc1e18e3691a": {
      "model_module": "jupyter-js-widgets",
      "model_module_version": "~2.1.4",
      "model_name": "HTMLModel",
      "state": {
       "_model_module_version": "~2.1.4",
       "_view_module_version": "~2.1.4",
       "layout": "IPY_MODEL_7ff8ca98736d4aff806f2249bc75a8cd",
       "value": "<span style=\"font-weight: bold; background-color: green; color: white; margin:0 px; width: 100px;\">Design Next</span>"
      }
     },
     "48701f3c5c694f729f5f62aa7ae63d84": {
      "model_module": "jupyter-js-widgets",
      "model_module_version": "~2.1.4",
      "model_name": "HTMLModel",
      "state": {
       "_model_module_version": "~2.1.4",
       "_view_module_version": "~2.1.4",
       "layout": "IPY_MODEL_c1d3e42597084083bedc5fbc2b95a4c8",
       "value": "<span style=\"font-weight: bold; background-color: white; color: black; margin:0 px; width: 100px;\">Collect Data</span>"
      }
     },
     "66704f6402f64bdf9be4063b81bc9a63": {
      "model_module": "jupyter-js-widgets",
      "model_module_version": "*",
      "model_name": "DOMWidgetModel",
      "state": {
       "_model_name": "DOMWidgetModel",
       "_view_module": "yadage",
       "_view_name": "WorkflowWidgetView",
       "dotstring": "strict digraph \"\" {\nlabel=\"2017-06-09 00:34:35\";\n\"32aa474a2909db7125e2198c8a499d6d034c91e9\" [color=green, label=\"generate \", style=filled];\n\"731992567466f35be3ee40e374d89e909797f2c6\" [color=green, label=\"recontructiona \", style=filled];\nbfbc2c5430ff94c9837a974a84e43bae8c330138 [color=green, label=\"init \", style=filled];\nc1cf573c6068ce02a06ed5510104cbf7a8835089 [color=green, label=\"detsim \", style=filled];\nac996f73d52c5b795efa625f6427f97d592548b7 [color=green, label=\"feature_extraction \", style=filled];\n\"32aa474a2909db7125e2198c8a499d6d034c91e9\" -> c1cf573c6068ce02a06ed5510104cbf7a8835089;\n\"731992567466f35be3ee40e374d89e909797f2c6\" -> ac996f73d52c5b795efa625f6427f97d592548b7;\nbfbc2c5430ff94c9837a974a84e43bae8c330138 -> \"32aa474a2909db7125e2198c8a499d6d034c91e9\";\nc1cf573c6068ce02a06ed5510104cbf7a8835089 -> \"731992567466f35be3ee40e374d89e909797f2c6\";\n}\n",
       "layout": "IPY_MODEL_9118652a835b4c0799f4f08446cff783"
      }
     },
     "7024cdd5129449f3a084c9f7e0a300c8": {
      "model_module": "jupyter-js-widgets",
      "model_module_version": "~2.1.4",
      "model_name": "LayoutModel",
      "state": {
       "_model_module_version": "~2.1.4",
       "_view_module_version": "~2.1.4"
      }
     },
     "7e71087cd1b545bc9b1aa2ea481927b9": {
      "model_module": "jupyter-js-widgets",
      "model_module_version": "~2.1.4",
      "model_name": "VBoxModel",
      "state": {
       "_model_module_version": "~2.1.4",
       "_view_module_version": "~2.1.4",
       "children": [
        "IPY_MODEL_48701f3c5c694f729f5f62aa7ae63d84",
        "IPY_MODEL_9c9d17db0d0b4cd48019d639d7fc179a",
        "IPY_MODEL_311934cb0148497995d4dc1e18e3691a"
       ],
       "layout": "IPY_MODEL_fcc9b1fc8fae437ebf8d753787585773"
      }
     },
     "7ff8ca98736d4aff806f2249bc75a8cd": {
      "model_module": "jupyter-js-widgets",
      "model_module_version": "~2.1.4",
      "model_name": "LayoutModel",
      "state": {
       "_model_module_version": "~2.1.4",
       "_view_module_version": "~2.1.4"
      }
     },
     "9118652a835b4c0799f4f08446cff783": {
      "model_module": "jupyter-js-widgets",
      "model_module_version": "~2.1.4",
      "model_name": "LayoutModel",
      "state": {
       "_model_module_version": "~2.1.4",
       "_view_module_version": "~2.1.4"
      }
     },
     "9c9d17db0d0b4cd48019d639d7fc179a": {
      "model_module": "jupyter-js-widgets",
      "model_module_version": "~2.1.4",
      "model_name": "HTMLModel",
      "state": {
       "_model_module_version": "~2.1.4",
       "_view_module_version": "~2.1.4",
       "layout": "IPY_MODEL_7024cdd5129449f3a084c9f7e0a300c8",
       "value": "<span style=\"font-weight: bold; background-color: white; color: black; margin:0 px; width: 100px;\">Calculate Posterior</span>"
      }
     },
     "c1d3e42597084083bedc5fbc2b95a4c8": {
      "model_module": "jupyter-js-widgets",
      "model_module_version": "~2.1.4",
      "model_name": "LayoutModel",
      "state": {
       "_model_module_version": "~2.1.4",
       "_view_module_version": "~2.1.4"
      }
     },
     "fc6c9754228e441f8ff8ba2c25286427": {
      "model_module": "jupyter-js-widgets",
      "model_module_version": "~2.1.4",
      "model_name": "HBoxModel",
      "state": {
       "_model_module_version": "~2.1.4",
       "_view_module_version": "~2.1.4",
       "children": [
        "IPY_MODEL_7e71087cd1b545bc9b1aa2ea481927b9",
        "IPY_MODEL_66704f6402f64bdf9be4063b81bc9a63"
       ],
       "layout": "IPY_MODEL_008fcf938a224f80a9bc1dee1ab5f5e8"
      }
     },
     "fcc9b1fc8fae437ebf8d753787585773": {
      "model_module": "jupyter-js-widgets",
      "model_module_version": "~2.1.4",
      "model_name": "LayoutModel",
      "state": {
       "_model_module_version": "~2.1.4",
       "_view_module_version": "~2.1.4"
      }
     }
    },
    "version_major": 1,
    "version_minor": 0
   }
  }
 },
 "nbformat": 4,
 "nbformat_minor": 2
}
