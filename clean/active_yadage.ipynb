{
 "cells": [
  {
   "cell_type": "code",
   "execution_count": 1,
   "metadata": {},
   "outputs": [
    {
     "name": "stdout",
     "output_type": "stream",
     "text": [
      "Populating the interactive namespace from numpy and matplotlib\n"
     ]
    }
   ],
   "source": [
    "%pylab inline"
   ]
  },
  {
   "cell_type": "code",
   "execution_count": 2,
   "metadata": {
    "collapsed": true
   },
   "outputs": [],
   "source": [
    "import distr\n",
    "import common\n",
    "import multiprocessing"
   ]
  },
  {
   "cell_type": "code",
   "execution_count": 3,
   "metadata": {
    "collapsed": true
   },
   "outputs": [],
   "source": [
    "import yadage_sim"
   ]
  },
  {
   "cell_type": "code",
   "execution_count": 4,
   "metadata": {
    "collapsed": true
   },
   "outputs": [],
   "source": [
    "PHI_RANGE     = [40.,50.]\n",
    "THETA_RANGE   = [0.5,1.5]\n",
    "DATA_RANGE    = [-1,1] \n",
    "THE_SIMULATOR = yadage_sim.simulator"
   ]
  },
  {
   "cell_type": "code",
   "execution_count": 5,
   "metadata": {
    "collapsed": true
   },
   "outputs": [],
   "source": [
    "model_details_shifts = [-2,2]\n",
    "model_details_mirror = True\n",
    "model_details_lnlike_nsim = 1000\n",
    "model_details_map_bins = 20"
   ]
  },
  {
   "cell_type": "code",
   "execution_count": 6,
   "metadata": {
    "collapsed": true
   },
   "outputs": [],
   "source": [
    "intro_theta_nom = 1.0\n",
    "intro_phi_noms  = 43,47\n",
    "intro_binning   = 21\n",
    "\n",
    "example_phi = 47.\n",
    "example_theta = 1.0\n",
    "example_ndata = 100"
   ]
  },
  {
   "cell_type": "markdown",
   "metadata": {},
   "source": [
    "# Introducing the Model p(x|$\\theta$,$\\Phi$)"
   ]
  },
  {
   "cell_type": "code",
   "execution_count": 7,
   "metadata": {},
   "outputs": [
    {
     "name": "stdout",
     "output_type": "stream",
     "text": [
      "/Users/lukas/Code/active_sciencing/clean/tmppkPSDF\n"
     ]
    },
    {
     "name": "stderr",
     "output_type": "stream",
     "text": [
      "2017-06-08 04:29:55,479 - packtivity_logger_generate.step - INFO - prepare pull\n",
      "2017-06-08 04:29:57,545 - packtivity_logger_generate.step - INFO - running job\n",
      "2017-06-08 04:29:58,751 - packtivity_logger_generate.step - INFO - publishing data: {'outfile': '/Users/lukas/Code/active_sciencing/clean/tmppkPSDF/generate/out.np'}\n"
     ]
    },
    {
     "name": "stdout",
     "output_type": "stream",
     "text": [
      "/Users/lukas/Code/active_sciencing/clean/tmp2Em8bo\n"
     ]
    },
    {
     "name": "stderr",
     "output_type": "stream",
     "text": [
      "2017-06-08 04:30:01,904 - packtivity_logger_generate.step - INFO - prepare pull\n",
      "2017-06-08 04:30:03,965 - packtivity_logger_generate.step - INFO - running job\n",
      "2017-06-08 04:30:05,135 - packtivity_logger_generate.step - INFO - publishing data: {'outfile': '/Users/lukas/Code/active_sciencing/clean/tmp2Em8bo/generate/out.np'}\n"
     ]
    },
    {
     "name": "stdout",
     "output_type": "stream",
     "text": [
      "/Users/lukas/Code/active_sciencing/clean/tmpP16K8u\n"
     ]
    },
    {
     "name": "stderr",
     "output_type": "stream",
     "text": [
      "2017-06-08 04:30:07,980 - packtivity_logger_generate.step - INFO - prepare pull\n",
      "2017-06-08 04:30:09,984 - packtivity_logger_generate.step - INFO - running job\n",
      "2017-06-08 04:30:11,087 - packtivity_logger_generate.step - INFO - publishing data: {'outfile': '/Users/lukas/Code/active_sciencing/clean/tmpP16K8u/generate/out.np'}\n"
     ]
    },
    {
     "name": "stdout",
     "output_type": "stream",
     "text": [
      "/Users/lukas/Code/active_sciencing/clean/tmpH482ty\n"
     ]
    },
    {
     "name": "stderr",
     "output_type": "stream",
     "text": [
      "2017-06-08 04:30:14,146 - packtivity_logger_generate.step - INFO - prepare pull\n",
      "2017-06-08 04:30:16,133 - packtivity_logger_generate.step - INFO - running job\n",
      "2017-06-08 04:30:17,218 - packtivity_logger_generate.step - INFO - publishing data: {'outfile': '/Users/lukas/Code/active_sciencing/clean/tmpH482ty/generate/out.np'}\n"
     ]
    },
    {
     "name": "stdout",
     "output_type": "stream",
     "text": [
      "/Users/lukas/Code/active_sciencing/clean/tmpQSBxJq\n"
     ]
    },
    {
     "name": "stderr",
     "output_type": "stream",
     "text": [
      "2017-06-08 04:30:20,404 - packtivity_logger_generate.step - INFO - prepare pull\n",
      "2017-06-08 04:30:22,381 - packtivity_logger_generate.step - INFO - running job\n",
      "2017-06-08 04:30:23,615 - packtivity_logger_generate.step - INFO - publishing data: {'outfile': '/Users/lukas/Code/active_sciencing/clean/tmpQSBxJq/generate/out.np'}\n"
     ]
    },
    {
     "name": "stdout",
     "output_type": "stream",
     "text": [
      "/Users/lukas/Code/active_sciencing/clean/tmpMHs3or\n"
     ]
    },
    {
     "name": "stderr",
     "output_type": "stream",
     "text": [
      "2017-06-08 04:30:26,978 - packtivity_logger_generate.step - INFO - prepare pull\n",
      "2017-06-08 04:30:29,011 - packtivity_logger_generate.step - INFO - running job\n",
      "2017-06-08 04:30:30,237 - packtivity_logger_generate.step - INFO - publishing data: {'outfile': '/Users/lukas/Code/active_sciencing/clean/tmpMHs3or/generate/out.np'}\n"
     ]
    },
    {
     "name": "stdout",
     "output_type": "stream",
     "text": [
      "/Users/lukas/Code/active_sciencing/clean/tmpf1qibt\n"
     ]
    },
    {
     "name": "stderr",
     "output_type": "stream",
     "text": [
      "2017-06-08 04:30:33,628 - packtivity_logger_generate.step - INFO - prepare pull\n",
      "2017-06-08 04:30:35,624 - packtivity_logger_generate.step - INFO - running job\n",
      "2017-06-08 04:30:36,741 - packtivity_logger_generate.step - INFO - publishing data: {'outfile': '/Users/lukas/Code/active_sciencing/clean/tmpf1qibt/generate/out.np'}\n"
     ]
    },
    {
     "name": "stdout",
     "output_type": "stream",
     "text": [
      "/Users/lukas/Code/active_sciencing/clean/tmppJv9M0\n"
     ]
    },
    {
     "name": "stderr",
     "output_type": "stream",
     "text": [
      "2017-06-08 04:30:40,063 - packtivity_logger_generate.step - INFO - prepare pull\n",
      "2017-06-08 04:30:42,076 - packtivity_logger_generate.step - INFO - running job\n",
      "2017-06-08 04:30:43,493 - packtivity_logger_generate.step - INFO - publishing data: {'outfile': '/Users/lukas/Code/active_sciencing/clean/tmppJv9M0/generate/out.np'}\n"
     ]
    },
    {
     "name": "stdout",
     "output_type": "stream",
     "text": [
      "/Users/lukas/Code/active_sciencing/clean/tmpEtPuAd\n"
     ]
    },
    {
     "name": "stderr",
     "output_type": "stream",
     "text": [
      "2017-06-08 04:30:47,732 - packtivity_logger_generate.step - INFO - prepare pull\n",
      "2017-06-08 04:30:49,898 - packtivity_logger_generate.step - INFO - running job\n",
      "2017-06-08 04:30:51,094 - packtivity_logger_generate.step - INFO - publishing data: {'outfile': '/Users/lukas/Code/active_sciencing/clean/tmpEtPuAd/generate/out.np'}\n"
     ]
    },
    {
     "name": "stdout",
     "output_type": "stream",
     "text": [
      "/Users/lukas/Code/active_sciencing/clean/tmp4K0Mcs\n"
     ]
    },
    {
     "name": "stderr",
     "output_type": "stream",
     "text": [
      "2017-06-08 04:30:55,279 - packtivity_logger_generate.step - INFO - prepare pull\n",
      "2017-06-08 04:30:57,318 - packtivity_logger_generate.step - INFO - running job\n",
      "2017-06-08 04:30:58,475 - packtivity_logger_generate.step - INFO - publishing data: {'outfile': '/Users/lukas/Code/active_sciencing/clean/tmp4K0Mcs/generate/out.np'}\n"
     ]
    },
    {
     "name": "stdout",
     "output_type": "stream",
     "text": [
      "/Users/lukas/Code/active_sciencing/clean/tmp2IDMSx\n"
     ]
    },
    {
     "name": "stderr",
     "output_type": "stream",
     "text": [
      "2017-06-08 04:31:02,374 - packtivity_logger_generate.step - INFO - prepare pull\n",
      "2017-06-08 04:31:04,333 - packtivity_logger_generate.step - INFO - running job\n",
      "2017-06-08 04:31:05,437 - packtivity_logger_generate.step - INFO - publishing data: {'outfile': '/Users/lukas/Code/active_sciencing/clean/tmp2IDMSx/generate/out.np'}\n"
     ]
    },
    {
     "name": "stdout",
     "output_type": "stream",
     "text": [
      "/Users/lukas/Code/active_sciencing/clean/tmpMuPLcw\n"
     ]
    },
    {
     "name": "stderr",
     "output_type": "stream",
     "text": [
      "2017-06-08 04:31:08,850 - packtivity_logger_generate.step - INFO - prepare pull\n",
      "2017-06-08 04:31:10,875 - packtivity_logger_generate.step - INFO - running job\n",
      "2017-06-08 04:31:12,102 - packtivity_logger_generate.step - INFO - publishing data: {'outfile': '/Users/lukas/Code/active_sciencing/clean/tmpMuPLcw/generate/out.np'}\n"
     ]
    },
    {
     "name": "stdout",
     "output_type": "stream",
     "text": [
      "/Users/lukas/Code/active_sciencing/clean/tmpd9cyta\n"
     ]
    },
    {
     "name": "stderr",
     "output_type": "stream",
     "text": [
      "2017-06-08 04:31:15,600 - packtivity_logger_generate.step - INFO - prepare pull\n",
      "2017-06-08 04:31:17,612 - packtivity_logger_generate.step - INFO - running job\n",
      "2017-06-08 04:31:18,717 - packtivity_logger_generate.step - INFO - publishing data: {'outfile': '/Users/lukas/Code/active_sciencing/clean/tmpd9cyta/generate/out.np'}\n"
     ]
    },
    {
     "name": "stdout",
     "output_type": "stream",
     "text": [
      "/Users/lukas/Code/active_sciencing/clean/tmpJHfdXs\n"
     ]
    },
    {
     "name": "stderr",
     "output_type": "stream",
     "text": [
      "2017-06-08 04:31:22,194 - packtivity_logger_generate.step - INFO - prepare pull\n",
      "2017-06-08 04:31:24,233 - packtivity_logger_generate.step - INFO - running job\n",
      "2017-06-08 04:31:25,419 - packtivity_logger_generate.step - INFO - publishing data: {'outfile': '/Users/lukas/Code/active_sciencing/clean/tmpJHfdXs/generate/out.np'}\n"
     ]
    },
    {
     "name": "stdout",
     "output_type": "stream",
     "text": [
      "/Users/lukas/Code/active_sciencing/clean/tmpWj_DB1\n"
     ]
    },
    {
     "name": "stderr",
     "output_type": "stream",
     "text": [
      "2017-06-08 04:31:28,847 - packtivity_logger_generate.step - INFO - prepare pull\n",
      "2017-06-08 04:31:31,006 - packtivity_logger_generate.step - INFO - running job\n",
      "2017-06-08 04:31:32,438 - packtivity_logger_generate.step - INFO - publishing data: {'outfile': '/Users/lukas/Code/active_sciencing/clean/tmpWj_DB1/generate/out.np'}\n"
     ]
    },
    {
     "name": "stdout",
     "output_type": "stream",
     "text": [
      "/Users/lukas/Code/active_sciencing/clean/tmpl4BC2T\n"
     ]
    },
    {
     "name": "stderr",
     "output_type": "stream",
     "text": [
      "2017-06-08 04:31:36,925 - packtivity_logger_generate.step - INFO - prepare pull\n",
      "2017-06-08 04:31:39,063 - packtivity_logger_generate.step - INFO - running job\n",
      "2017-06-08 04:31:40,179 - packtivity_logger_generate.step - INFO - publishing data: {'outfile': '/Users/lukas/Code/active_sciencing/clean/tmpl4BC2T/generate/out.np'}\n"
     ]
    },
    {
     "name": "stdout",
     "output_type": "stream",
     "text": [
      "/Users/lukas/Code/active_sciencing/clean/tmpllpk1N\n"
     ]
    },
    {
     "name": "stderr",
     "output_type": "stream",
     "text": [
      "2017-06-08 04:31:43,638 - packtivity_logger_generate.step - INFO - prepare pull\n",
      "2017-06-08 04:31:45,769 - packtivity_logger_generate.step - INFO - running job\n",
      "2017-06-08 04:31:46,978 - packtivity_logger_generate.step - INFO - publishing data: {'outfile': '/Users/lukas/Code/active_sciencing/clean/tmpllpk1N/generate/out.np'}\n"
     ]
    },
    {
     "name": "stdout",
     "output_type": "stream",
     "text": [
      "/Users/lukas/Code/active_sciencing/clean/tmp8R8B4C\n"
     ]
    },
    {
     "name": "stderr",
     "output_type": "stream",
     "text": [
      "2017-06-08 04:31:53,193 - packtivity_logger_generate.step - INFO - prepare pull\n",
      "2017-06-08 04:31:55,222 - packtivity_logger_generate.step - INFO - running job\n",
      "2017-06-08 04:31:56,970 - packtivity_logger_generate.step - INFO - publishing data: {'outfile': '/Users/lukas/Code/active_sciencing/clean/tmp8R8B4C/generate/out.np'}\n"
     ]
    },
    {
     "data": {
      "image/png": "[encoded data removed]",
      "text/plain": [
       "<matplotlib.figure.Figure at 0x10743e450>"
      ]
     },
     "metadata": {},
     "output_type": "display_data"
    }
   ],
   "source": [
    "cm = plt.get_cmap('copper')\n",
    "fig,axarr = plt.subplots(1,3)\n",
    "fig.set_size_inches(20,5)\n",
    "bins = np.linspace(*DATA_RANGE, num = intro_binning)\n",
    "\n",
    "nsteps_phi, theta_nom = 6, intro_theta_nom\n",
    "for i,phi in enumerate(np.linspace(*PHI_RANGE,num = nsteps_phi)):\n",
    "    _=axarr[0].hist(THE_SIMULATOR(theta_nom,phi,10000), bins = bins, color = cm(i/float(nsteps_phi)), alpha = 0.5, histtype='step')\n",
    "\n",
    "nsteps_theta, phi_nom = 6, intro_phi_noms[0]\n",
    "for i,theta in enumerate(np.linspace(*THETA_RANGE,num = nsteps_theta)):\n",
    "    _=axarr[1].hist(THE_SIMULATOR(theta,phi_nom,10000), bins = bins, color = cm(i/float(nsteps_phi)), alpha = 0.5, histtype='step')\n",
    "    \n",
    "nsteps_theta, phi_nom = 6, intro_phi_noms[1]\n",
    "for i,theta in enumerate(np.linspace(*THETA_RANGE,num = nsteps_theta)):\n",
    "    _=axarr[2].hist(THE_SIMULATOR(theta,phi_nom,10000), bins = bins, color = cm(i/float(nsteps_phi)), alpha = 0.5, histtype='step')"
   ]
  },
  {
   "cell_type": "markdown",
   "metadata": {},
   "source": [
    "# An Example Experiment\n",
    "## Taking Data"
   ]
  },
  {
   "cell_type": "code",
   "execution_count": 8,
   "metadata": {},
   "outputs": [
    {
     "name": "stdout",
     "output_type": "stream",
     "text": [
      "/Users/lukas/Code/active_sciencing/clean/tmpG3uzrv\n"
     ]
    },
    {
     "name": "stderr",
     "output_type": "stream",
     "text": [
      "2017-06-08 04:32:33,229 - packtivity_logger_generate.step - INFO - prepare pull\n",
      "2017-06-08 04:32:35,437 - packtivity_logger_generate.step - INFO - running job\n",
      "2017-06-08 04:32:36,559 - packtivity_logger_generate.step - INFO - publishing data: {'outfile': '/Users/lukas/Code/active_sciencing/clean/tmpG3uzrv/generate/out.np'}\n"
     ]
    },
    {
     "name": "stdout",
     "output_type": "stream",
     "text": [
      "/Users/lukas/Code/active_sciencing/clean/tmp73XIMq\n"
     ]
    },
    {
     "name": "stderr",
     "output_type": "stream",
     "text": [
      "2017-06-08 04:32:39,944 - packtivity_logger_generate.step - INFO - prepare pull\n",
      "2017-06-08 04:32:41,960 - packtivity_logger_generate.step - INFO - running job\n",
      "2017-06-08 04:32:43,178 - packtivity_logger_generate.step - INFO - publishing data: {'outfile': '/Users/lukas/Code/active_sciencing/clean/tmp73XIMq/generate/out.np'}\n"
     ]
    },
    {
     "name": "stdout",
     "output_type": "stream",
     "text": [
      "/Users/lukas/Code/active_sciencing/clean/tmpp_lNEJ\n"
     ]
    },
    {
     "name": "stderr",
     "output_type": "stream",
     "text": [
      "2017-06-08 04:32:46,660 - packtivity_logger_generate.step - INFO - prepare pull\n",
      "2017-06-08 04:32:48,683 - packtivity_logger_generate.step - INFO - running job\n",
      "2017-06-08 04:32:49,784 - packtivity_logger_generate.step - INFO - publishing data: {'outfile': '/Users/lukas/Code/active_sciencing/clean/tmpp_lNEJ/generate/out.np'}\n"
     ]
    },
    {
     "data": {
      "text/plain": [
       "[<matplotlib.lines.Line2D at 0x108d8b1d0>]"
      ]
     },
     "execution_count": 8,
     "metadata": {},
     "output_type": "execute_result"
    },
    {
     "data": {
      "image/png": "[encoded data removed]",
      "text/plain": [
       "<matplotlib.figure.Figure at 0x1087b8e10>"
      ]
     },
     "metadata": {},
     "output_type": "display_data"
    }
   ],
   "source": [
    "fig,axarr = plt.subplots(1,2)\n",
    "fig.set_size_inches(20,5)\n",
    "\n",
    "\n",
    "bins = np.linspace(*DATA_RANGE, num = 11)\n",
    "example_data = common.collect_data(example_phi,THE_SIMULATOR, theta_nature=example_theta, n_samples = example_ndata)\n",
    "datacounts,bins = np.histogram(example_data,bins = bins)\n",
    "centers = bins[:-1] + (bins[1:]-bins[:-1])/2.\n",
    "axarr[0].errorbar(centers,datacounts,fmt = 'o',xerr = (bins[1:]-bins[:-1])/2.,yerr = np.sqrt(datacounts), c = 'k')\n",
    "\n",
    "n_mc = 10000\n",
    "mc = THE_SIMULATOR(example_theta,example_phi,n_mc) #simulate much more than data\n",
    "mccounts,_,_ = axarr[0].hist(mc,weights = [float(example_ndata)/float(n_mc)]*n_mc, bins = bins)\n",
    "\n",
    "####\n",
    "\n",
    "samples = THE_SIMULATOR(example_theta,example_phi,n_mc)\n",
    "p = distr.Distribution(\n",
    "    name = 'example_simulation',\n",
    "    samples = samples,\n",
    "    range = DATA_RANGE)\n",
    "\n",
    "p.hist(bins = 10, normed = True,ax = axarr[1])\n",
    "\n",
    "xs = np.linspace(*DATA_RANGE,num = 21)\n",
    "logpdf_nomirr = p.approx_logpdf()\n",
    "logpdf_mirror = p.approx_logpdf(mirror = True, mirror_shifts=model_details_shifts)\n",
    "\n",
    "axarr[1].plot(xs,np.exp(logpdf_nomirr(xs)))\n",
    "axarr[1].plot(xs,np.exp(logpdf_mirror(xs)))"
   ]
  },
  {
   "cell_type": "markdown",
   "metadata": {},
   "source": [
    "## The likelihood $p(x|\\theta,\\Phi)$ and the prior $p(\\theta|\\Phi)$"
   ]
  },
  {
   "cell_type": "code",
   "execution_count": 9,
   "metadata": {},
   "outputs": [
    {
     "name": "stdout",
     "output_type": "stream",
     "text": [
      "/Users/lukas/Code/active_sciencing/clean/tmpxFs8oi\n",
      "/Users/lukas/Code/active_sciencing/clean/tmpEjXKHw\n",
      "/Users/lukas/Code/active_sciencing/clean/tmptsSyY5\n",
      "/Users/lukas/Code/active_sciencing/clean/tmp0LOeUv\n",
      "/Users/lukas/Code/active_sciencing/clean/tmpmf6TLx\n",
      "/Users/lukas/Code/active_sciencing/clean/tmpgWpQ12\n"
     ]
    },
    {
     "ename": "AssertionError",
     "evalue": "daemonic processes are not allowed to have children",
     "output_type": "error",
     "traceback": [
      "\u001b[0;31m---------------------------------------------------------------------------\u001b[0m",
      "\u001b[0;31mAssertionError\u001b[0m                            Traceback (most recent call last)",
      "\u001b[0;32m<ipython-input-9-86d35354ff1e>\u001b[0m in \u001b[0;36m<module>\u001b[0;34m()\u001b[0m\n\u001b[1;32m     16\u001b[0m \u001b[0mpool\u001b[0m\u001b[0;34m.\u001b[0m\u001b[0mclose\u001b[0m\u001b[0;34m(\u001b[0m\u001b[0;34m)\u001b[0m\u001b[0;34m\u001b[0m\u001b[0m\n\u001b[1;32m     17\u001b[0m \u001b[0mpool\u001b[0m\u001b[0;34m.\u001b[0m\u001b[0mjoin\u001b[0m\u001b[0;34m(\u001b[0m\u001b[0;34m)\u001b[0m\u001b[0;34m\u001b[0m\u001b[0m\n\u001b[0;32m---> 18\u001b[0;31m \u001b[0mnll\u001b[0m \u001b[0;34m=\u001b[0m \u001b[0;34m[\u001b[0m\u001b[0mr\u001b[0m\u001b[0;34m.\u001b[0m\u001b[0mget\u001b[0m\u001b[0;34m(\u001b[0m\u001b[0;34m)\u001b[0m \u001b[0;32mfor\u001b[0m \u001b[0mr\u001b[0m \u001b[0;32min\u001b[0m \u001b[0mnll\u001b[0m\u001b[0;34m]\u001b[0m\u001b[0;34m\u001b[0m\u001b[0m\n\u001b[0m\u001b[1;32m     19\u001b[0m \u001b[0;34m\u001b[0m\u001b[0m\n\u001b[1;32m     20\u001b[0m \u001b[0mfig\u001b[0m\u001b[0;34m,\u001b[0m\u001b[0maxarr\u001b[0m \u001b[0;34m=\u001b[0m \u001b[0mplt\u001b[0m\u001b[0;34m.\u001b[0m\u001b[0msubplots\u001b[0m\u001b[0;34m(\u001b[0m\u001b[0;36m1\u001b[0m\u001b[0;34m,\u001b[0m\u001b[0;36m2\u001b[0m\u001b[0;34m)\u001b[0m\u001b[0;34m\u001b[0m\u001b[0m\n",
      "\u001b[0;32m/System/Library/Frameworks/Python.framework/Versions/2.7/lib/python2.7/multiprocessing/pool.pyc\u001b[0m in \u001b[0;36mget\u001b[0;34m(self, timeout)\u001b[0m\n\u001b[1;32m    565\u001b[0m             \u001b[0;32mreturn\u001b[0m \u001b[0mself\u001b[0m\u001b[0;34m.\u001b[0m\u001b[0m_value\u001b[0m\u001b[0;34m\u001b[0m\u001b[0m\n\u001b[1;32m    566\u001b[0m         \u001b[0;32melse\u001b[0m\u001b[0;34m:\u001b[0m\u001b[0;34m\u001b[0m\u001b[0m\n\u001b[0;32m--> 567\u001b[0;31m             \u001b[0;32mraise\u001b[0m \u001b[0mself\u001b[0m\u001b[0;34m.\u001b[0m\u001b[0m_value\u001b[0m\u001b[0;34m\u001b[0m\u001b[0m\n\u001b[0m\u001b[1;32m    568\u001b[0m \u001b[0;34m\u001b[0m\u001b[0m\n\u001b[1;32m    569\u001b[0m     \u001b[0;32mdef\u001b[0m \u001b[0m_set\u001b[0m\u001b[0;34m(\u001b[0m\u001b[0mself\u001b[0m\u001b[0;34m,\u001b[0m \u001b[0mi\u001b[0m\u001b[0;34m,\u001b[0m \u001b[0mobj\u001b[0m\u001b[0;34m)\u001b[0m\u001b[0;34m:\u001b[0m\u001b[0;34m\u001b[0m\u001b[0m\n",
      "\u001b[0;31mAssertionError\u001b[0m: daemonic processes are not allowed to have children"
     ]
    }
   ],
   "source": [
    "test_thetas = np.linspace(*THETA_RANGE,num = 6)\n",
    "pool = multiprocessing.Pool(4)\n",
    "\n",
    "\n",
    "nll = [pool.apply_async(common.lnlike,\n",
    "                        args = (theta_test,example_data,example_phi),\n",
    "                        kwds = dict(\n",
    "                         simulator=THE_SIMULATOR,\n",
    "                         simulation_kwargs = {'n_samples': model_details_lnlike_nsim},\n",
    "                         distr_kwargs =  {'range': DATA_RANGE},\n",
    "                         logpdf_kwargs = {'mirror': model_details_mirror, 'mirror_shifts': model_details_shifts}\n",
    "                        )\n",
    "                       ) for theta_test in test_thetas]\n",
    "[r.ready() for r in nll]\n",
    "\n",
    "pool.close()\n",
    "pool.join()\n",
    "nll = [r.get() for r in nll]\n",
    "\n",
    "fig,axarr = plt.subplots(1,2)\n",
    "fig.set_size_inches(20,5)\n",
    "\n",
    "axarr[0].plot(test_thetas,nll)\n",
    "axarr[0].axvline(example_theta, c = 'grey') #truth\n",
    "axarr[0].axvline(test_thetas[np.argmax(nll)], c = 'r') #max NLL\n",
    "\n",
    "\n",
    "example_prior = distr.Distribution('prior',range = THETA_RANGE)\n",
    "xs = np.linspace(*THETA_RANGE,num = 21)\n",
    "logpdf = example_prior.approx_logpdf()\n",
    "axarr[1].plot(xs,np.exp(logpdf(xs)))"
   ]
  },
  {
   "cell_type": "markdown",
   "metadata": {},
   "source": [
    "## The posterior $p(\\theta|x,\\Phi)$"
   ]
  },
  {
   "cell_type": "code",
   "execution_count": null,
   "metadata": {},
   "outputs": [],
   "source": [
    "example_posterior = common.calculate_posterior(\n",
    "    example_prior,example_data,example_phi,\n",
    "    lnprob_args = dict(simulator = THE_SIMULATOR,\n",
    "                       simulation_kwargs = {'n_samples': model_details_lnlike_nsim},\n",
    "                       distr_kwargs =  {'range': DATA_RANGE},\n",
    "                       logpdf_kwargs = {'mirror': model_details_mirror, 'mirror_shifts': model_details_shifts}\n",
    "                  ),\n",
    "    n_chainlen = 50\n",
    ")"
   ]
  },
  {
   "cell_type": "code",
   "execution_count": null,
   "metadata": {},
   "outputs": [],
   "source": [
    "xs = np.linspace(*THETA_RANGE,num = model_details_map_bins+1)\n",
    "example_posterior.hist(bins = model_details_map_bins,normed = True)\n",
    "example_prior.plot()\n",
    "example_posterior.plot()\n",
    "example_best_theta = example_posterior.map(bins = model_details_map_bins)\n",
    "plt.axvline(example_best_theta, c = 'k')"
   ]
  },
  {
   "cell_type": "code",
   "execution_count": null,
   "metadata": {},
   "outputs": [],
   "source": [
    "emcee_kwargs = dict(\n",
    "    n_chainlen = 30,\n",
    "    lnprob_args = dict(simulator = THE_SIMULATOR,\n",
    "                       simulation_kwargs = {'n_samples': model_details_lnlike_nsim},\n",
    "                       distr_kwargs =  {'range': DATA_RANGE},\n",
    "                       logpdf_kwargs = {'mirror': model_details_mirror, 'mirror_shifts': model_details_shifts}\n",
    "                       )\n",
    ")\n",
    "eig_kwargs = dict(emcee_kwargs = emcee_kwargs, sim_n_data = example_ndata, map_bins = model_details_map_bins)\n",
    "\n",
    "# for x in eig_test_phis.reshape(-1,1):\n",
    "#     eig.append(common.expected_information_gain(x,example_posterior, emcee_kwargs = emcee_kwargs,))\n",
    "\n",
    "\n",
    "res_sg = common.design_next_experiment_simplegrid(example_posterior,PHI_RANGE,eig_kwargs)"
   ]
  },
  {
   "cell_type": "code",
   "execution_count": null,
   "metadata": {},
   "outputs": [],
   "source": [
    "example_next_phi = res_sg[0]\n",
    "plt.plot(res_sg[1],res_sg[2])\n",
    "plt.axvline(example_next_phi, c = 'r')"
   ]
  },
  {
   "cell_type": "markdown",
   "metadata": {},
   "source": [
    "## The expected improvement in $\\theta$"
   ]
  },
  {
   "cell_type": "code",
   "execution_count": null,
   "metadata": {},
   "outputs": [],
   "source": [
    "new_data_expected = common.collect_data(example_next_phi,THE_SIMULATOR,theta_nature=example_best_theta, n_samples = example_ndata)\n",
    "example_exp_posterior = common.calculate_posterior(\n",
    "    example_posterior,new_data_expected,example_next_phi,\n",
    "    lnprob_args = dict(simulator = THE_SIMULATOR,\n",
    "                       simulation_kwargs = {'n_samples': model_details_lnlike_nsim},\n",
    "                       distr_kwargs =  {'range': DATA_RANGE},\n",
    "                       logpdf_kwargs = {'mirror': model_details_mirror, 'mirror_shifts': model_details_shifts}\n",
    "                  ),\n",
    "    n_chainlen = 50\n",
    ")"
   ]
  },
  {
   "cell_type": "code",
   "execution_count": null,
   "metadata": {},
   "outputs": [],
   "source": [
    "xs = np.linspace(*THETA_RANGE,num = 21)\n",
    "logpdf_prior = example_prior.approx_logpdf()\n",
    "logpdf_postr = example_posterior.approx_logpdf()\n",
    "logpdf_exp_postr = example_exp_posterior.approx_logpdf()\n",
    "plt.plot(xs,np.exp(logpdf_prior(xs)))\n",
    "plt.plot(xs,np.exp(logpdf_postr(xs)))\n",
    "plt.plot(xs,np.exp(logpdf_exp_postr(xs)))"
   ]
  },
  {
   "cell_type": "markdown",
   "metadata": {},
   "source": [
    "## The whole story for a single 'science iteration'"
   ]
  },
  {
   "cell_type": "code",
   "execution_count": null,
   "metadata": {},
   "outputs": [],
   "source": [
    "def summary_plot(data,prior,posterior,best_theta,true_theta,res_sg,expected_posterior):\n",
    "    fig,axarr = plt.subplots(1,4)\n",
    "    fig.set_size_inches(20,4)\n",
    "    bins = np.linspace(*DATA_RANGE, num = 11)\n",
    "    axarr[0].hist(data, bins = bins)\n",
    "    axarr[0].set_title('data')\n",
    "\n",
    "\n",
    "    xs = np.linspace(*THETA_RANGE,num = model_details_map_bins)\n",
    "    logpdf_prior = prior.approx_logpdf()\n",
    "    logpdf_postr = posterior.approx_logpdf()\n",
    "    axarr[1].plot(xs,np.exp(logpdf_prior(xs)))\n",
    "    axarr[1].plot(xs,np.exp(logpdf_postr(xs)))\n",
    "    axarr[1].axvline(best_theta, c = 'k')\n",
    "    axarr[1].axvline(true_theta, c = 'grey')\n",
    "    axarr[1].set_title('prior and posterior of parameter of interest')\n",
    "\n",
    "    axarr[2].plot(res_sg[1],res_sg[2])\n",
    "    axarr[2].axvline(res_sg[0], c = 'r')\n",
    "    axarr[2].set_title('expected information gain - next expt')\n",
    "\n",
    "    logpdf_prior = prior.approx_logpdf()\n",
    "    logpdf_postr = posterior.approx_logpdf()\n",
    "    logpdf_exp_postr = expected_posterior.approx_logpdf()\n",
    "    axarr[3].plot(xs,np.exp(logpdf_prior(xs)))\n",
    "    axarr[3].plot(xs,np.exp(logpdf_postr(xs)))\n",
    "    axarr[3].plot(xs,np.exp(logpdf_exp_postr(xs)))\n",
    "    axarr[3].set_title('expected posterior after next exp')\n",
    "    \n",
    "summary_plot(example_data,example_prior,example_posterior,example_best_theta,example_theta,res_sg,example_exp_posterior)"
   ]
  },
  {
   "cell_type": "code",
   "execution_count": null,
   "metadata": {
    "collapsed": true
   },
   "outputs": [],
   "source": []
  },
  {
   "cell_type": "code",
   "execution_count": null,
   "metadata": {
    "collapsed": true
   },
   "outputs": [],
   "source": []
  }
 ],
 "metadata": {
  "kernelspec": {
   "display_name": "Python 2",
   "language": "python",
   "name": "python2"
  },
  "language_info": {
   "codemirror_mode": {
    "name": "ipython",
    "version": 2
   },
   "file_extension": ".py",
   "mimetype": "text/x-python",
   "name": "python",
   "nbconvert_exporter": "python",
   "pygments_lexer": "ipython2",
   "version": "2.7.10"
  }
 },
 "nbformat": 4,
 "nbformat_minor": 2
}
