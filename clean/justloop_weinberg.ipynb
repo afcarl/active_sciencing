{
 "cells": [
  {
   "cell_type": "code",
   "execution_count": 1,
   "metadata": {},
   "outputs": [
    {
     "name": "stdout",
     "output_type": "stream",
     "text": [
      "Populating the interactive namespace from numpy and matplotlib\n"
     ]
    }
   ],
   "source": [
    "%pylab inline"
   ]
  },
  {
   "cell_type": "code",
   "execution_count": 2,
   "metadata": {
    "collapsed": true
   },
   "outputs": [],
   "source": [
    "import distr\n",
    "import common\n",
    "import plots"
   ]
  },
  {
   "cell_type": "code",
   "execution_count": 11,
   "metadata": {
    "collapsed": true
   },
   "outputs": [],
   "source": [
    "import model_weinberg\n",
    "model = model_weinberg"
   ]
  },
  {
   "cell_type": "code",
   "execution_count": 12,
   "metadata": {
    "collapsed": true
   },
   "outputs": [],
   "source": [
    "science_ndata = 20\n",
    "science_theta_nature = 1.0"
   ]
  },
  {
   "cell_type": "code",
   "execution_count": 13,
   "metadata": {
    "collapsed": true
   },
   "outputs": [],
   "source": [
    "def collect_data(phi,ndata):\n",
    "    print 'Taking Data...', science_theta_nature,phi,ndata\n",
    "    return model.simulator(science_theta_nature,phi,ndata)"
   ]
  },
  {
   "cell_type": "code",
   "execution_count": 14,
   "metadata": {
    "collapsed": true
   },
   "outputs": [],
   "source": [
    "def calculate_posterior(prior,data,phi):\n",
    "    print 'Calculate Posterior...'\n",
    "    \n",
    "    posterior = common.calculate_posterior(\n",
    "                            prior,data,phi,\n",
    "                            lnprob_args = model.details_likelihood_settings,\n",
    "                            n_chainlen = 50\n",
    "    )\n",
    "    maximum_a_post = posterior.map(model.details_map_bins)\n",
    "    \n",
    "    print 'Best Theta: ', maximum_a_post\n",
    "    return posterior, maximum_a_post"
   ]
  },
  {
   "cell_type": "code",
   "execution_count": 15,
   "metadata": {
    "collapsed": true
   },
   "outputs": [],
   "source": [
    "def design_next_experiment(prior):\n",
    "    print 'Design Next Experiment...'\n",
    "    \n",
    "    eig_kwargs = {'emcee_kwargs' : {\n",
    "                      'n_chainlen': 50,\n",
    "                      'lnprob_args': model.details_likelihood_settings},\n",
    "                  'sim_n_data': science_ndata,\n",
    "                  'map_bins': model.details_map_bins}\n",
    "    res_gp   = common.design_next_experiment_bayesopt(prior,model.phi_range,eig_kwargs, n_totalcalls = 7)\n",
    "    res_next_phi = res_gp[0].x[0]\n",
    "    \n",
    "    print 'Next Phi: ', res_next_phi\n",
    "    return res_gp,res_next_phi"
   ]
  },
  {
   "cell_type": "code",
   "execution_count": 16,
   "metadata": {},
   "outputs": [
    {
     "data": {
      "application/vnd.jupyter.widget-view+json": {
       "model_id": "5dbf6867bc944c088253dba772965891"
      }
     },
     "metadata": {},
     "output_type": "display_data"
    }
   ],
   "source": [
    "import science_loop_widget\n",
    "import yadage_widget\n",
    "from ipywidgets import widgets\n",
    "science_wdg = science_loop_widget.loopwidget()\n",
    "collect_ui  = yadage_widget.WorkflowWidget(None)\n",
    "widgets.HBox([science_wdg.view,collect_ui])"
   ]
  },
  {
   "cell_type": "markdown",
   "metadata": {},
   "source": [
    "# Running the Science Loop"
   ]
  },
  {
   "cell_type": "code",
   "execution_count": 17,
   "metadata": {
    "scrolled": false
   },
   "outputs": [
    {
     "name": "stdout",
     "output_type": "stream",
     "text": [
      "Taking Data... 1.0 47 20\n",
      "Calculate Posterior...\n",
      "Best Theta:  0.625\n",
      "Design Next Experiment...\n",
      "2017-06-09 00:38:08.062397 EIG via 4 parallel experiments with [theta,phi] 0.625 49.6702983901\n",
      "2017-06-09 00:38:51.912937 EIG via 4 parallel experiments with [theta,phi] 0.625 45.4723224918\n",
      "2017-06-09 00:39:29.529281 EIG via 4 parallel experiments with [theta,phi] 0.625 49.7268435996\n",
      "2017-06-09 00:40:09.036099 EIG via 4 parallel experiments with [theta,phi] 0.625 47.1481599367\n",
      "2017-06-09 00:40:47.354177 EIG via 4 parallel experiments with [theta,phi] 0.625 46.977288246\n",
      "2017-06-09 00:41:25.817029 EIG via 4 parallel experiments with [theta,phi] 0.625 49.8996936296\n",
      "2017-06-09 00:42:09.642264 EIG via 4 parallel experiments with [theta,phi] 0.625 40.0012728206\n",
      "Next Phi:  49.7268435996\n"
     ]
    },
    {
     "data": {
      "text/plain": [
       "<matplotlib.figure.Figure at 0x7f7af13f9090>"
      ]
     },
     "metadata": {},
     "output_type": "display_data"
    },
    {
     "data": {
      "image/png": "[encoded data removed]",
      "text/plain": [
       "<matplotlib.figure.Figure at 0x7f7b1583e290>"
      ]
     },
     "metadata": {},
     "output_type": "display_data"
    },
    {
     "name": "stdout",
     "output_type": "stream",
     "text": [
      "Taking Data... 1.0 49.7268435996 20\n",
      "Calculate Posterior...\n",
      "Best Theta:  0.525\n",
      "Design Next Experiment...\n",
      "2017-06-09 00:43:03.102468 EIG via 4 parallel experiments with [theta,phi] 0.525 49.6702983901\n",
      "2017-06-09 00:43:46.834189 EIG via 4 parallel experiments with [theta,phi] 0.525 45.4723224918\n",
      "2017-06-09 00:44:29.551647 EIG via 4 parallel experiments with [theta,phi] 0.525 49.7268435996\n",
      "2017-06-09 00:45:09.469564 EIG via 4 parallel experiments with [theta,phi] 0.525 47.1481599367\n",
      "2017-06-09 00:45:47.477278 EIG via 4 parallel experiments with [theta,phi] 0.525 46.977288246\n",
      "2017-06-09 00:46:27.420365 EIG via 4 parallel experiments with [theta,phi] 0.525 50.0\n",
      "2017-06-09 00:47:07.532008 EIG via 4 parallel experiments with [theta,phi] 0.525 50.0\n"
     ]
    },
    {
     "name": "stderr",
     "output_type": "stream",
     "text": [
      "/usr/lib/python2.7/site-packages/skopt/optimizer/optimizer.py:195: UserWarning: The objective has been evaluated at this point before.\n",
      "  warnings.warn(\"The objective has been evaluated \"\n"
     ]
    },
    {
     "name": "stdout",
     "output_type": "stream",
     "text": [
      "Next Phi:  50.0\n"
     ]
    },
    {
     "data": {
      "text/plain": [
       "<matplotlib.figure.Figure at 0x7f7b1585c4d0>"
      ]
     },
     "metadata": {},
     "output_type": "display_data"
    },
    {
     "data": {
      "image/png": "[encoded data removed]",
      "text/plain": [
       "<matplotlib.figure.Figure at 0x7f7aef32ccd0>"
      ]
     },
     "metadata": {},
     "output_type": "display_data"
    }
   ],
   "source": [
    "# initial experimental settings and uninformative prior\n",
    "loop_phi = 47\n",
    "loop_prior = distr.Distribution('prior',range = model.theta_range)\n",
    "\n",
    "science_history = []\n",
    "n_science_iterations = 2\n",
    "for i in range(n_science_iterations):\n",
    "    plt.clf()\n",
    "\n",
    "    fig,axarr = plt.subplots(1,3)\n",
    "    fig.set_size_inches(10,2)\n",
    "    axarr[0].set_title('data')\n",
    "    \n",
    "    ## 1. Perform Experiment\n",
    "    science_wdg.toggle(0)\n",
    "    loop_data = collect_data(loop_phi,science_ndata)\n",
    "    plots.plot_data(loop_data,model.data_range, ax = axarr[0])\n",
    "\n",
    "    ## 2. Calculate the Posterior\n",
    "    science_wdg.toggle(1)\n",
    "    loop_posterior, loop_best_theta = calculate_posterior(loop_prior,loop_data,loop_phi)\n",
    "    plots.plot_posterior(loop_prior,loop_posterior,loop_best_theta,science_theta_nature, model.theta_range, ax = axarr[1])\n",
    "\n",
    "    ## 3. Design Next Experiment\n",
    "    science_wdg.toggle(2)\n",
    "    loop_res_gp, loop_next_phi = design_next_experiment(loop_posterior)\n",
    "\n",
    "    plots.plot_bayes(loop_res_gp,phi_range = model.phi_range, ax = axarr[2])\n",
    "    plt.show()\n",
    "\n",
    "\n",
    "    science_history.append([loop_data,loop_prior,loop_posterior,loop_best_theta,science_theta_nature,loop_res_gp])\n",
    "    \n",
    "    ## 5. Update our Prior and experimental settings\n",
    "    loop_prior = loop_posterior\n",
    "    loop_phi   = loop_next_phi"
   ]
  },
  {
   "cell_type": "code",
   "execution_count": null,
   "metadata": {
    "collapsed": true
   },
   "outputs": [],
   "source": []
  },
  {
   "cell_type": "code",
   "execution_count": null,
   "metadata": {
    "collapsed": true
   },
   "outputs": [],
   "source": []
  },
  {
   "cell_type": "code",
   "execution_count": null,
   "metadata": {
    "collapsed": true
   },
   "outputs": [],
   "source": []
  }
 ],
 "metadata": {
  "kernelspec": {
   "display_name": "Python 2",
   "language": "python",
   "name": "python2"
  },
  "language_info": {
   "codemirror_mode": {
    "name": "ipython",
    "version": 2
   },
   "file_extension": ".py",
   "mimetype": "text/x-python",
   "name": "python",
   "nbconvert_exporter": "python",
   "pygments_lexer": "ipython2",
   "version": "2.7.13"
  }
 },
 "nbformat": 4,
 "nbformat_minor": 2
}
