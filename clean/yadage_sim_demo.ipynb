{
 "cells": [
  {
   "cell_type": "code",
   "execution_count": 1,
   "metadata": {},
   "outputs": [
    {
     "name": "stdout",
     "output_type": "stream",
     "text": [
      "Populating the interactive namespace from numpy and matplotlib\n"
     ]
    }
   ],
   "source": [
    "%pylab inline"
   ]
  },
  {
   "cell_type": "code",
   "execution_count": 2,
   "metadata": {},
   "outputs": [
    {
     "data": {
      "application/javascript": [
       "require.config({paths: {\n",
       "        vis: \"http://cdnjs.cloudflare.com/ajax/libs/vis/4.17.0/vis\",\n",
       "        yadage: \"https://rawgit.com/cranmer/active_sciencing/yadage/yadage\"\n",
       "    }\n",
       "});"
      ],
      "text/plain": [
       "<IPython.core.display.Javascript object>"
      ]
     },
     "metadata": {},
     "output_type": "display_data"
    }
   ],
   "source": [
    "%%javascript\n",
    "require.config({paths: {\n",
    "        vis: \"http://cdnjs.cloudflare.com/ajax/libs/vis/4.17.0/vis\",\n",
    "        yadage: \"https://rawgit.com/cranmer/active_sciencing/yadage/yadage\"\n",
    "    }\n",
    "});"
   ]
  },
  {
   "cell_type": "code",
   "execution_count": 4,
   "metadata": {
    "collapsed": true
   },
   "outputs": [],
   "source": [
    "import yadage_sim_local"
   ]
  },
  {
   "cell_type": "code",
   "execution_count": 5,
   "metadata": {},
   "outputs": [
    {
     "data": {
      "application/vnd.jupyter.widget-view+json": {
       "model_id": "6928cc1e91914079a4295131a54b99e7"
      }
     },
     "metadata": {},
     "output_type": "display_data"
    }
   ],
   "source": [
    "import science_loop_widget\n",
    "import yadage_widget\n",
    "from ipywidgets import widgets\n",
    "wdg = science_loop_widget.loopwidget()\n",
    "ui = yadage_widget.WorkflowWidget(None)\n",
    "widgets.HBox([wdg.view,ui])"
   ]
  },
  {
   "cell_type": "code",
   "execution_count": 6,
   "metadata": {},
   "outputs": [
    {
     "data": {
      "text/plain": [
       "array([-0.73760732, -0.05506258, -0.58642675, -0.34345387, -0.91513273,\n",
       "       -0.05869876, -0.17250648, -0.87202366, -0.9860479 , -0.64444398,\n",
       "       -0.45041833, -0.46216832, -0.85156128, -0.73151496, -0.65872357,\n",
       "       -0.50806401, -0.73927836, -0.97467572, -0.41035998, -0.9312525 ,\n",
       "       -0.7150247 , -0.49311966, -0.99997604, -0.76662805, -0.89696554,\n",
       "       -0.91845898, -0.70643593, -0.76098035, -0.61098062, -0.61441586,\n",
       "       -0.96668863, -0.66643487, -0.79437644, -0.64289205, -0.90875039,\n",
       "       -0.04571371, -0.52657996, -0.85451785, -0.71990843, -0.78480627,\n",
       "       -0.88558546, -0.95882437, -0.88573137, -0.33277946, -0.42856317,\n",
       "       -0.38782516, -0.48868144, -0.849191  , -0.91715622, -0.47690183,\n",
       "       -0.99344428, -0.43695196, -0.90010791, -0.57608614, -0.38472296,\n",
       "       -0.74487405, -0.24475013, -0.3959116 , -0.64738331, -0.49761719,\n",
       "       -0.896504  , -0.77610026, -0.75044013, -0.95491678, -0.17430158,\n",
       "       -0.9943679 , -0.80858396, -0.64424921, -0.18954235, -0.26513438,\n",
       "       -0.54827926, -0.60387113, -0.99575803, -0.92392942, -0.52791325,\n",
       "       -0.32857507, -0.66667949, -0.7558485 , -0.79011721, -0.44484959,\n",
       "       -0.51381589, -0.03542557, -0.75551933, -0.95422978, -0.73074053,\n",
       "       -0.27217296, -0.9661225 , -0.51770395, -0.85267362, -0.33345947,\n",
       "       -0.60025249, -0.18025516, -0.90469611, -0.96042376, -0.40779963,\n",
       "       -0.65605876, -0.40173398, -0.55595467, -0.33083478, -0.65689188])"
      ]
     },
     "execution_count": 6,
     "metadata": {},
     "output_type": "execute_result"
    }
   ],
   "source": [
    "import time\n",
    "start = time.time()\n",
    "for i in range(100):\n",
    "    yadage_sim_local.simulator(1.0,47.,100)\n",
    "end = time.time()\n"
   ]
  },
  {
   "cell_type": "code",
   "execution_count": null,
   "metadata": {
    "collapsed": true
   },
   "outputs": [],
   "source": []
  }
 ],
 "metadata": {
  "kernelspec": {
   "display_name": "Python 2",
   "language": "python",
   "name": "python2"
  },
  "language_info": {
   "codemirror_mode": {
    "name": "ipython",
    "version": 2
   },
   "file_extension": ".py",
   "mimetype": "text/x-python",
   "name": "python",
   "nbconvert_exporter": "python",
   "pygments_lexer": "ipython2",
   "version": "2.7.10"
  },
  "widgets": {
   "application/vnd.jupyter.widget-state+json": {
    "state": {
     "201acabd300b41d8b954a212aa9625d7": {
      "model_module": "jupyter-js-widgets",
      "model_module_version": "~2.1.4",
      "model_name": "LayoutModel",
      "state": {
       "_model_module_version": "~2.1.4",
       "_view_module_version": "~2.1.4"
      }
     },
     "5dd6f6c3e0394f6988824be115616d89": {
      "model_module": "jupyter-js-widgets",
      "model_module_version": "~2.1.4",
      "model_name": "LayoutModel",
      "state": {
       "_model_module_version": "~2.1.4",
       "_view_module_version": "~2.1.4"
      }
     },
     "995c6f4b219e471fb33b3502cdec3d7d": {
      "model_module": "jupyter-js-widgets",
      "model_module_version": "*",
      "model_name": "DOMWidgetModel",
      "state": {
       "_model_name": "DOMWidgetModel",
       "_view_module": "yadage",
       "_view_name": "WorkflowWidgetView",
       "dotstring": "strict digraph \"\" {\nlabel=\"2017-06-08 13:31:48\";\nb30075db3865915187979604efac7df1332cfdff [color=green, label=\"init \", style=filled];\ne1200deed1246180951cec79a49f19453bc5b58b [color=green, label=\"generate \", style=filled];\nb30075db3865915187979604efac7df1332cfdff -> e1200deed1246180951cec79a49f19453bc5b58b;\n}\n",
       "layout": "IPY_MODEL_5dd6f6c3e0394f6988824be115616d89"
      }
     },
     "9feaf6604dbc434d8007bd780c70147c": {
      "model_module": "jupyter-js-widgets",
      "model_module_version": "*",
      "model_name": "DOMWidgetModel",
      "state": {
       "_model_name": "DOMWidgetModel",
       "_view_module": "yadage",
       "_view_name": "WorkflowWidgetView",
       "dotstring": "strict digraph \"\" {\nlabel=\"2017-06-08 13:09:59\";\nb30075db3865915187979604efac7df1332cfdff [color=green, label=\"init \", style=filled];\n\"05f1df76a8b486eb6f4b62486b664869ffaa11d1\" [color=green, label=\"generate \", style=filled];\nb30075db3865915187979604efac7df1332cfdff -> \"05f1df76a8b486eb6f4b62486b664869ffaa11d1\";\n}\n",
       "layout": "IPY_MODEL_201acabd300b41d8b954a212aa9625d7"
      }
     }
    },
    "version_major": 1,
    "version_minor": 0
   }
  }
 },
 "nbformat": 4,
 "nbformat_minor": 2
}
