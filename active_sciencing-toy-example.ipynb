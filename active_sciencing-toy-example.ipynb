{
 "cells": [
  {
   "cell_type": "markdown",
   "metadata": {},
   "source": [
    "## \"Active Sciencing\" with Reusable Workflows\n",
    "\n",
    "By Kyle Cranmer & Lukas Heinrich June 4, 2016\n",
    "\n",
    "Based on earlier work with NYU CDS masters students Manoj Kumar, Phil Yeres, and Michele Ceru and discussions with Brenden Lake and Gilles Louppe.\n",
    "\n",
    "Define:\n",
    "\n",
    " 1) $\\phi$ : Experimental configuration\n",
    "\n",
    " 2) $\\theta$: Parameters that we would like to infer from the experimental data\n",
    "\n",
    " 3) $X$ : Data generated from the experiment or simulator\n",
    "\n"
   ]
  },
  {
   "cell_type": "code",
   "execution_count": 15,
   "metadata": {},
   "outputs": [],
   "source": [
    "import numpy as np\n",
    "import matplotlib.pyplot as plt\n",
    "\n",
    "#%matplotlib inline\n",
    "\n",
    "import emcee\n",
    "from scipy.stats import norm"
   ]
  },
  {
   "cell_type": "markdown",
   "metadata": {},
   "source": [
    "## Step 1: Perform Experiment, Collect Data"
   ]
  },
  {
   "cell_type": "code",
   "execution_count": 16,
   "metadata": {
    "collapsed": true
   },
   "outputs": [],
   "source": [
    "def simulator(theta, phi, n_samples=100):\n",
    "    return np.random.normal(loc=theta, scale=2 + np.sin(phi), size=n_samples)\n",
    "\n",
    "def collect_data(phi, n_samples=100):\n",
    "    # 3.141 is the unknown parameter we are trying to measure\n",
    "    # best experimental setting is 3pi/2 (or any multiple of it)\n",
    "    return simulator(3.141, phi, n_samples)\n",
    "\n",
    "phi = 1.5 * np.pi\n",
    "data = collect_data(phi)"
   ]
  },
  {
   "cell_type": "markdown",
   "metadata": {},
   "source": [
    "## Step 2: Bayesian Prior → Posterior Update "
   ]
  },
  {
   "cell_type": "code",
   "execution_count": 17,
   "metadata": {
    "collapsed": true
   },
   "outputs": [],
   "source": [
    "def lnprior(theta, prior):\n",
    "    # XXX incorporate the prior passed in here\n",
    "    if 0. < theta < 2*np.pi:\n",
    "        return 0.\n",
    "    return -np.inf\n",
    "\n",
    "def lnlike(theta, y, phi):\n",
    "    mean, std = theta, 2 + np.sin(phi)\n",
    "    return np.log(norm(mean, std).pdf(y).prod())\n",
    "\n",
    "def lnprob(theta, x, prior, phi):\n",
    "    lp = lnprior(theta, prior)\n",
    "    if not np.isfinite(lp):\n",
    "        return -np.inf\n",
    "    return lp + lnlike(theta, x, phi)\n",
    "\n",
    "def calculate_posterior(prior, data, phi):\n",
    "    \"\"\"Compute samples from the posterior\"\"\"\n",
    "    ndim, n_walkers = 1, 10\n",
    "    pos = [2. + 1e-1*np.random.randn(ndim) for i in range(n_walkers)]\n",
    "    \n",
    "    sampler = emcee.EnsembleSampler(n_walkers, 1, lnprob, args=(data, prior, phi))\n",
    "    pos, prob, state = sampler.run_mcmc(pos, 100)\n",
    "    \n",
    "    sampler.reset()\n",
    "    pos, prob, state = sampler.run_mcmc(pos, 300)\n",
    "    \n",
    "    return Distribution(prior.name, prior.range, sampler.flatchain)"
   ]
  },
  {
   "cell_type": "code",
   "execution_count": 18,
   "metadata": {},
   "outputs": [],
   "source": [
    "prior = Distribution('mean', range=(0, 2*np.pi))\n",
    "posterior = calculate_posterior(prior, data, phi)"
   ]
  },
  {
   "cell_type": "code",
   "execution_count": 21,
   "metadata": {},
   "outputs": [
    {
     "data": {
      "image/png": "[encoded data removed]",
      "text/plain": [
       "<matplotlib.figure.Figure at 0x10aca9410>"
      ]
     },
     "metadata": {},
     "output_type": "display_data"
    }
   ],
   "source": [
    "posterior.hist()\n",
    "plt.show()"
   ]
  },
  {
   "cell_type": "markdown",
   "metadata": {},
   "source": [
    "## Step 3: Optimize Experimental Configuration\n",
    "\n",
    "Based on the updated posterior $p(\\theta)$ we will consider future experiments with configuration $\\phi$. For each of those configurations, we will run several simulations of the experiment and perform inference on those simulated datasets to estimate the expected information gain (EIG)\n",
    "\n",
    "\\begin{equation}\n",
    "EIG(\\phi) =  \\int dx d\\theta \\; p(x | \\theta) p(\\theta) \\big [ H\\left [P(\\theta) \\right] - H\\left[ P(\\theta\\, |\\, x) \\right] \\big ] \\approx \\int dx  \\; p(x | \\theta_{MAP}) \\big [ H\\left [P(\\theta) \\right] - H\\left[ P(\\theta\\, |\\, x) \\right] \\big ]\n",
    "\\end{equation}\n",
    "where\n",
    "\\begin{equation}\n",
    "H\\left [P(\\theta) \\right] = \\int P(\\theta) \\log P(\\theta) d\\theta \n",
    "\\end{equation}\n",
    "\n",
    "To efficiently optimize $EIG[\\phi]$ we will use an active learning procedure like Bayesian Optimization."
   ]
  },
  {
   "cell_type": "code",
   "execution_count": 22,
   "metadata": {
    "collapsed": true
   },
   "outputs": [],
   "source": [
    "from scipy.stats import entropy\n",
    "\n",
    "def info_gain(p1, p2):\n",
    "    return p1.entropy() - p2.entropy()\n",
    "\n",
    "def expected_information_gain(phi, prior):\n",
    "    'calculate the expression above using workflow for simulations'\n",
    "    n_simulations = 2\n",
    "    \n",
    "    #need to pass in prior through some extra arguments\n",
    "    \n",
    "    # use saddle-point approximation\n",
    "    theta_map = prior.map()\n",
    "    \n",
    "    eig = np.zeros(n_simulations)\n",
    "    \n",
    "    for i_sim in range(n_simulations):\n",
    "        # external workflow provides simulated data\n",
    "        sim_data = simulator(theta_map, phi)\n",
    "\n",
    "        #external workflow uses simulator to provide likelihood \n",
    "        sim_posterior = calculate_posterior(prior, sim_data, phi)\n",
    "        eig[i_sim] = info_gain(prior, sim_posterior)\n",
    "        \n",
    "    #check for outliers?\n",
    "    \n",
    "    return np.mean(eig)"
   ]
  },
  {
   "cell_type": "code",
   "execution_count": 23,
   "metadata": {
    "collapsed": true
   },
   "outputs": [],
   "source": [
    "# initial phi ~ 1.456 (or so)\n",
    "phis = np.linspace(0., 2*np.pi, 20)\n",
    "eigs = [expected_information_gain(p, posterior) for p in phis]"
   ]
  },
  {
   "cell_type": "code",
   "execution_count": 24,
   "metadata": {
    "scrolled": true
   },
   "outputs": [],
   "source": [
    "plt.plot(phis, eigs);"
   ]
  },
  {
   "cell_type": "code",
   "execution_count": 25,
   "metadata": {
    "collapsed": true
   },
   "outputs": [],
   "source": [
    "# initial phi = 3.56\n",
    "phis = np.linspace(0., 2*np.pi, 20)\n",
    "eigs = [expected_information_gain(p, posterior) for p in phis]"
   ]
  },
  {
   "cell_type": "code",
   "execution_count": 26,
   "metadata": {
    "scrolled": false
   },
   "outputs": [],
   "source": [
    "plt.plot(phis, eigs);"
   ]
  },
  {
   "cell_type": "code",
   "execution_count": 27,
   "metadata": {
    "collapsed": true
   },
   "outputs": [],
   "source": [
    "# initial phi = 1.5*np.pi\n",
    "phis = np.linspace(0., 2*np.pi, 20)\n",
    "eigs = [expected_information_gain(p, posterior) for p in phis]"
   ]
  },
  {
   "cell_type": "code",
   "execution_count": 28,
   "metadata": {
    "scrolled": false
   },
   "outputs": [],
   "source": [
    "plt.plot(phis, eigs);"
   ]
  },
  {
   "cell_type": "code",
   "execution_count": 29,
   "metadata": {
    "collapsed": true
   },
   "outputs": [],
   "source": [
    "#use scikit-optimize to optimize phi\n",
    "from skopt import gp_minimize\n",
    "from skopt.plots import plot_evaluations\n",
    "\n",
    "def design_next_experiment(prior):\n",
    "    bounds = [(-5.0, 10.0), (0.0, 15.0)]\n",
    "    n_calls = 50\n",
    "\n",
    "    opt_result = gp_minimize(expected_information_gain, bounds, n_calls=n_calls, random_state=4)\n",
    "\n",
    "    _ = plot_evaluations(opt_result, bins=10)\n",
    "    return opt_phi"
   ]
  },
  {
   "cell_type": "markdown",
   "metadata": {},
   "source": [
    "## Run the loop"
   ]
  },
  {
   "cell_type": "markdown",
   "metadata": {},
   "source": [
    "### Initialize"
   ]
  },
  {
   "cell_type": "code",
   "execution_count": null,
   "metadata": {
    "collapsed": true
   },
   "outputs": [],
   "source": [
    "phi = 0.\n",
    "prior_theta = Distribution() #simple class for range, density for emcee via KDE or histogram, MAP?\n",
    "\n",
    "n_science_iterations = 10\n",
    "\n",
    "phi_history = []\n",
    "prior_history = []\n",
    "\n",
    "for i_experiment in range(science_iterations):\n",
    "    phi_history.append(phi)\n",
    "    prior_history.append(prior)\n",
    "\n",
    "    # run experiment with configuration given by phi\n",
    "    real_data = collect_data(phi)\n",
    "\n",
    "    #update new prior = posterior from previous experiment\n",
    "    prior = calculate_posterior(prior, real_data, phi)\n",
    "    \n",
    "    #design new experiment given current knowledge\n",
    "    phi=design_next_experiment(prior)\n",
    "    \n",
    "\n",
    "#make some plots of prior, and phi "
   ]
  },
  {
   "cell_type": "code",
   "execution_count": 6,
   "metadata": {
    "collapsed": true
   },
   "outputs": [],
   "source": [
    "#put this in a separate file\n",
    "from scipy.stats import entropy\n",
    "\n",
    "\n",
    "class Distribution:\n",
    "    '''\n",
    "    member vars\n",
    "        variable names\n",
    "        ranges  (for use with george)\n",
    "    methods\n",
    "        density estimate (KDE or histogram) (for use with emcee)\n",
    "        MAP (for saddle point approximation)\n",
    "        \n",
    "    '''\n",
    "    def __init__(self, name, range, samples=None):\n",
    "        self.range = range\n",
    "        self.name = name\n",
    "        if samples is None:\n",
    "            self.samples = np.random.uniform(range[0], range[1], size=10000)\n",
    "        else:\n",
    "            self.samples = samples\n",
    "        \n",
    "    def map(self):\n",
    "        prob, edges = np.histogram(self.samples, range=self.range, bins=100)\n",
    "        prob = prob.clip(min=0.0000000001)\n",
    "        return edges[np.argmax(prob)]\n",
    "    \n",
    "    def entropy(self):\n",
    "        prob, edges = np.histogram(self.samples, range=self.range, bins=100)\n",
    "        prob = prob.clip(min=0.0000000001)\n",
    "        return entropy(prob)\n",
    "    \n",
    "    def hist(self):\n",
    "        plt.hist(self.samples, range=self.range, bins=100)\n"
   ]
  },
  {
   "cell_type": "code",
   "execution_count": null,
   "metadata": {
    "collapsed": true
   },
   "outputs": [],
   "source": []
  }
 ],
 "metadata": {
  "kernelspec": {
   "display_name": "Python 2",
   "language": "python",
   "name": "python2"
  },
  "language_info": {
   "codemirror_mode": {
    "name": "ipython",
    "version": 2
   },
   "file_extension": ".py",
   "mimetype": "text/x-python",
   "name": "python",
   "nbconvert_exporter": "python",
   "pygments_lexer": "ipython2",
   "version": "2.7.10"
  }
 },
 "nbformat": 4,
 "nbformat_minor": 2
}
