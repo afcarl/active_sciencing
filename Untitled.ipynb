{
 "cells": [
  {
   "cell_type": "code",
   "execution_count": 70,
   "metadata": {},
   "outputs": [
    {
     "data": {
      "application/vnd.jupyter.widget-view+json": {
       "model_id": "1c82ffb579fd4db2952ddf2bc9dd3203"
      }
     },
     "metadata": {},
     "output_type": "display_data"
    }
   ],
   "source": [
    "from ipywidgets import widgets\n",
    "class mywidget(object):\n",
    "    def __init__(self):\n",
    "        collect_data = widgets.HTML()\n",
    "        calculate_posterior = widgets.HTML() \n",
    "        next_exp = widgets.HTML()\n",
    "        # control could be any custom control\n",
    "        self.view = widgets.VBox([collect_data, calculate_posterior,next_exp])\n",
    "\n",
    "        self.string_map = {0: 'Collect Data', 1: 'Calculate Posterior', 2: 'Design Next'}\n",
    "        \n",
    "        for i in range(3):\n",
    "            self.view.children[i].value = self.html(self.string_map[i])\n",
    "        \n",
    "    def html(self, text, background_color = 'white'):\n",
    "        textcolor = 'black' if background_color=='white' else 'white'\n",
    "        return '<span style=\"font-weight: bold; background-color: {}; color: {}; margin:0 px; width: 100px;\">{}</span>'.format(background_color,textcolor,text)\n",
    "\n",
    "    def toggle(self,active = None):\n",
    "        for i in range(3):\n",
    "            self.view.children[i].value = self.html(self.string_map[i],'green' if active == i else 'white')\n",
    "        \n",
    "mw = mywidget()\n",
    "mw.view"
   ]
  },
  {
   "cell_type": "code",
   "execution_count": 76,
   "metadata": {},
   "outputs": [],
   "source": [
    "mw.toggle(1)"
   ]
  },
  {
   "cell_type": "code",
   "execution_count": null,
   "metadata": {
    "collapsed": true
   },
   "outputs": [],
   "source": []
  }
 ],
 "metadata": {
  "kernelspec": {
   "display_name": "Python 2",
   "language": "python",
   "name": "python2"
  },
  "language_info": {
   "codemirror_mode": {
    "name": "ipython",
    "version": 2
   },
   "file_extension": ".py",
   "mimetype": "text/x-python",
   "name": "python",
   "nbconvert_exporter": "python",
   "pygments_lexer": "ipython2",
   "version": "2.7.10"
  }
 },
 "nbformat": 4,
 "nbformat_minor": 1
}
