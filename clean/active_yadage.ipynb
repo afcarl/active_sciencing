{
 "cells": [
  {
   "cell_type": "code",
   "execution_count": 3,
   "metadata": {},
   "outputs": [
    {
     "name": "stdout",
     "output_type": "stream",
     "text": [
      "Populating the interactive namespace from numpy and matplotlib\n"
     ]
    }
   ],
   "source": [
    "%pylab inline"
   ]
  },
  {
   "cell_type": "code",
   "execution_count": 4,
   "metadata": {
    "collapsed": true
   },
   "outputs": [],
   "source": [
    "import distr\n",
    "import common\n",
    "import multiprocessing"
   ]
  },
  {
   "cell_type": "code",
   "execution_count": 5,
   "metadata": {
    "collapsed": true
   },
   "outputs": [],
   "source": [
    "import yadage_sim"
   ]
  },
  {
   "cell_type": "code",
   "execution_count": 6,
   "metadata": {
    "collapsed": true
   },
   "outputs": [],
   "source": [
    "PHI_RANGE     = [40.,50.]\n",
    "THETA_RANGE   = [0.5,1.5]\n",
    "DATA_RANGE    = [-1,1] \n",
    "THE_SIMULATOR = yadage_sim.simulator"
   ]
  },
  {
   "cell_type": "code",
   "execution_count": 7,
   "metadata": {
    "collapsed": true
   },
   "outputs": [],
   "source": [
    "model_details_shifts = [-2,2]\n",
    "model_details_mirror = True\n",
    "model_details_lnlike_nsim = 1000\n",
    "model_details_map_bins = 20"
   ]
  },
  {
   "cell_type": "code",
   "execution_count": 8,
   "metadata": {
    "collapsed": true
   },
   "outputs": [],
   "source": [
    "intro_theta_nom = 1.0\n",
    "intro_phi_noms  = 43,47\n",
    "intro_binning   = 21\n",
    "\n",
    "example_phi = 47.\n",
    "example_theta = 1.0\n",
    "example_ndata = 100"
   ]
  },
  {
   "cell_type": "markdown",
   "metadata": {},
   "source": [
    "# Introducing the Model p(x|$\\theta$,$\\Phi$)"
   ]
  },
  {
   "cell_type": "code",
   "execution_count": 9,
   "metadata": {
    "scrolled": false
   },
   "outputs": [
    {
     "name": "stdout",
     "output_type": "stream",
     "text": [
      "."
     ]
    },
    {
     "name": "stderr",
     "output_type": "stream",
     "text": [
      "2017-06-08 12:21:32,073 - packtivity_logger_generate.step - INFO - prepare pull\n",
      "2017-06-08 12:21:34,652 - packtivity_logger_generate.step - INFO - running job\n",
      "2017-06-08 12:21:37,157 - packtivity_logger_generate.step - INFO - publishing data: {'outfile': '/Users/lukas/Code/active_sciencing/clean/tmpaZwT5z/generate/out.np'}\n"
     ]
    },
    {
     "name": "stdout",
     "output_type": "stream",
     "text": [
      "."
     ]
    },
    {
     "name": "stderr",
     "output_type": "stream",
     "text": [
      "2017-06-08 12:21:42,785 - packtivity_logger_generate.step - INFO - prepare pull\n",
      "2017-06-08 12:21:44,491 - packtivity_logger_generate.step - INFO - running job\n",
      "2017-06-08 12:21:46,455 - packtivity_logger_generate.step - INFO - publishing data: {'outfile': '/Users/lukas/Code/active_sciencing/clean/tmpsIDUez/generate/out.np'}\n"
     ]
    },
    {
     "name": "stdout",
     "output_type": "stream",
     "text": [
      "."
     ]
    },
    {
     "name": "stderr",
     "output_type": "stream",
     "text": [
      "2017-06-08 12:21:52,176 - packtivity_logger_generate.step - INFO - prepare pull\n",
      "2017-06-08 12:21:55,213 - packtivity_logger_generate.step - INFO - running job\n",
      "2017-06-08 12:21:57,309 - packtivity_logger_generate.step - INFO - publishing data: {'outfile': '/Users/lukas/Code/active_sciencing/clean/tmpqUaWjq/generate/out.np'}\n"
     ]
    },
    {
     "name": "stdout",
     "output_type": "stream",
     "text": [
      "."
     ]
    },
    {
     "name": "stderr",
     "output_type": "stream",
     "text": [
      "2017-06-08 12:22:03,773 - packtivity_logger_generate.step - INFO - prepare pull\n",
      "2017-06-08 12:22:05,467 - packtivity_logger_generate.step - INFO - running job\n",
      "2017-06-08 12:22:07,112 - packtivity_logger_generate.step - INFO - publishing data: {'outfile': '/Users/lukas/Code/active_sciencing/clean/tmpTYwruP/generate/out.np'}\n"
     ]
    },
    {
     "name": "stdout",
     "output_type": "stream",
     "text": [
      "."
     ]
    },
    {
     "name": "stderr",
     "output_type": "stream",
     "text": [
      "2017-06-08 12:22:13,450 - packtivity_logger_generate.step - INFO - prepare pull\n",
      "2017-06-08 12:22:15,121 - packtivity_logger_generate.step - INFO - running job\n",
      "2017-06-08 12:22:17,073 - packtivity_logger_generate.step - INFO - publishing data: {'outfile': '/Users/lukas/Code/active_sciencing/clean/tmp71hQIe/generate/out.np'}\n"
     ]
    },
    {
     "name": "stdout",
     "output_type": "stream",
     "text": [
      "."
     ]
    },
    {
     "name": "stderr",
     "output_type": "stream",
     "text": [
      "2017-06-08 12:22:22,934 - packtivity_logger_generate.step - INFO - prepare pull\n",
      "2017-06-08 12:22:24,911 - packtivity_logger_generate.step - INFO - running job\n",
      "2017-06-08 12:22:26,861 - packtivity_logger_generate.step - INFO - publishing data: {'outfile': '/Users/lukas/Code/active_sciencing/clean/tmpKIoDSU/generate/out.np'}\n"
     ]
    },
    {
     "name": "stdout",
     "output_type": "stream",
     "text": [
      "."
     ]
    },
    {
     "name": "stderr",
     "output_type": "stream",
     "text": [
      "2017-06-08 12:22:32,319 - packtivity_logger_generate.step - INFO - prepare pull\n",
      "2017-06-08 12:22:33,965 - packtivity_logger_generate.step - INFO - running job\n",
      "2017-06-08 12:22:35,647 - packtivity_logger_generate.step - INFO - publishing data: {'outfile': '/Users/lukas/Code/active_sciencing/clean/tmpFruPLe/generate/out.np'}\n"
     ]
    },
    {
     "name": "stdout",
     "output_type": "stream",
     "text": [
      "."
     ]
    },
    {
     "name": "stderr",
     "output_type": "stream",
     "text": [
      "2017-06-08 12:22:41,170 - packtivity_logger_generate.step - INFO - prepare pull\n",
      "2017-06-08 12:22:42,831 - packtivity_logger_generate.step - INFO - running job\n",
      "2017-06-08 12:22:44,399 - packtivity_logger_generate.step - INFO - publishing data: {'outfile': '/Users/lukas/Code/active_sciencing/clean/tmpTDcbkO/generate/out.np'}\n"
     ]
    },
    {
     "name": "stdout",
     "output_type": "stream",
     "text": [
      "."
     ]
    },
    {
     "name": "stderr",
     "output_type": "stream",
     "text": [
      "2017-06-08 12:22:51,643 - packtivity_logger_generate.step - INFO - prepare pull\n",
      "2017-06-08 12:22:53,290 - packtivity_logger_generate.step - INFO - running job\n",
      "2017-06-08 12:22:55,069 - packtivity_logger_generate.step - INFO - publishing data: {'outfile': '/Users/lukas/Code/active_sciencing/clean/tmpexphOd/generate/out.np'}\n"
     ]
    },
    {
     "name": "stdout",
     "output_type": "stream",
     "text": [
      "."
     ]
    },
    {
     "name": "stderr",
     "output_type": "stream",
     "text": [
      "2017-06-08 12:23:00,341 - packtivity_logger_generate.step - INFO - prepare pull\n",
      "2017-06-08 12:23:02,094 - packtivity_logger_generate.step - INFO - running job\n",
      "2017-06-08 12:23:03,893 - packtivity_logger_generate.step - INFO - publishing data: {'outfile': '/Users/lukas/Code/active_sciencing/clean/tmp1Jarp9/generate/out.np'}\n"
     ]
    },
    {
     "name": "stdout",
     "output_type": "stream",
     "text": [
      "."
     ]
    },
    {
     "name": "stderr",
     "output_type": "stream",
     "text": [
      "2017-06-08 12:23:10,756 - packtivity_logger_generate.step - INFO - prepare pull\n",
      "2017-06-08 12:23:12,413 - packtivity_logger_generate.step - INFO - running job\n",
      "2017-06-08 12:23:14,319 - packtivity_logger_generate.step - INFO - publishing data: {'outfile': '/Users/lukas/Code/active_sciencing/clean/tmpfqo5Cf/generate/out.np'}\n"
     ]
    },
    {
     "name": "stdout",
     "output_type": "stream",
     "text": [
      "."
     ]
    },
    {
     "name": "stderr",
     "output_type": "stream",
     "text": [
      "2017-06-08 12:23:20,417 - packtivity_logger_generate.step - INFO - prepare pull\n",
      "2017-06-08 12:23:22,070 - packtivity_logger_generate.step - INFO - running job\n",
      "2017-06-08 12:23:24,695 - packtivity_logger_generate.step - INFO - publishing data: {'outfile': '/Users/lukas/Code/active_sciencing/clean/tmpLrFZLn/generate/out.np'}\n"
     ]
    },
    {
     "name": "stdout",
     "output_type": "stream",
     "text": [
      "."
     ]
    },
    {
     "name": "stderr",
     "output_type": "stream",
     "text": [
      "2017-06-08 12:23:34,013 - packtivity_logger_generate.step - INFO - prepare pull\n",
      "2017-06-08 12:23:35,701 - packtivity_logger_generate.step - INFO - running job\n",
      "2017-06-08 12:23:37,321 - packtivity_logger_generate.step - INFO - publishing data: {'outfile': '/Users/lukas/Code/active_sciencing/clean/tmpDRbuXs/generate/out.np'}\n"
     ]
    },
    {
     "name": "stdout",
     "output_type": "stream",
     "text": [
      "."
     ]
    },
    {
     "name": "stderr",
     "output_type": "stream",
     "text": [
      "2017-06-08 12:23:43,068 - packtivity_logger_generate.step - INFO - prepare pull\n",
      "2017-06-08 12:23:44,670 - packtivity_logger_generate.step - INFO - running job\n",
      "2017-06-08 12:23:46,334 - packtivity_logger_generate.step - INFO - publishing data: {'outfile': '/Users/lukas/Code/active_sciencing/clean/tmp2zyKve/generate/out.np'}\n"
     ]
    },
    {
     "name": "stdout",
     "output_type": "stream",
     "text": [
      "."
     ]
    },
    {
     "name": "stderr",
     "output_type": "stream",
     "text": [
      "2017-06-08 12:23:52,908 - packtivity_logger_generate.step - INFO - prepare pull\n",
      "2017-06-08 12:23:54,703 - packtivity_logger_generate.step - INFO - running job\n",
      "2017-06-08 12:23:56,320 - packtivity_logger_generate.step - INFO - publishing data: {'outfile': '/Users/lukas/Code/active_sciencing/clean/tmpCRN2nV/generate/out.np'}\n"
     ]
    },
    {
     "name": "stdout",
     "output_type": "stream",
     "text": [
      "."
     ]
    },
    {
     "name": "stderr",
     "output_type": "stream",
     "text": [
      "2017-06-08 12:24:01,937 - packtivity_logger_generate.step - INFO - prepare pull\n",
      "2017-06-08 12:24:03,637 - packtivity_logger_generate.step - INFO - running job\n",
      "2017-06-08 12:24:05,592 - packtivity_logger_generate.step - INFO - publishing data: {'outfile': '/Users/lukas/Code/active_sciencing/clean/tmpBw0gM2/generate/out.np'}\n"
     ]
    },
    {
     "name": "stdout",
     "output_type": "stream",
     "text": [
      "."
     ]
    },
    {
     "name": "stderr",
     "output_type": "stream",
     "text": [
      "2017-06-08 12:24:12,454 - packtivity_logger_generate.step - INFO - prepare pull\n",
      "2017-06-08 12:24:14,300 - packtivity_logger_generate.step - INFO - running job\n",
      "2017-06-08 12:24:16,729 - packtivity_logger_generate.step - INFO - publishing data: {'outfile': '/Users/lukas/Code/active_sciencing/clean/tmpr4Oi9P/generate/out.np'}\n"
     ]
    },
    {
     "name": "stdout",
     "output_type": "stream",
     "text": [
      "."
     ]
    },
    {
     "name": "stderr",
     "output_type": "stream",
     "text": [
      "2017-06-08 12:24:26,481 - packtivity_logger_generate.step - INFO - prepare pull\n",
      "2017-06-08 12:24:28,106 - packtivity_logger_generate.step - INFO - running job\n",
      "2017-06-08 12:24:29,910 - packtivity_logger_generate.step - INFO - publishing data: {'outfile': '/Users/lukas/Code/active_sciencing/clean/tmp0BJkOD/generate/out.np'}\n"
     ]
    },
    {
     "data": {
      "image/png": "[encoded data removed]",
      "text/plain": [
       "<matplotlib.figure.Figure at 0x112236e50>"
      ]
     },
     "metadata": {},
     "output_type": "display_data"
    }
   ],
   "source": [
    "cm = plt.get_cmap('copper')\n",
    "fig,axarr = plt.subplots(1,3)\n",
    "fig.set_size_inches(20,5)\n",
    "bins = np.linspace(*DATA_RANGE, num = intro_binning)\n",
    "\n",
    "nsteps_phi, theta_nom = 6, intro_theta_nom\n",
    "for i,phi in enumerate(np.linspace(*PHI_RANGE,num = nsteps_phi)):\n",
    "    _=axarr[0].hist(THE_SIMULATOR(theta_nom,phi,10000), bins = bins, color = cm(i/float(nsteps_phi)), alpha = 0.5, histtype='step')\n",
    "\n",
    "nsteps_theta, phi_nom = 6, intro_phi_noms[0]\n",
    "for i,theta in enumerate(np.linspace(*THETA_RANGE,num = nsteps_theta)):\n",
    "    _=axarr[1].hist(THE_SIMULATOR(theta,phi_nom,10000), bins = bins, color = cm(i/float(nsteps_phi)), alpha = 0.5, histtype='step')\n",
    "    \n",
    "nsteps_theta, phi_nom = 6, intro_phi_noms[1]\n",
    "for i,theta in enumerate(np.linspace(*THETA_RANGE,num = nsteps_theta)):\n",
    "    _=axarr[2].hist(THE_SIMULATOR(theta,phi_nom,10000), bins = bins, color = cm(i/float(nsteps_phi)), alpha = 0.5, histtype='step')"
   ]
  },
  {
   "cell_type": "markdown",
   "metadata": {},
   "source": [
    "# An Example Experiment\n",
    "## Taking Data"
   ]
  },
  {
   "cell_type": "code",
   "execution_count": 10,
   "metadata": {},
   "outputs": [
    {
     "name": "stdout",
     "output_type": "stream",
     "text": [
      "."
     ]
    },
    {
     "name": "stderr",
     "output_type": "stream",
     "text": [
      "2017-06-08 12:36:08,618 - packtivity_logger_generate.step - INFO - prepare pull\n",
      "2017-06-08 12:36:13,878 - packtivity_logger_generate.step - INFO - running job\n",
      "2017-06-08 12:36:16,769 - packtivity_logger_generate.step - INFO - publishing data: {'outfile': '/Users/lukas/Code/active_sciencing/clean/tmpIF2ULs/generate/out.np'}\n"
     ]
    },
    {
     "name": "stdout",
     "output_type": "stream",
     "text": [
      "."
     ]
    },
    {
     "name": "stderr",
     "output_type": "stream",
     "text": [
      "2017-06-08 12:36:24,255 - packtivity_logger_generate.step - INFO - prepare pull\n",
      "2017-06-08 12:36:32,501 - packtivity_logger_generate.step - INFO - running job\n",
      "2017-06-08 12:36:36,887 - packtivity_logger_generate.step - INFO - publishing data: {'outfile': '/Users/lukas/Code/active_sciencing/clean/tmp6Ua6rM/generate/out.np'}\n"
     ]
    },
    {
     "name": "stdout",
     "output_type": "stream",
     "text": [
      "."
     ]
    },
    {
     "name": "stderr",
     "output_type": "stream",
     "text": [
      "2017-06-08 12:36:45,788 - packtivity_logger_generate.step - INFO - prepare pull\n",
      "2017-06-08 12:36:52,704 - packtivity_logger_generate.step - INFO - running job\n",
      "2017-06-08 12:36:54,903 - packtivity_logger_generate.step - INFO - publishing data: {'outfile': '/Users/lukas/Code/active_sciencing/clean/tmpDJqWED/generate/out.np'}\n"
     ]
    },
    {
     "data": {
      "text/plain": [
       "[<matplotlib.lines.Line2D at 0x112e66d50>]"
      ]
     },
     "execution_count": 10,
     "metadata": {},
     "output_type": "execute_result"
    },
    {
     "data": {
      "image/png": "[encoded data removed]",
      "text/plain": [
       "<matplotlib.figure.Figure at 0x112663a10>"
      ]
     },
     "metadata": {},
     "output_type": "display_data"
    }
   ],
   "source": [
    "fig,axarr = plt.subplots(1,2)\n",
    "fig.set_size_inches(20,5)\n",
    "\n",
    "\n",
    "bins = np.linspace(*DATA_RANGE, num = 11)\n",
    "example_data = common.collect_data(example_phi,THE_SIMULATOR, theta_nature=example_theta, n_samples = example_ndata)\n",
    "datacounts,bins = np.histogram(example_data,bins = bins)\n",
    "centers = bins[:-1] + (bins[1:]-bins[:-1])/2.\n",
    "axarr[0].errorbar(centers,datacounts,fmt = 'o',xerr = (bins[1:]-bins[:-1])/2.,yerr = np.sqrt(datacounts), c = 'k')\n",
    "\n",
    "n_mc = 10000\n",
    "mc = THE_SIMULATOR(example_theta,example_phi,n_mc) #simulate much more than data\n",
    "mccounts,_,_ = axarr[0].hist(mc,weights = [float(example_ndata)/float(n_mc)]*n_mc, bins = bins)\n",
    "\n",
    "####\n",
    "\n",
    "samples = THE_SIMULATOR(example_theta,example_phi,n_mc)\n",
    "p = distr.Distribution(\n",
    "    name = 'example_simulation',\n",
    "    samples = samples,\n",
    "    range = DATA_RANGE)\n",
    "\n",
    "p.hist(bins = 10, normed = True,ax = axarr[1])\n",
    "\n",
    "xs = np.linspace(*DATA_RANGE,num = 21)\n",
    "logpdf_nomirr = p.approx_logpdf()\n",
    "logpdf_mirror = p.approx_logpdf(mirror = True, mirror_shifts=model_details_shifts)\n",
    "\n",
    "axarr[1].plot(xs,np.exp(logpdf_nomirr(xs)))\n",
    "axarr[1].plot(xs,np.exp(logpdf_mirror(xs)))"
   ]
  },
  {
   "cell_type": "markdown",
   "metadata": {},
   "source": [
    "## The likelihood $p(x|\\theta,\\Phi)$ and the prior $p(\\theta|\\Phi)$"
   ]
  },
  {
   "cell_type": "code",
   "execution_count": null,
   "metadata": {},
   "outputs": [],
   "source": [
    "test_thetas = np.linspace(*THETA_RANGE,num = 6)\n",
    "pool = multiprocessing.Pool(4)\n",
    "\n",
    "\n",
    "nll = [pool.apply_async(common.lnlike,\n",
    "                        args = (theta_test,example_data,example_phi),\n",
    "                        kwds = dict(\n",
    "                         simulator=THE_SIMULATOR,\n",
    "                         simulation_kwargs = {'n_samples': model_details_lnlike_nsim},\n",
    "                         distr_kwargs =  {'range': DATA_RANGE},\n",
    "                         logpdf_kwargs = {'mirror': model_details_mirror, 'mirror_shifts': model_details_shifts}\n",
    "                        )\n",
    "                       ) for theta_test in test_thetas]\n",
    "[r.ready() for r in nll]\n",
    "\n",
    "pool.close()\n",
    "pool.join()\n",
    "nll = [r.get() for r in nll]\n",
    "\n",
    "fig,axarr = plt.subplots(1,2)\n",
    "fig.set_size_inches(20,5)\n",
    "\n",
    "axarr[0].plot(test_thetas,nll)\n",
    "axarr[0].axvline(example_theta, c = 'grey') #truth\n",
    "axarr[0].axvline(test_thetas[np.argmax(nll)], c = 'r') #max NLL\n",
    "\n",
    "\n",
    "example_prior = distr.Distribution('prior',range = THETA_RANGE)\n",
    "xs = np.linspace(*THETA_RANGE,num = 21)\n",
    "logpdf = example_prior.approx_logpdf()\n",
    "axarr[1].plot(xs,np.exp(logpdf(xs)))"
   ]
  },
  {
   "cell_type": "markdown",
   "metadata": {},
   "source": [
    "## The posterior $p(\\theta|x,\\Phi)$"
   ]
  },
  {
   "cell_type": "code",
   "execution_count": null,
   "metadata": {},
   "outputs": [],
   "source": [
    "example_posterior = common.calculate_posterior(\n",
    "    example_prior,example_data,example_phi,\n",
    "    lnprob_args = dict(simulator = THE_SIMULATOR,\n",
    "                       simulation_kwargs = {'n_samples': model_details_lnlike_nsim},\n",
    "                       distr_kwargs =  {'range': DATA_RANGE},\n",
    "                       logpdf_kwargs = {'mirror': model_details_mirror, 'mirror_shifts': model_details_shifts}\n",
    "                  ),\n",
    "    n_chainlen = 50\n",
    ")"
   ]
  },
  {
   "cell_type": "code",
   "execution_count": null,
   "metadata": {},
   "outputs": [],
   "source": [
    "xs = np.linspace(*THETA_RANGE,num = model_details_map_bins+1)\n",
    "example_posterior.hist(bins = model_details_map_bins,normed = True)\n",
    "example_prior.plot()\n",
    "example_posterior.plot()\n",
    "example_best_theta = example_posterior.map(bins = model_details_map_bins)\n",
    "plt.axvline(example_best_theta, c = 'k')"
   ]
  },
  {
   "cell_type": "code",
   "execution_count": null,
   "metadata": {},
   "outputs": [],
   "source": [
    "emcee_kwargs = dict(\n",
    "    n_chainlen = 30,\n",
    "    lnprob_args = dict(simulator = THE_SIMULATOR,\n",
    "                       simulation_kwargs = {'n_samples': model_details_lnlike_nsim},\n",
    "                       distr_kwargs =  {'range': DATA_RANGE},\n",
    "                       logpdf_kwargs = {'mirror': model_details_mirror, 'mirror_shifts': model_details_shifts}\n",
    "                       )\n",
    ")\n",
    "eig_kwargs = dict(emcee_kwargs = emcee_kwargs, sim_n_data = example_ndata, map_bins = model_details_map_bins)\n",
    "\n",
    "# for x in eig_test_phis.reshape(-1,1):\n",
    "#     eig.append(common.expected_information_gain(x,example_posterior, emcee_kwargs = emcee_kwargs,))\n",
    "\n",
    "\n",
    "res_sg = common.design_next_experiment_simplegrid(example_posterior,PHI_RANGE,eig_kwargs)"
   ]
  },
  {
   "cell_type": "code",
   "execution_count": null,
   "metadata": {},
   "outputs": [],
   "source": [
    "example_next_phi = res_sg[0]\n",
    "plt.plot(res_sg[1],res_sg[2])\n",
    "plt.axvline(example_next_phi, c = 'r')"
   ]
  },
  {
   "cell_type": "markdown",
   "metadata": {},
   "source": [
    "## The expected improvement in $\\theta$"
   ]
  },
  {
   "cell_type": "code",
   "execution_count": null,
   "metadata": {},
   "outputs": [],
   "source": [
    "new_data_expected = common.collect_data(example_next_phi,THE_SIMULATOR,theta_nature=example_best_theta, n_samples = example_ndata)\n",
    "example_exp_posterior = common.calculate_posterior(\n",
    "    example_posterior,new_data_expected,example_next_phi,\n",
    "    lnprob_args = dict(simulator = THE_SIMULATOR,\n",
    "                       simulation_kwargs = {'n_samples': model_details_lnlike_nsim},\n",
    "                       distr_kwargs =  {'range': DATA_RANGE},\n",
    "                       logpdf_kwargs = {'mirror': model_details_mirror, 'mirror_shifts': model_details_shifts}\n",
    "                  ),\n",
    "    n_chainlen = 50\n",
    ")"
   ]
  },
  {
   "cell_type": "code",
   "execution_count": null,
   "metadata": {},
   "outputs": [],
   "source": [
    "xs = np.linspace(*THETA_RANGE,num = 21)\n",
    "logpdf_prior = example_prior.approx_logpdf()\n",
    "logpdf_postr = example_posterior.approx_logpdf()\n",
    "logpdf_exp_postr = example_exp_posterior.approx_logpdf()\n",
    "plt.plot(xs,np.exp(logpdf_prior(xs)))\n",
    "plt.plot(xs,np.exp(logpdf_postr(xs)))\n",
    "plt.plot(xs,np.exp(logpdf_exp_postr(xs)))"
   ]
  },
  {
   "cell_type": "markdown",
   "metadata": {},
   "source": [
    "## The whole story for a single 'science iteration'"
   ]
  },
  {
   "cell_type": "code",
   "execution_count": null,
   "metadata": {},
   "outputs": [],
   "source": [
    "def summary_plot(data,prior,posterior,best_theta,true_theta,res_sg,expected_posterior):\n",
    "    fig,axarr = plt.subplots(1,4)\n",
    "    fig.set_size_inches(20,4)\n",
    "    bins = np.linspace(*DATA_RANGE, num = 11)\n",
    "    axarr[0].hist(data, bins = bins)\n",
    "    axarr[0].set_title('data')\n",
    "\n",
    "\n",
    "    xs = np.linspace(*THETA_RANGE,num = model_details_map_bins)\n",
    "    logpdf_prior = prior.approx_logpdf()\n",
    "    logpdf_postr = posterior.approx_logpdf()\n",
    "    axarr[1].plot(xs,np.exp(logpdf_prior(xs)))\n",
    "    axarr[1].plot(xs,np.exp(logpdf_postr(xs)))\n",
    "    axarr[1].axvline(best_theta, c = 'k')\n",
    "    axarr[1].axvline(true_theta, c = 'grey')\n",
    "    axarr[1].set_title('prior and posterior of parameter of interest')\n",
    "\n",
    "    axarr[2].plot(res_sg[1],res_sg[2])\n",
    "    axarr[2].axvline(res_sg[0], c = 'r')\n",
    "    axarr[2].set_title('expected information gain - next expt')\n",
    "\n",
    "    logpdf_prior = prior.approx_logpdf()\n",
    "    logpdf_postr = posterior.approx_logpdf()\n",
    "    logpdf_exp_postr = expected_posterior.approx_logpdf()\n",
    "    axarr[3].plot(xs,np.exp(logpdf_prior(xs)))\n",
    "    axarr[3].plot(xs,np.exp(logpdf_postr(xs)))\n",
    "    axarr[3].plot(xs,np.exp(logpdf_exp_postr(xs)))\n",
    "    axarr[3].set_title('expected posterior after next exp')\n",
    "    \n",
    "summary_plot(example_data,example_prior,example_posterior,example_best_theta,example_theta,res_sg,example_exp_posterior)"
   ]
  },
  {
   "cell_type": "code",
   "execution_count": null,
   "metadata": {
    "collapsed": true
   },
   "outputs": [],
   "source": []
  },
  {
   "cell_type": "code",
   "execution_count": null,
   "metadata": {
    "collapsed": true
   },
   "outputs": [],
   "source": []
  }
 ],
 "metadata": {
  "kernelspec": {
   "display_name": "Python 2",
   "language": "python",
   "name": "python2"
  },
  "language_info": {
   "codemirror_mode": {
    "name": "ipython",
    "version": 2
   },
   "file_extension": ".py",
   "mimetype": "text/x-python",
   "name": "python",
   "nbconvert_exporter": "python",
   "pygments_lexer": "ipython2",
   "version": "2.7.10"
  }
 },
 "nbformat": 4,
 "nbformat_minor": 2
}
