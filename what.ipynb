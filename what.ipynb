{
 "cells": [
  {
   "cell_type": "code",
   "execution_count": null,
   "metadata": {
    "collapsed": true
   },
   "outputs": [],
   "source": [
    "import numpy as np\n",
    "import matplotlib.pyplot as plt\n",
    "%matplotlib nbagg"
   ]
  },
  {
   "cell_type": "code",
   "execution_count": null,
   "metadata": {},
   "outputs": [],
   "source": [
    "def plot_bayes(res,ax = plt):\n",
    "    x = np.linspace(-5,5,100).reshape(-1,1)\n",
    "    try:\n",
    "        prd,std = res.models[-1].predict(x, return_std = True)\n",
    "        plt.plot(x[:,0],prd,linestyle = 'solid', c = 'k')\n",
    "        plt.plot(x[:,0],prd+std,linestyle = 'dashed', c= 'k')\n",
    "        plt.plot(x[:,0],prd-std,linestyle = 'dashed', c= 'k')\n",
    "        plt.fill_between(x[:,0].ravel(),prd+std,prd-std, alpha = 0.2, color = 'k')\n",
    "    except IndexError:\n",
    "        pass #we don't havea  model yet\n",
    "\n",
    "    plt.scatter(res.x_iters,res.func_vals, marker = '.', s = 200, color = 'k')\n",
    "    plt.axvline(res.x[0],color = 'r')\n",
    "    plt.axvline(res.x_iters[-1],color = 'b')\n"
   ]
  },
  {
   "cell_type": "code",
   "execution_count": null,
   "metadata": {},
   "outputs": [],
   "source": [
    "fig,ax = plt.subplots(1,1)"
   ]
  },
  {
   "cell_type": "code",
   "execution_count": null,
   "metadata": {
    "collapsed": true
   },
   "outputs": [],
   "source": [
    "def fnew(x):\n",
    "    return x[0]**2\n",
    "\n",
    "import bayesopt\n",
    "def fancy_pants_bayes(function, x_range, n_random,n_total, ax = None, fig = None, delay = None):\n",
    "    opt = bayesopt.get_optimizer(x_range,n_random)\n",
    "    for i in range(n_total):    \n",
    "        # ask next x\n",
    "        next_x = opt.ask()\n",
    "\n",
    "        next_f = function(next_x)\n",
    "\n",
    "        # tell a pair to the optimizer\n",
    "        res = opt.tell(next_x, next_f)\n",
    "        if ax:\n",
    "            import time\n",
    "            if delay: time.sleep(delay)\n",
    "            ax.clear()\n",
    "            plot_bayes(res, ax = ax)\n",
    "            fig.canvas.draw()\n",
    "    return res"
   ]
  },
  {
   "cell_type": "code",
   "execution_count": null,
   "metadata": {},
   "outputs": [],
   "source": [
    "res = fancy_pants_bayes(fnew, [-5.0,5.0], 2, 10, ax = ax, fig = fig, delay = 2)"
   ]
  },
  {
   "cell_type": "code",
   "execution_count": null,
   "metadata": {
    "collapsed": true
   },
   "outputs": [],
   "source": []
  },
  {
   "cell_type": "code",
   "execution_count": null,
   "metadata": {
    "collapsed": true
   },
   "outputs": [],
   "source": []
  }
 ],
 "metadata": {
  "kernelspec": {
   "display_name": "Python 2",
   "language": "python",
   "name": "python2"
  },
  "language_info": {
   "codemirror_mode": {
    "name": "ipython",
    "version": 2
   },
   "file_extension": ".py",
   "mimetype": "text/x-python",
   "name": "python",
   "nbconvert_exporter": "python",
   "pygments_lexer": "ipython2",
   "version": "2.7.10"
  }
 },
 "nbformat": 4,
 "nbformat_minor": 2
}
