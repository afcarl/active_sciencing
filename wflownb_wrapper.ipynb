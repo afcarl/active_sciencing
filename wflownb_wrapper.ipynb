{
 "cells": [
  {
   "cell_type": "code",
   "execution_count": 26,
   "metadata": {},
   "outputs": [
    {
     "name": "stdout",
     "output_type": "stream",
     "text": [
      "Populating the interactive namespace from numpy and matplotlib\n"
     ]
    }
   ],
   "source": [
    "%pylab inline"
   ]
  },
  {
   "cell_type": "code",
   "execution_count": 27,
   "metadata": {
    "collapsed": true
   },
   "outputs": [],
   "source": [
    "import yadage_wrapper\n",
    "import ipywidgets\n",
    "import logging\n",
    "logging.basicConfig(level = logging.WARNING)"
   ]
  },
  {
   "cell_type": "code",
   "execution_count": 28,
   "metadata": {},
   "outputs": [],
   "source": [
    "import multiprocessing\n",
    "pool = multiprocessing.Pool(processes=50)"
   ]
  },
  {
   "cell_type": "code",
   "execution_count": 29,
   "metadata": {},
   "outputs": [],
   "source": [
    "kwarglist = [dict(\n",
    "    backend = 'celery',\n",
    "    nevents_per_thread = 2500,\n",
    "    workdir = '/srv/workerdata/workdirs/work{}'.format(energy),\n",
    "    Gf=1.5e-05,\n",
    "    sqrtshalf=energy,\n",
    ") for energy in map(float,np.linspace(40.,50.,51))]\n",
    "results = [pool.apply_async(yadage_wrapper.run_weinberg_yadage,kwds=kwargs) for kwargs in kwarglist] "
   ]
  },
  {
   "cell_type": "code",
   "execution_count": 30,
   "metadata": {},
   "outputs": [
    {
     "data": {
      "application/vnd.jupyter.widget-view+json": {
       "model_id": "27dfeb9ce24b4c5697c9a18e3c1f7b87"
      }
     },
     "metadata": {},
     "output_type": "display_data"
    }
   ],
   "source": [
    "widg = ipywidgets.IntProgress(\n",
    "    value=0,\n",
    "    min=0,\n",
    "    max=len(results),\n",
    "    step=1,\n",
    "    description='Yadage Workflows:',\n",
    "    bar_style='', # 'success', 'info', 'warning', 'danger' or ''\n",
    "    orientation='horizontal'\n",
    ")\n",
    "widg"
   ]
  },
  {
   "cell_type": "code",
   "execution_count": 31,
   "metadata": {},
   "outputs": [],
   "source": [
    "widg.value = len(filter(lambda x:x,[r.ready() for r in results]))\n",
    "while not widg.value == widg.max: \n",
    "    widg.value = len(filter(lambda x:x,[r.ready() for r in results]))"
   ]
  },
  {
   "cell_type": "code",
   "execution_count": 37,
   "metadata": {},
   "outputs": [
    {
     "data": {
      "image/png": "[encoded data removed]",
      "text/plain": [
       "<matplotlib.figure.Figure at 0x7fc7b8b2d1d0>"
      ]
     },
     "metadata": {},
     "output_type": "display_data"
    }
   ],
   "source": [
    "for r in results:\n",
    "    plt.hist(r.get(), histtype='step')"
   ]
  },
  {
   "cell_type": "code",
   "execution_count": null,
   "metadata": {
    "collapsed": true
   },
   "outputs": [],
   "source": []
  }
 ],
 "metadata": {
  "kernelspec": {
   "display_name": "Python 2",
   "language": "python",
   "name": "python2"
  },
  "language_info": {
   "codemirror_mode": {
    "name": "ipython",
    "version": 2
   },
   "file_extension": ".py",
   "mimetype": "text/x-python",
   "name": "python",
   "nbconvert_exporter": "python",
   "pygments_lexer": "ipython2",
   "version": "2.7.13"
  },
  "widgets": {
   "application/vnd.jupyter.widget-state+json": {
    "state": {
     "0dc815d107894bad8ae48da73a7c9307": {
      "model_module": "jupyter-js-widgets",
      "model_module_version": "~2.1.4",
      "model_name": "ProgressStyleModel",
      "state": {
       "_model_module_version": "~2.1.4",
       "_view_module_version": "~2.1.4"
      }
     },
     "25dfd868b28d4f94a1698bf546bc8900": {
      "model_module": "jupyter-js-widgets",
      "model_module_version": "~2.1.4",
      "model_name": "ProgressModel",
      "state": {
       "_model_module_version": "~2.1.4",
       "_view_module_version": "~2.1.4",
       "description": "Yadage Workflows:",
       "layout": "IPY_MODEL_a9199ed6d8be4eac8e6b604344aac03b",
       "max": 11,
       "style": "IPY_MODEL_91ec6ac14d234f429d46a3833e7e14e3",
       "value": 11
      }
     },
     "27dfeb9ce24b4c5697c9a18e3c1f7b87": {
      "model_module": "jupyter-js-widgets",
      "model_module_version": "~2.1.4",
      "model_name": "ProgressModel",
      "state": {
       "_model_module_version": "~2.1.4",
       "_view_module_version": "~2.1.4",
       "description": "Yadage Workflows:",
       "layout": "IPY_MODEL_ab4ce90f4b64466cb24812fd90f6f99b",
       "max": 51,
       "style": "IPY_MODEL_a0cb91fa140b4b9e8eecac2cadbc3d74",
       "value": 51
      }
     },
     "2cff4d77dc09467e8f3a4ac57df1703d": {
      "model_module": "jupyter-js-widgets",
      "model_module_version": "~2.1.4",
      "model_name": "ProgressModel",
      "state": {
       "_model_module_version": "~2.1.4",
       "_view_module_version": "~2.1.4",
       "description": "Yadage Workflows:",
       "layout": "IPY_MODEL_f08f9b1fa7ce41009c485c186fdae40d",
       "max": 11,
       "style": "IPY_MODEL_0dc815d107894bad8ae48da73a7c9307",
       "value": 11
      }
     },
     "311ba7efc2c748c9be3d0f2ff4ad0090": {
      "model_module": "jupyter-js-widgets",
      "model_module_version": "~2.1.4",
      "model_name": "LayoutModel",
      "state": {
       "_model_module_version": "~2.1.4",
       "_view_module_version": "~2.1.4"
      }
     },
     "60e32f24124541959c2923d9cfa4db12": {
      "model_module": "jupyter-js-widgets",
      "model_module_version": "~2.1.4",
      "model_name": "ProgressStyleModel",
      "state": {
       "_model_module_version": "~2.1.4",
       "_view_module_version": "~2.1.4"
      }
     },
     "651d1c7b0cb949ecb94be2176741bd55": {
      "model_module": "jupyter-js-widgets",
      "model_module_version": "~2.1.4",
      "model_name": "LayoutModel",
      "state": {
       "_model_module_version": "~2.1.4",
       "_view_module_version": "~2.1.4"
      }
     },
     "91ec6ac14d234f429d46a3833e7e14e3": {
      "model_module": "jupyter-js-widgets",
      "model_module_version": "~2.1.4",
      "model_name": "ProgressStyleModel",
      "state": {
       "_model_module_version": "~2.1.4",
       "_view_module_version": "~2.1.4"
      }
     },
     "947e817604e04ec4a3046b167afb84e1": {
      "model_module": "jupyter-js-widgets",
      "model_module_version": "~2.1.4",
      "model_name": "ProgressModel",
      "state": {
       "_model_module_version": "~2.1.4",
       "_view_module_version": "~2.1.4",
       "description": "Loading:",
       "layout": "IPY_MODEL_651d1c7b0cb949ecb94be2176741bd55",
       "max": 10,
       "style": "IPY_MODEL_f24e700fd527451d9ec17afe87daef24"
      }
     },
     "a0cb91fa140b4b9e8eecac2cadbc3d74": {
      "model_module": "jupyter-js-widgets",
      "model_module_version": "~2.1.4",
      "model_name": "ProgressStyleModel",
      "state": {
       "_model_module_version": "~2.1.4",
       "_view_module_version": "~2.1.4"
      }
     },
     "a9199ed6d8be4eac8e6b604344aac03b": {
      "model_module": "jupyter-js-widgets",
      "model_module_version": "~2.1.4",
      "model_name": "LayoutModel",
      "state": {
       "_model_module_version": "~2.1.4",
       "_view_module_version": "~2.1.4"
      }
     },
     "ab4ce90f4b64466cb24812fd90f6f99b": {
      "model_module": "jupyter-js-widgets",
      "model_module_version": "~2.1.4",
      "model_name": "LayoutModel",
      "state": {
       "_model_module_version": "~2.1.4",
       "_view_module_version": "~2.1.4"
      }
     },
     "eed7d45ce8204aa4bf80102b3501be27": {
      "model_module": "jupyter-js-widgets",
      "model_module_version": "~2.1.4",
      "model_name": "ProgressModel",
      "state": {
       "_model_module_version": "~2.1.4",
       "_view_module_version": "~2.1.4",
       "description": "Yadage Workflows:",
       "layout": "IPY_MODEL_311ba7efc2c748c9be3d0f2ff4ad0090",
       "max": 11,
       "style": "IPY_MODEL_60e32f24124541959c2923d9cfa4db12"
      }
     },
     "f08f9b1fa7ce41009c485c186fdae40d": {
      "model_module": "jupyter-js-widgets",
      "model_module_version": "~2.1.4",
      "model_name": "LayoutModel",
      "state": {
       "_model_module_version": "~2.1.4",
       "_view_module_version": "~2.1.4"
      }
     },
     "f24e700fd527451d9ec17afe87daef24": {
      "model_module": "jupyter-js-widgets",
      "model_module_version": "~2.1.4",
      "model_name": "ProgressStyleModel",
      "state": {
       "_model_module_version": "~2.1.4",
       "_view_module_version": "~2.1.4"
      }
     }
    },
    "version_major": 1,
    "version_minor": 0
   }
  }
 },
 "nbformat": 4,
 "nbformat_minor": 2
}
