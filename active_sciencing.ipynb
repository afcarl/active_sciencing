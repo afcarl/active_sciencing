{
 "cells": [
  {
   "cell_type": "markdown",
   "metadata": {},
   "source": [
    "## \"Active Sciencing\" with Reusable Workflows\n",
    "\n",
    "By Kyle Cranmer & Lukas Heinrich June 4, 2016\n",
    "\n",
    "Based on earlier work with NYU CDS masters students Manoj Kumar, Phil Yeres, and Michele Ceru and discussions with Brenden Lake and Gilles Louppe.\n",
    "\n",
    "Define:\n",
    "\n",
    " 1) $\\phi$ : Experimental configuration\n",
    "\n",
    " 2) $\\theta$: Parameters that we would like to infer from the experimental data\n",
    "\n",
    " 3) $X$ : Data generated from the experiment or simulator\n",
    "\n"
   ]
  },
  {
   "cell_type": "code",
   "execution_count": 1,
   "metadata": {
    "collapsed": true
   },
   "outputs": [],
   "source": [
    "import numpy as np\n",
    "import matplotlib.pyplot as plt\n",
    "\n",
    "%matplotlib inline\n",
    "\n",
    "import emcee\n",
    "from scipy.stats import norm"
   ]
  },
  {
   "cell_type": "code",
   "execution_count": 2,
   "metadata": {
    "collapsed": true
   },
   "outputs": [],
   "source": [
    "#put this in a separate file\n",
    "from scipy.stats import entropy, gaussian_kde\n",
    "\n",
    "\n",
    "class Distribution:\n",
    "    '''\n",
    "    member vars\n",
    "        variable names\n",
    "        ranges  (for use with george)\n",
    "    methods\n",
    "        density estimate (KDE or histogram) (for use with emcee)\n",
    "        MAP (for saddle point approximation)\n",
    "        \n",
    "    '''\n",
    "    def __init__(self, name, range, samples=None):\n",
    "        self.range = range\n",
    "        self.name = name\n",
    "        if samples is None:\n",
    "            self.samples = np.random.uniform(range[0], range[1], size=10000)\n",
    "        else:\n",
    "            self.samples = samples\n",
    "        \n",
    "    def map(self):\n",
    "        \"\"\"Calculate maximum a posterior estimate\"\"\"\n",
    "        prob, edges = np.histogram(self.samples, range=self.range, bins=100)\n",
    "        prob = prob.clip(min=0.0000000001)\n",
    "        return edges[np.argmax(prob)]\n",
    "    \n",
    "    def entropy(self):\n",
    "        \"\"\"Compute Shannon entropy of this distribution\"\"\"\n",
    "        prob, edges = np.histogram(self.samples, range=self.range, bins=100)\n",
    "        prob = prob.clip(min=0.0000000001)\n",
    "        return entropy(prob)\n",
    "    \n",
    "    def hist(self):\n",
    "        \"\"\"Plot distribution samples as histogram\"\"\"\n",
    "        plt.hist(self.samples, range=self.range, bins=100, histtype='step')\n",
    "        \n",
    "    def plot(self):\n",
    "        \"\"\"Draw distribution using KDE\"\"\"\n",
    "        xs = np.linspace(*self.range, 100)\n",
    "        kernel = gaussian_kde(self.samples[~np.isnan(self.samples)])\n",
    "        plt.plot(xs, [kernel(x) for x in xs])\n",
    "\n",
    "    def pdf(self, theta):\n",
    "        kernel = gaussian_kde(self.samples[~np.isnan(self.samples)])\n",
    "        return kernel(theta)\n"
   ]
  },
  {
   "cell_type": "markdown",
   "metadata": {},
   "source": [
    "## Step 1: Perform Experiment, Collect Data"
   ]
  },
  {
   "cell_type": "code",
   "execution_count": 3,
   "metadata": {
    "collapsed": true
   },
   "outputs": [],
   "source": [
    "def simulator(theta, phi, n_samples=100):\n",
    "    return np.random.normal(loc=theta, scale=2 + np.sin(phi), size=n_samples)\n",
    "\n",
    "def collect_data(phi, n_samples=100):\n",
    "    # 3.141 is the unknown parameter we are trying to measure\n",
    "    # best experimental setting is 3pi/2 (or any multiple of it)\n",
    "    return simulator(3.141, phi, n_samples)"
   ]
  },
  {
   "cell_type": "markdown",
   "metadata": {},
   "source": [
    "## Step 2: Bayesian Prior → Posterior Update "
   ]
  },
  {
   "cell_type": "code",
   "execution_count": 4,
   "metadata": {
    "collapsed": true
   },
   "outputs": [],
   "source": [
    "def lnprior(theta, prior):\n",
    "    p = prior.pdf(theta)\n",
    "    if p <= 1e-8:\n",
    "        return -np.inf\n",
    "    else:\n",
    "        return np.log(p)\n",
    "\n",
    "def lnlike(theta, x, phi):\n",
    "    mean, std = theta, 2 + np.sin(phi)\n",
    "    return np.log(norm(mean, std).pdf(x).prod())\n",
    "\n",
    "def lnprob(theta, x, prior, phi):\n",
    "    lp = lnprior(theta, prior)\n",
    "    if not np.isfinite(lp):\n",
    "        return -np.inf\n",
    "    return lp + lnlike(theta, x, phi)\n",
    "\n",
    "def calculate_posterior(prior, data, phi):\n",
    "    \"\"\"Compute samples from the posterior\"\"\"\n",
    "    ndim, n_walkers = 1, 10\n",
    "    # initialise walkers from the MAP + noise\n",
    "    # XXX alternatively sample a point from the KDE without adding noise?\n",
    "    # XXX not sure if the noise takes us into a region where the prior is zero?\n",
    "    pos = [prior.map() + 1e-1*np.random.randn(ndim) for i in range(n_walkers)]\n",
    "    \n",
    "    sampler = emcee.EnsembleSampler(n_walkers, 1, lnprob, args=(data, prior, phi))\n",
    "    pos, prob, state = sampler.run_mcmc(pos, 100)\n",
    "    \n",
    "    sampler.reset()\n",
    "    pos, prob, state = sampler.run_mcmc(pos, 300)\n",
    "    \n",
    "    return Distribution(prior.name, prior.range, sampler.flatchain)"
   ]
  },
  {
   "cell_type": "markdown",
   "metadata": {},
   "source": [
    "## Step 3: Optimize Experimental Configuration\n",
    "\n",
    "Based on the updated posterior $p(\\theta)$ we will consider future experiments with configuration $\\phi$. For each of those configurations, we will run several simulations of the experiment and perform inference on those simulated datasets to estimate the expected information gain (EIG)\n",
    "\n",
    "\\begin{equation}\n",
    "EIG(\\phi) =  \\int dx d\\theta \\; p(x | \\theta) p(\\theta) \\big [ H\\left [P(\\theta) \\right] - H\\left[ P(\\theta\\, |\\, x) \\right] \\big ] \\approx \\int dx  \\; p(x | \\theta_{MAP}) \\big [ H\\left [P(\\theta) \\right] - H\\left[ P(\\theta\\, |\\, x) \\right] \\big ]\n",
    "\\end{equation}\n",
    "where\n",
    "\\begin{equation}\n",
    "H\\left [P(\\theta) \\right] = \\int P(\\theta) \\log P(\\theta) d\\theta \n",
    "\\end{equation}\n",
    "\n",
    "To efficiently optimize $EIG[\\phi]$ we will use an active learning procedure like Bayesian Optimization."
   ]
  },
  {
   "cell_type": "code",
   "execution_count": 5,
   "metadata": {
    "collapsed": true
   },
   "outputs": [],
   "source": [
    "def info_gain(p1, p2):\n",
    "    return p1.entropy() - p2.entropy()\n",
    "\n",
    "def expected_information_gain(phi, prior):\n",
    "    'calculate the expression above using workflow for simulations'\n",
    "    n_simulations = 2\n",
    "    \n",
    "    #need to pass in prior through some extra arguments\n",
    "    \n",
    "    # use saddle-point approximation\n",
    "    theta_map = prior.map()\n",
    "    \n",
    "    eig = np.zeros(n_simulations)\n",
    "    \n",
    "    for i_sim in range(n_simulations):\n",
    "        # external workflow provides simulated data\n",
    "        sim_data = simulator(theta_map, phi)\n",
    "\n",
    "        #external workflow uses simulator to provide likelihood \n",
    "        sim_posterior = calculate_posterior(prior, sim_data, phi)\n",
    "        eig[i_sim] = info_gain(prior, sim_posterior)\n",
    "        \n",
    "    #check for outliers?\n",
    "    \n",
    "    return np.mean(eig)"
   ]
  },
  {
   "cell_type": "code",
   "execution_count": 6,
   "metadata": {
    "collapsed": true
   },
   "outputs": [],
   "source": [
    "#use scikit-optimize to optimize phi\n",
    "from skopt import gp_minimize\n",
    "\n",
    "\n",
    "def design_next_experiment(prior):\n",
    "    bounds = [(0., 2*np.pi)]\n",
    "    n_calls = 10\n",
    "    \n",
    "    func = lambda p: -expected_information_gain(p, prior)\n",
    "\n",
    "    # five random points to initialise things, then five using the GP model\n",
    "    # XXX Should we be reusing the random number generator? Means this call eseentially evaluates\n",
    "    # XXX the same values of phi each science iteration\n",
    "    opt_result = gp_minimize(func, bounds, n_random_starts=5, n_calls=n_calls, random_state=4)\n",
    "\n",
    "    return opt_result.x[0], opt_result.x_iters"
   ]
  },
  {
   "cell_type": "markdown",
   "metadata": {},
   "source": [
    "## Run the loop"
   ]
  },
  {
   "cell_type": "markdown",
   "metadata": {},
   "source": [
    "### Initialize"
   ]
  },
  {
   "cell_type": "code",
   "execution_count": 7,
   "metadata": {},
   "outputs": [],
   "source": [
    "tempdata = np.random.uniform(0., 2*np.pi, 100000)\n",
    "prior_theta = Distribution('p(theta)', range=(0., 2*np.pi), samples=tempdata)\n",
    "\n",
    "n_science_iterations = 4\n",
    "phi_history = []\n",
    "prior_history = []\n",
    "\n",
    "phi = 1.2345"
   ]
  },
  {
   "cell_type": "code",
   "execution_count": 8,
   "metadata": {},
   "outputs": [
    {
     "name": "stdout",
     "output_type": "stream",
     "text": [
      "Experimental settings (0): 1.2345\n",
      "next phi: 4.83879925182 phi's tested in gp_min: [[6.0760276760949745], [3.4383616276357372], [6.1115560790547416], [4.4913213487917449], [4.3839594991052548], [4.838799251815213], [0.00078943216104006601], [4.5963713942156277], [1.7870223453607059], [4.835912309381464]]\n",
      "Experimental settings (1): 4.83879925182\n",
      "next phi: 4.49132134879 phi's tested in gp_min: [[6.0760276760949745], [3.4383616276357372], [6.1115560790547416], [4.4913213487917449], [4.3839594991052548], [4.9090495382100272], [0.00079973674972127985], [1.7594635444422297], [4.2720368054813385], [4.5549591439225239]]\n",
      "Experimental settings (2): 4.49132134879\n"
     ]
    },
    {
     "name": "stderr",
     "output_type": "stream",
     "text": [
      "/home/thead/anaconda/envs/robot-phys/lib/python3.6/site-packages/emcee/ensemble.py:335: RuntimeWarning: invalid value encountered in subtract\n",
      "  lnpdiff = (self.dim - 1.) * np.log(zz) + newlnprob - lnprob0\n",
      "/home/thead/anaconda/envs/robot-phys/lib/python3.6/site-packages/emcee/ensemble.py:336: RuntimeWarning: invalid value encountered in greater\n",
      "  accept = (lnpdiff > np.log(self._random.rand(len(lnpdiff))))\n"
     ]
    },
    {
     "name": "stdout",
     "output_type": "stream",
     "text": [
      "next phi: 4.81634174263 phi's tested in gp_min: [[6.0760276760949745], [3.4383616276357372], [6.1115560790547416], [4.4913213487917449], [4.3839594991052548], [5.1407176528729854], [0.0], [1.6855327992000115], [4.8163417426325141], [4.8936107149126187]]\n",
      "Experimental settings (3): 4.81634174263\n",
      "next phi: 4.38395949911 phi's tested in gp_min: [[6.0760276760949745], [3.4383616276357372], [6.1115560790547416], [4.4913213487917449], [4.3839594991052548], [0.0], [0.0007893097522830209], [4.2001437233036976], [1.7484992392546115], [4.8891614634472393]]\n"
     ]
    }
   ],
   "source": [
    "for i_experiment in range(n_science_iterations):\n",
    "    print(\"Experimental settings ({}):\".format(i_experiment), phi)\n",
    "    \n",
    "    phi_history.append(phi)\n",
    "    prior_history.append(prior_theta)\n",
    "\n",
    "    # run experiment with configuration given by phi\n",
    "    real_data = collect_data(phi)\n",
    "\n",
    "    # update new prior = posterior from previous experiment\n",
    "    prior_theta = calculate_posterior(prior_theta, real_data, phi)\n",
    "\n",
    "    #design new experiment given current knowledge\n",
    "    phi, phi_iter = design_next_experiment(prior_theta)\n",
    "    \n",
    "    print('next phi:', phi, \"phi's tested in gp_min:\", phi_iter)"
   ]
  },
  {
   "cell_type": "code",
   "execution_count": 9,
   "metadata": {},
   "outputs": [
    {
     "data": {
      "text/plain": [
       "<matplotlib.text.Text at 0x7fce181f9470>"
      ]
     },
     "execution_count": 9,
     "metadata": {},
     "output_type": "execute_result"
    },
    {
     "data": {
      "image/png": "[encoded data removed]",
      "text/plain": [
       "<matplotlib.figure.Figure at 0x7fce1f6c88d0>"
      ]
     },
     "metadata": {},
     "output_type": "display_data"
    }
   ],
   "source": [
    "plt.plot(phi_history)\n",
    "plt.xlabel('Iteration')\n",
    "plt.ylabel('$\\phi$')"
   ]
  },
  {
   "cell_type": "code",
   "execution_count": 10,
   "metadata": {
    "scrolled": false
   },
   "outputs": [
    {
     "name": "stdout",
     "output_type": "stream",
     "text": [
      "0 1.2345\n"
     ]
    },
    {
     "data": {
      "image/png": "[encoded data removed]",
      "text/plain": [
       "<matplotlib.figure.Figure at 0x7fce5543dc88>"
      ]
     },
     "metadata": {},
     "output_type": "display_data"
    },
    {
     "name": "stdout",
     "output_type": "stream",
     "text": [
      "1 4.83879925182\n"
     ]
    },
    {
     "data": {
      "image/png": "[encoded data removed]",
      "text/plain": [
       "<matplotlib.figure.Figure at 0x7fce1832bac8>"
      ]
     },
     "metadata": {},
     "output_type": "display_data"
    },
    {
     "name": "stdout",
     "output_type": "stream",
     "text": [
      "2 4.49132134879\n"
     ]
    },
    {
     "data": {
      "image/png": "[encoded data removed]",
      "text/plain": [
       "<matplotlib.figure.Figure at 0x7fce0ba45a90>"
      ]
     },
     "metadata": {},
     "output_type": "display_data"
    },
    {
     "name": "stdout",
     "output_type": "stream",
     "text": [
      "3 4.81634174263\n"
     ]
    },
    {
     "data": {
      "image/png": "[encoded data removed]",
      "text/plain": [
       "<matplotlib.figure.Figure at 0x7fce0bacf748>"
      ]
     },
     "metadata": {},
     "output_type": "display_data"
    }
   ],
   "source": [
    "for n,prior in enumerate(prior_history):\n",
    "    print(n, phi_history[n])\n",
    "    prior.plot()\n",
    "    plt.show()"
   ]
  }
 ],
 "metadata": {
  "kernelspec": {
   "display_name": "Python 3",
   "language": "python",
   "name": "python3"
  },
  "language_info": {
   "codemirror_mode": {
    "name": "ipython",
    "version": 3
   },
   "file_extension": ".py",
   "mimetype": "text/x-python",
   "name": "python",
   "nbconvert_exporter": "python",
   "pygments_lexer": "ipython3",
   "version": "3.6.1"
  }
 },
 "nbformat": 4,
 "nbformat_minor": 2
}
